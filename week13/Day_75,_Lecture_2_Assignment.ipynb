{
 "cells": [
  {
   "cell_type": "markdown",
   "metadata": {
    "id": "9pYhNHOMPsIj"
   },
   "source": [
    "# Text Summarization and Natural Language Generation Assignment"
   ]
  },
  {
   "cell_type": "code",
   "execution_count": 1,
   "metadata": {
    "id": "5f3HWPFkPsIk"
   },
   "outputs": [],
   "source": [
    "# !pip install markovify\n",
    "\n",
    "import re\n",
    "import markovify\n",
    "from nltk import pos_tag\n",
    "from nltk import sent_tokenize\n",
    "from gensim.summarization import summarize\n",
    "import nltk\n",
    "\n",
    "import requests\n",
    "from bs4 import BeautifulSoup"
   ]
  },
  {
   "cell_type": "markdown",
   "metadata": {
    "id": "TClncKT6PsIm"
   },
   "source": [
    "### Scrape and clean the text from the 3 Presidential State of the Union Address URLs below and save them into a list."
   ]
  },
  {
   "cell_type": "code",
   "execution_count": 2,
   "metadata": {
    "id": "iuF8XmYePsIn"
   },
   "outputs": [],
   "source": [
    "lincoln = 'https://en.wikisource.org/wiki/Abraham_Lincoln%27s_First_State_of_the_Union_Address'\n",
    "roosevelt = 'https://en.wikisource.org/wiki/Theodore_Roosevelt%27s_First_State_of_the_Union_Address'\n",
    "obama = 'https://en.wikisource.org/wiki/Barack_Obama%27s_Second_State_of_the_Union_Address'"
   ]
  },
  {
   "cell_type": "code",
   "execution_count": 3,
   "metadata": {
    "id": "TGuK0t2wPsIq"
   },
   "outputs": [],
   "source": [
    "response = requests.get(lincoln)\n",
    "content = response.text\n",
    "\n",
    "soup = BeautifulSoup(content, 'lxml')\n",
    "article = soup.find_all('div', class_='mw-parser-output') \n",
    "text = [tag.get_text() for tag in article]\n",
    "lincoln_text = text[0].replace('\\n', '')"
   ]
  },
  {
   "cell_type": "code",
   "execution_count": 4,
   "metadata": {},
   "outputs": [],
   "source": [
    "response = requests.get(roosevelt)\n",
    "content = response.text\n",
    "\n",
    "soup = BeautifulSoup(content, 'lxml')\n",
    "article = soup.find_all('div', class_='mw-parser-output') \n",
    "text = [tag.get_text() for tag in article]\n",
    "roosevelt_text = text[0].replace('\\n', '')"
   ]
  },
  {
   "cell_type": "code",
   "execution_count": 5,
   "metadata": {},
   "outputs": [],
   "source": [
    "response = requests.get(obama)\n",
    "content = response.text\n",
    "\n",
    "soup = BeautifulSoup(content, 'lxml')\n",
    "article = soup.find_all('div', class_='mw-parser-output') \n",
    "text = [tag.get_text() for tag in article]\n",
    "obama_text = text[0].replace('\\n', '')"
   ]
  },
  {
   "cell_type": "markdown",
   "metadata": {
    "id": "dl0uAJJDPsIs"
   },
   "source": [
    "### For each State of the Union Address, use the Gensim `summarize` function and print a summary of each address approximately 200 words long."
   ]
  },
  {
   "cell_type": "code",
   "execution_count": 6,
   "metadata": {
    "id": "-hycaeo_PsIt"
   },
   "outputs": [
    {
     "name": "stdout",
     "output_type": "stream",
     "text": [
      "I am informed by some whose opinions I respect that all the acts of Congress now in force and of a permanent and general nature might be revised and rewritten so as to be embraced in one volume (or at most two volumes) of ordinary and convenient size; and I respectfully recommend to Congress to consider of the subject, and if my suggestion be approved to devise such plan as to their wisdom shall seem most proper for the attainment of the end proposed.\n",
      "But the powers of Congress, I suppose, are equal to the anomalous occasion, and therefore I refer the whole matter to Congress, with the hope that a plan may be devised for the administration of justice in all such parts of the insurgent States and Territories as may be under the control of this Government, whether by a voluntary return to allegiance and order or by the power of our arms; this, however, not to be a permanent institution, but a temporary substitute, and to cease as soon as the ordinay courts can be reestablished in peace.\n"
     ]
    }
   ],
   "source": [
    "print(summarize(lincoln_text, word_count=200))"
   ]
  },
  {
   "cell_type": "code",
   "execution_count": 7,
   "metadata": {
    "id": "-hycaeo_PsIt"
   },
   "outputs": [
    {
     "name": "stdout",
     "output_type": "stream",
     "text": [
      "Just how far this is must be determined according to the individual case, remembering always that every application of our tariff policy to meet our shifting national needs must be conditioned upon the cardinal fact that the duties must never be reduced below the point that will cover the difference between the labor cost here and abroad.\n",
      "The Congressmen who voted years in advance the money to lay down the ships, to build the guns, to buy the armor-plate; the Department officials and the business men and wage-workers who furnished what the Congress had authorized; the Secretaries of the Navy who asked for and expended the appropriations; and finally the officers who, in fair weather and foul, on actual sea service, trained and disciplined the crews of the ships when there was no war in sight—all are entitled to a full share in the glory of Manila and Santiago, and the respect accorded by every true American to those who wrought such signal triumph for our country.\n"
     ]
    }
   ],
   "source": [
    "print(summarize(roosevelt_text, word_count=200))"
   ]
  },
  {
   "cell_type": "code",
   "execution_count": 8,
   "metadata": {
    "id": "-hycaeo_PsIt"
   },
   "outputs": [
    {
     "name": "stdout",
     "output_type": "stream",
     "text": [
      "(Applause.)Now, as we stabilized the financial system, we also took steps to get our economy growing again, save as many jobs as possible, and help Americans who had become unemployed.\n",
      "(Applause.)  And to encourage these and other businesses to stay within our borders, it is time to finally slash the tax breaks for companies that ship our jobs overseas, and give those tax breaks to companies that create jobs right here in the United States of America.\n",
      "You can see the results of last year's investments in clean energy -– in the North Carolina company that will create 1,200 jobs nationwide helping to make advanced batteries; or in the California business that will put a thousand people to work making solar panels.But to create more of these clean energy jobs, we need more production, more efficiency, more incentives.\n",
      "(Applause.)  So tonight, we set a new goal:  We will double our exports over the next five years, an increase that will support two million jobs in America.\n",
      "(Applause.)  This year, I will work with Congress and our military to finally repeal the law that denies gay Americans the right to serve the country they love because of who they are.\n"
     ]
    }
   ],
   "source": [
    "print(summarize(obama_text, word_count=200))"
   ]
  },
  {
   "cell_type": "markdown",
   "metadata": {
    "id": "VIJ9tOFyPsIv"
   },
   "source": [
    "### Sentence tokenize each address and save the tokenized sentences to a separate list."
   ]
  },
  {
   "cell_type": "code",
   "execution_count": 9,
   "metadata": {
    "id": "7Ngvp3JGPsIv"
   },
   "outputs": [],
   "source": [
    "lincoln_sents = sent_tokenize(lincoln_text)\n",
    "roosevelt_sents = sent_tokenize(roosevelt_text)\n",
    "obama_sents = sent_tokenize(obama_text)"
   ]
  },
  {
   "cell_type": "markdown",
   "metadata": {
    "id": "vcoMsb_sPsIx"
   },
   "source": [
    "### Train a Markov chain model for each tokenized address and generate 5 sentences based on the language used for each one."
   ]
  },
  {
   "cell_type": "code",
   "execution_count": 10,
   "metadata": {
    "id": "BFOm-2JAPsIy"
   },
   "outputs": [
    {
     "name": "stdout",
     "output_type": "stream",
     "text": [
      "If useful, no State should be denied them; if not useful, no State should be denied them; if not useful, no State should have them. \n",
      "\n",
      "It is gratifying to know that the patriotism of the people has placed at the disposal of the Government the whole of their limited acquisitions. \n",
      "\n",
      "If useful, no State should be denied them; if not useful, no State should be denied them; if not useful, no State should have them. \n",
      "\n",
      "Since, however, it is apparent that the attention of Congress to our great lakes and rivers. \n",
      "\n",
      "I respectfully recommend to the consideration of Congress the interests of the District of Columbia. \n",
      "\n"
     ]
    }
   ],
   "source": [
    "model = markovify.Text(lincoln_sents, state_size=4)\n",
    "for i in range(5):  \n",
    "    print(model.make_short_sentence(max_chars=200,\n",
    "                                    min_chars=30,\n",
    "                                    tries=100), '\\n')    "
   ]
  },
  {
   "cell_type": "code",
   "execution_count": 11,
   "metadata": {},
   "outputs": [
    {
     "name": "stdout",
     "output_type": "stream",
     "text": [
      "To be permanently effective, aid must always take the form of the acquisition of territory by any non-American power. \n",
      "\n",
      "In all industries carried on directly or indirectly for the United States to assist in this work. \n",
      "\n",
      "Already the largest single collection of books on the Western Hemisphere, and give them an increasing sense of unity. \n",
      "\n",
      "Their ability to purchase our products should as far as possible be repaid by the land reclaimed. \n",
      "\n",
      "The National Government should be to aid irrigation in the several States and Territories where they may add materially to our resources. \n",
      "\n"
     ]
    }
   ],
   "source": [
    "model = markovify.Text(roosevelt_sents, state_size=4)\n",
    "for i in range(5):\n",
    "    print(model.make_short_sentence(max_chars=500,\n",
    "                                    min_chars=30,\n",
    "                                    tries=500), '\\n')    "
   ]
  },
  {
   "cell_type": "code",
   "execution_count": 12,
   "metadata": {},
   "outputs": [
    {
     "name": "stdout",
     "output_type": "stream",
     "text": [
      "And according to the Congressional Budget Office -– the independent organization that both parties have fed divisions that are deeply entrenched. \n",
      "\n",
      "You can see the results of last year's investments in clean energy because they want those jobs. \n",
      "\n",
      "And according to the Congressional Budget Office -– the independent organization that both parties have fed divisions that are deeply entrenched. \n",
      "\n",
      "The steps we took last year to shore up the same banks that helped cause this crisis. \n",
      "\n",
      "And according to the Congressional Budget Office -– the independent organization that both parties have fed divisions that are deeply entrenched. \n",
      "\n"
     ]
    }
   ],
   "source": [
    "model = markovify.Text(obama_sents, state_size=4)\n",
    "for i in range(5):\n",
    "    print(model.make_short_sentence(max_chars=200,\n",
    "                                    min_chars=30,\n",
    "                                    tries=100), '\\n')    "
   ]
  },
  {
   "cell_type": "markdown",
   "metadata": {
    "id": "wxM3DVddPsI0"
   },
   "source": [
    "### Add part of speech tags to the Markov chain model and regenerate 5 sentences for each address."
   ]
  },
  {
   "cell_type": "code",
   "execution_count": 13,
   "metadata": {
    "id": "tUBHXvZ5PsI1"
   },
   "outputs": [],
   "source": [
    "class POSifiedText(markovify.Text):\n",
    "    def word_split(self, sentence):\n",
    "        words = re.split(self.word_split_pattern, sentence)\n",
    "        words = [ \"::\".join(tag) for tag in nltk.pos_tag(words) ]\n",
    "        return words\n",
    "\n",
    "    def word_join(self, words):\n",
    "        sentence = \" \".join(word.split(\"::\")[0] for word in words)\n",
    "        return sentence  "
   ]
  },
  {
   "cell_type": "code",
   "execution_count": 14,
   "metadata": {},
   "outputs": [
    {
     "name": "stdout",
     "output_type": "stream",
     "text": [
      "I respectfully recommend to the consideration of Congress the interests of the District of Columbia. \n",
      "\n",
      "I respectfully recommend to the consideration of Congress the interests of the District of Columbia. \n",
      "\n",
      "If useful, no State should be denied them; if not useful, no State should be denied them; if not useful, no State should have them. \n",
      "\n",
      "In the exercise of my best discretion I have adhered to the act of Congress to confiscate property used for insurrectionary purposes. \n",
      "\n",
      "I respectfully recommend to the consideration of Congress the interests of the District of Columbia. \n",
      "\n"
     ]
    }
   ],
   "source": [
    "model = POSifiedText(lincoln_sents, state_size=4)\n",
    "\n",
    "for i in range(5):\n",
    "    print(model.make_short_sentence(max_chars=200,\n",
    "                                    min_chars=30,\n",
    "                                    tries=100), '\\n')    "
   ]
  },
  {
   "cell_type": "code",
   "execution_count": 15,
   "metadata": {},
   "outputs": [
    {
     "name": "stdout",
     "output_type": "stream",
     "text": [
      "There should be a continuous reduction in the number of very large individual, and especially of very large corporate, fortunes. \n",
      "\n",
      "It is just that the great agricultural population should share in the improvement of the Shanghai River and the control of its navigation. \n",
      "\n",
      "The administration of these islands should be as wholly free from the bitter animosities incident to public life. \n",
      "\n",
      "There should be a continuous reduction in the number of very large individual, and especially of very large corporate, fortunes. \n",
      "\n",
      "The conditions of modern war are such as to offer great prizes as the rewards of success. \n",
      "\n"
     ]
    }
   ],
   "source": [
    "model = POSifiedText(roosevelt_sents, state_size=4)\n",
    "\n",
    "for i in range(5):\n",
    "    print(model.make_short_sentence(max_chars=200,\n",
    "                                    min_chars=30,\n",
    "                                    tries=100), '\\n')    "
   ]
  },
  {
   "cell_type": "code",
   "execution_count": 16,
   "metadata": {},
   "outputs": [
    {
     "name": "stdout",
     "output_type": "stream",
     "text": [
      "There are projects like that all across this country have faced this year. \n",
      "\n",
      "You can see the results of last year's investments in clean energy because they want those jobs. \n",
      "\n",
      "The steps we took last year to shore up the same banks that helped cause this crisis. \n",
      "\n",
      "You can see the results of last year's investments in clean energy because they want those jobs. \n",
      "\n",
      "The steps we took last year to shore up the same banks that helped cause this crisis. \n",
      "\n"
     ]
    }
   ],
   "source": [
    "model = POSifiedText(obama_sents, state_size=4)\n",
    "\n",
    "for i in range(5):\n",
    "    print(model.make_short_sentence(max_chars=200,\n",
    "                                    min_chars=30,\n",
    "                                    tries=100), '\\n')    "
   ]
  },
  {
   "cell_type": "code",
   "execution_count": null,
   "metadata": {},
   "outputs": [],
   "source": []
  }
 ],
 "metadata": {
  "colab": {
   "collapsed_sections": [],
   "name": "Day 75, Lecture 2: Assignment.ipynb",
   "provenance": []
  },
  "kernelspec": {
   "display_name": "Python 3",
   "language": "python",
   "name": "python3"
  },
  "language_info": {
   "codemirror_mode": {
    "name": "ipython",
    "version": 3
   },
   "file_extension": ".py",
   "mimetype": "text/x-python",
   "name": "python",
   "nbconvert_exporter": "python",
   "pygments_lexer": "ipython3",
   "version": "3.7.6"
  }
 },
 "nbformat": 4,
 "nbformat_minor": 1
}
