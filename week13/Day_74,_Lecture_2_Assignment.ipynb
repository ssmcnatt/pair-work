{
  "nbformat": 4,
  "nbformat_minor": 0,
  "metadata": {
    "colab": {
      "name": "Day_74,_Lecture_2_Assignment.ipynb",
      "provenance": [],
      "collapsed_sections": [],
      "toc_visible": true
    },
    "kernelspec": {
      "display_name": "Python 3",
      "language": "python",
      "name": "python3"
    },
    "language_info": {
      "codemirror_mode": {
        "name": "ipython",
        "version": 3
      },
      "file_extension": ".py",
      "mimetype": "text/x-python",
      "name": "python",
      "nbconvert_exporter": "python",
      "pygments_lexer": "ipython3",
      "version": "3.7.6"
    }
  },
  "cells": [
    {
      "cell_type": "markdown",
      "metadata": {
        "id": "MpAM5or7MJg8"
      },
      "source": [
        "# Machine Learning on Text: Clustering Assignment"
      ]
    },
    {
      "cell_type": "code",
      "metadata": {
        "id": "Nw7-5JgzMJg9",
        "outputId": "94bc2d5e-640d-469a-b796-5ac2167f8bd3",
        "colab": {
          "base_uri": "https://localhost:8080/"
        }
      },
      "source": [
        "import pandas as pd\n",
        "from nltk import word_tokenize\n",
        "from nltk.corpus import stopwords\n",
        "from nltk.stem.snowball import SnowballStemmer\n",
        "from nltk.stem.wordnet import WordNetLemmatizer\n",
        "from nltk.corpus.reader.plaintext import PlaintextCorpusReader\n",
        "from sklearn.cluster import KMeans\n",
        "from sklearn.cluster import AgglomerativeClustering\n",
        "from sklearn.feature_extraction.text import TfidfVectorizer\n",
        "import matplotlib.pyplot as plt\n",
        "from yellowbrick.cluster import KElbowVisualizer\n",
        "\n",
        "import nltk\n",
        "nltk.download('punkt')\n",
        "nltk.download('stopwords')\n",
        "nltk.download('wordnet')"
      ],
      "execution_count": null,
      "outputs": [
        {
          "output_type": "stream",
          "text": [
            "[nltk_data] Downloading package punkt to /root/nltk_data...\n",
            "[nltk_data]   Package punkt is already up-to-date!\n",
            "[nltk_data] Downloading package stopwords to /root/nltk_data...\n",
            "[nltk_data]   Package stopwords is already up-to-date!\n",
            "[nltk_data] Downloading package wordnet to /root/nltk_data...\n",
            "[nltk_data]   Unzipping corpora/wordnet.zip.\n"
          ],
          "name": "stdout"
        },
        {
          "output_type": "execute_result",
          "data": {
            "text/plain": [
              "True"
            ]
          },
          "metadata": {
            "tags": []
          },
          "execution_count": 13
        }
      ]
    },
    {
      "cell_type": "code",
      "metadata": {
        "id": "sgLvC_zt1blb"
      },
      "source": [
        "def preprocess(docs): \n",
        "    lemmatizer = WordNetLemmatizer() \n",
        "    stemmer = SnowballStemmer('english') \n",
        "    \n",
        "    preprocessed = []\n",
        "    for doc in docs: \n",
        "        tokenized = word_tokenize(doc)\n",
        "        cleaned = [stemmer.stem(lemmatizer.lemmatize(token.lower())) for token in tokenized \n",
        "               if not token.lower() in stopwords.words('english') \n",
        "               if token.isalpha()]\n",
        "\n",
        "        untokenized = \" \".join(cleaned)\n",
        "        preprocessed.append(untokenized)\n",
        "        \n",
        "    return preprocessed"
      ],
      "execution_count": null,
      "outputs": []
    },
    {
      "cell_type": "markdown",
      "metadata": {
        "id": "W7IzBzLsMJhA"
      },
      "source": [
        "### Ingest the company_profiles data set into a corpus."
      ]
    },
    {
      "cell_type": "code",
      "metadata": {
        "id": "u-u8MsfKMJhB"
      },
      "source": [
        "path = '/content/drive/My Drive/Thinkful Data Science/Assignments/company_profiles'\n",
        "DOC_PATTERN = r'.*\\.txt'\n",
        "\n",
        "corpus = PlaintextCorpusReader(path, DOC_PATTERN)"
      ],
      "execution_count": null,
      "outputs": []
    },
    {
      "cell_type": "markdown",
      "metadata": {
        "id": "evt_VveIMJhD"
      },
      "source": [
        "### Create a list of documents by extracting the raw text for each fileid in the corpus."
      ]
    },
    {
      "cell_type": "code",
      "metadata": {
        "id": "0Q0T6d2TMJhD"
      },
      "source": [
        "docs = [corpus.raw(fileid) for fileid in corpus.fileids()]"
      ],
      "execution_count": null,
      "outputs": []
    },
    {
      "cell_type": "code",
      "metadata": {
        "id": "8ieo3HoKG9HL",
        "outputId": "3f0e38bb-aaab-4e15-9846-65f0b1f8367d",
        "colab": {
          "base_uri": "https://localhost:8080/",
          "height": 171
        }
      },
      "source": [
        "docs[0]"
      ],
      "execution_count": null,
      "outputs": [
        {
          "output_type": "execute_result",
          "data": {
            "application/vnd.google.colaboratory.intrinsic+json": {
              "type": "string"
            },
            "text/plain": [
              "\"Agilent Technologies, Inc. provides application focused solutions to the life sciences, diagnostics, and applied chemical markets worldwide. It operates in three segments: Life Sciences and Applied Markets, Diagnostics and Genomics, and Agilent CrossLab. The Life Sciences and Applied Markets segment offers liquid chromatography systems and components; liquid chromatography mass spectrometry systems; gas chromatography systems and components; gas chromatography mass spectrometry systems; inductively coupled plasma mass spectrometry instruments; atomic absorption instruments; microwave plasma-atomic emission spectrometry instruments; inductively coupled plasma optical emission spectrometry instruments; raman spectroscopy; microfluidics based automated electrophoresis products; cell analysis plate based assays; laboratory software and informatics systems; laboratory automation; dissolution testing; vacuum pumps; and measurement technologies. The Diagnostics and Genomics segment provides reagents, instruments, software, and consumables; arrays for DNA mutation detection, genotyping, gene copy number determination, identification of gene rearrangements, DNA methylation profiling, and gene expression profiling, as well as sequencing target enrichment services; and equipment focused on production of synthesized oligonucleotides for use as active pharmaceutical ingredients. The Agilent CrossLab segment offers GC and LC columns, sample preparation products, custom chemistries, and various laboratory instrument supplies; and startup, operational, training, and compliance support, as well as asset management and consultation services. The company markets its products through direct sales, electronic commerce, resellers, manufacturers' representatives, and distributors. It has collaboration with the University of Southern California Michelson Center for Convergent Bioscience. Agilent Technologies, Inc. was founded in 1999 and is headquartered in Santa Clara, California.\""
            ]
          },
          "metadata": {
            "tags": []
          },
          "execution_count": 5
        }
      ]
    },
    {
      "cell_type": "markdown",
      "metadata": {
        "id": "2L98OWhMMJhG"
      },
      "source": [
        "### Preprocess the documents, including the steps below.\n",
        "\n",
        "- Word tokenize the document.\n",
        "- Lowercase all tokens.\n",
        "- Lemmatize and stem the tokens.\n",
        "- Remove stop words and punctuation."
      ]
    },
    {
      "cell_type": "code",
      "metadata": {
        "id": "XJGYG2L_MJhG"
      },
      "source": [
        "preprocessed = preprocess(docs)"
      ],
      "execution_count": null,
      "outputs": []
    },
    {
      "cell_type": "markdown",
      "metadata": {
        "id": "sw3HvSNuMJhI"
      },
      "source": [
        "### TF-IDF vectorize the preprocessed documents."
      ]
    },
    {
      "cell_type": "code",
      "metadata": {
        "id": "kYFXymYtMJhJ"
      },
      "source": [
        "vectorizer = TfidfVectorizer()\n",
        "vectorized = vectorizer.fit_transform(preprocessed)"
      ],
      "execution_count": null,
      "outputs": []
    },
    {
      "cell_type": "markdown",
      "metadata": {
        "id": "4F3w9-n7MJhL"
      },
      "source": [
        "### Determine the optimal number of clusters using the Yellowbrick library's KElbow Visualizer and a KMeans clustering algorithm."
      ]
    },
    {
      "cell_type": "code",
      "metadata": {
        "id": "xDBdUa03MJhM",
        "outputId": "e616906a-1dbb-4c45-e14a-2162c7489f20",
        "colab": {
          "base_uri": "https://localhost:8080/",
          "height": 353
        }
      },
      "source": [
        "model = KMeans()\n",
        "visualizer = KElbowVisualizer(model, k=(2,6), metric='silhouette')\n",
        "\n",
        "visualizer.fit(vectorized)"
      ],
      "execution_count": null,
      "outputs": [
        {
          "output_type": "stream",
          "text": [
            "/usr/local/lib/python3.6/dist-packages/sklearn/base.py:197: FutureWarning: From version 0.24, get_params will raise an AttributeError if a parameter cannot be retrieved as an instance attribute. Previously it would return None.\n",
            "  FutureWarning)\n"
          ],
          "name": "stderr"
        },
        {
          "output_type": "execute_result",
          "data": {
            "text/plain": [
              "KElbowVisualizer(ax=<matplotlib.axes._subplots.AxesSubplot object at 0x7fb813244438>,\n",
              "                 k=None, metric=None, model=None, timings=True)"
            ]
          },
          "metadata": {
            "tags": []
          },
          "execution_count": 16
        },
        {
          "output_type": "display_data",
          "data": {
            "image/png": "[encoded data removed]",
            "text/plain": [
              "<Figure size 432x288 with 2 Axes>"
            ]
          },
          "metadata": {
            "tags": [],
            "needs_background": "light"
          }
        }
      ]
    },
    {
      "cell_type": "markdown",
      "metadata": {
        "id": "QIurKlo-MJhP"
      },
      "source": [
        "### Perform K-Means Clustering using the optimal number of clusters determine in the previous step."
      ]
    },
    {
      "cell_type": "code",
      "metadata": {
        "id": "jd0DuxrKMJhP",
        "outputId": "b36961bb-3320-44e2-8626-b79975e535f8",
        "colab": {
          "base_uri": "https://localhost:8080/"
        }
      },
      "source": [
        "model = KMeans(n_clusters=5)\n",
        "clusters = model.fit_predict(vectorized)"
      ],
      "execution_count": null,
      "outputs": [
        {
          "output_type": "execute_result",
          "data": {
            "text/plain": [
              "array([4, 0, 0, ..., 0, 0, 0], dtype=int32)"
            ]
          },
          "metadata": {
            "tags": []
          },
          "execution_count": 18
        }
      ]
    },
    {
      "cell_type": "code",
      "metadata": {
        "id": "3rRzyiLBV6yG",
        "outputId": "3934565d-5d2c-4c4b-9327-a62b885a12a7",
        "colab": {
          "base_uri": "https://localhost:8080/"
        }
      },
      "source": [
        "clusters[0:30]"
      ],
      "execution_count": null,
      "outputs": [
        {
          "output_type": "execute_result",
          "data": {
            "text/plain": [
              "array([4, 0, 0, 0, 4, 0, 0, 4, 0, 4, 4, 2, 4, 2, 0, 0, 4, 3, 0, 2, 0, 0,\n",
              "       0, 4, 0, 2, 0, 3, 0, 2], dtype=int32)"
            ]
          },
          "metadata": {
            "tags": []
          },
          "execution_count": 19
        }
      ]
    },
    {
      "cell_type": "markdown",
      "metadata": {
        "id": "XzlVKvK1MJhR"
      },
      "source": [
        "### Perform Agglomerative Clustering using the same number of clusters."
      ]
    },
    {
      "cell_type": "code",
      "metadata": {
        "id": "yXa_ofOOMJhS",
        "outputId": "ca503c2e-229e-42cb-9501-60efd8cda5a5",
        "colab": {
          "base_uri": "https://localhost:8080/"
        }
      },
      "source": [
        "model_agg = AgglomerativeClustering(n_clusters=5)\n",
        "clusters_agg = model_agg.fit_predict(vectorized.toarray())\n",
        "clusters_agg[0:30]"
      ],
      "execution_count": null,
      "outputs": [
        {
          "output_type": "execute_result",
          "data": {
            "text/plain": [
              "array([0, 0, 0, 0, 0, 0, 0, 0, 0, 0, 0, 1, 0, 1, 0, 2, 0, 3, 0, 1, 2, 0,\n",
              "       2, 0, 0, 1, 0, 3, 2, 1])"
            ]
          },
          "metadata": {
            "tags": []
          },
          "execution_count": 20
        }
      ]
    },
    {
      "cell_type": "markdown",
      "metadata": {
        "id": "tFlkG5TyMJhU"
      },
      "source": [
        "### Choose one of the three topic modeling approaches covered. Cluster into the optimal number of clusters and extract 5 keywords that represent the documents in each cluster."
      ]
    },
    {
      "cell_type": "code",
      "metadata": {
        "id": "29jDpqjAMJhV"
      },
      "source": [
        "from sklearn.decomposition import NMF\n",
        "\n",
        "num_keywords = 5\n",
        "num_topics = 5\n",
        "\n",
        "vectorizer = TfidfVectorizer()\n",
        "model = NMF(n_components=num_topics)\n",
        "\n",
        "vectorized = vectorizer.fit_transform(preprocessed)\n",
        "model.fit_transform(vectorized)\n",
        "\n",
        "results = [[(vectorizer.get_feature_names()[i], topic[i]) \n",
        "            for i in topic.argsort()[:-num_keywords - 1:-1]] \n",
        "           for topic in model.components_]"
      ],
      "execution_count": null,
      "outputs": []
    },
    {
      "cell_type": "code",
      "metadata": {
        "id": "j3FWhMUzW5bZ",
        "outputId": "bc20b2d2-5296-4726-db94-41c848ea923d",
        "colab": {
          "base_uri": "https://localhost:8080/"
        }
      },
      "source": [
        "results"
      ],
      "execution_count": null,
      "outputs": [
        {
          "output_type": "execute_result",
          "data": {
            "text/plain": [
              "[[('loan', 2.136357025117211),\n",
              "  ('bank', 1.4122123393161365),\n",
              "  ('deposit', 1.0445172357937962),\n",
              "  ('account', 0.9137133305126688),\n",
              "  ('servic', 0.7083105874493808)],\n",
              " [('servic', 0.9343178555497942),\n",
              "  ('product', 0.7472859494160097),\n",
              "  ('segment', 0.6499361261323537),\n",
              "  ('solut', 0.6025934765539548),\n",
              "  ('system', 0.5785400117267288)],\n",
              " [('gas', 1.1830154320104553),\n",
              "  ('natur', 0.908285704225523),\n",
              "  ('oil', 0.8979399875028387),\n",
              "  ('energi', 0.482767827894021),\n",
              "  ('texa', 0.3899062155937711)],\n",
              " [('invest', 1.326446153940098),\n",
              "  ('fund', 0.9077078687939334),\n",
              "  ('incom', 0.47322788293960855),\n",
              "  ('equiti', 0.45838012117561977),\n",
              "  ('manag', 0.45055903483287507)],\n",
              " [('treatment', 0.7904667483432003),\n",
              "  ('phase', 0.7287255962801571),\n",
              "  ('clinic', 0.722344601222494),\n",
              "  ('trial', 0.6577170120530795),\n",
              "  ('develop', 0.6075938133692568)]]"
            ]
          },
          "metadata": {
            "tags": []
          },
          "execution_count": 22
        }
      ]
    }
  ]
}