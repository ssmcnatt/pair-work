{
 "cells": [
  {
   "cell_type": "markdown",
   "metadata": {
    "id": "E0voemCtIvus"
   },
   "source": [
    "# Extracting Information from Text Data Assignment"
   ]
  },
  {
   "cell_type": "code",
   "execution_count": 1,
   "metadata": {
    "scrolled": false
   },
   "outputs": [],
   "source": [
    "#!pip install spacy\n",
    "#!pip install textacy --quiet\n",
    "#!pip install rake_nltk --quiet\n",
    "#!conda install -c conda-forge textacy\n",
    "#!pip install gensim"
   ]
  },
  {
   "cell_type": "code",
   "execution_count": 2,
   "metadata": {
    "id": "QNIoK-wzIvuv"
   },
   "outputs": [],
   "source": [
    "import spacy\n",
    "import string\n",
    "import textacy\n",
    "import itertools\n",
    "from nltk import pos_tag\n",
    "from rake_nltk import Rake\n",
    "from nltk import sent_tokenize\n",
    "from nltk import word_tokenize\n",
    "from nltk import tree2conlltags\n",
    "from gensim.summarization import keywords\n",
    "from nltk.chunk.regexp import RegexpParser\n",
    "from nltk.corpus.reader.plaintext import PlaintextCorpusReader"
   ]
  },
  {
   "cell_type": "code",
   "execution_count": 3,
   "metadata": {
    "id": "EbB__zIWzob1"
   },
   "outputs": [],
   "source": [
    "def corpus_stats(corpus):\n",
    "    print(\"Corpus Statistics\")\n",
    "    print(\"Number of documents: \" + str(len(corpus.fileids())))\n",
    "    print(\"Number of paragraphs: \" + str(len(corpus.paras())))\n",
    "    print(\"Number of sentences: \" + str(len(corpus.sents())))\n",
    "    print(\"Number of words: \" + str(len(corpus.words())))\n",
    "    print(\"Vocabulary: \" + str(len(set(w.lower() for w in corpus.words()))))\n",
    "    print(\"Avg chars per word: \" + str(round(len(corpus.raw())/len(corpus.words()),1)))\n",
    "    print(\"Avg words per sentence: \" + str(round(len(corpus.words())/len(corpus.sents()),1)))"
   ]
  },
  {
   "cell_type": "markdown",
   "metadata": {
    "id": "4M7RrWRKIvuy"
   },
   "source": [
    "### Read the CNN Lite plain text file articles into a corpus using the NLTK's PlaintextCorpusReader."
   ]
  },
  {
   "cell_type": "code",
   "execution_count": 4,
   "metadata": {
    "id": "gMwqpeAmIvuz"
   },
   "outputs": [
    {
     "name": "stdout",
     "output_type": "stream",
     "text": [
      "Corpus Statistics\n",
      "Number of documents: 14\n",
      "Number of paragraphs: 14\n",
      "Number of sentences: 427\n",
      "Number of words: 13668\n",
      "Vocabulary: 2927\n",
      "Avg chars per word: 5.0\n",
      "Avg words per sentence: 32.0\n"
     ]
    }
   ],
   "source": [
    "PATH = 'cnn_lite/'\n",
    "DOC_PATTERN = r'articles_text.*\\.p'\n",
    "corpus = PlaintextCorpusReader(PATH, DOC_PATTERN)\n",
    "corpus_stats(corpus)"
   ]
  },
  {
   "cell_type": "markdown",
   "metadata": {
    "id": "y6Zp26sVIvu1"
   },
   "source": [
    "### Iterate through the fileids in the corpus, extract the raw text of each document, and store them in a list."
   ]
  },
  {
   "cell_type": "code",
   "execution_count": 5,
   "metadata": {
    "id": "yl15hykfIvu2"
   },
   "outputs": [],
   "source": [
    "docs = [corpus.raw(fileid) for fileid in corpus.fileids()]"
   ]
  },
  {
   "cell_type": "markdown",
   "metadata": {
    "id": "c5LLM0YPIvu4"
   },
   "source": [
    "### Extract the top 5 keywords from every document in the corpus. Print them and compare the differences in keywords among the documents."
   ]
  },
  {
   "cell_type": "code",
   "execution_count": 6,
   "metadata": {
    "id": "wcXEjv6FIvu4",
    "scrolled": true
   },
   "outputs": [
    {
     "name": "stdout",
     "output_type": "stream",
     "text": [
      "['pink', 'carey', 'tour', 'year', 'pretty']\n",
      "['patrick', 'primary', 'telling', 'democrats', 'cnn']\n",
      "['narwhal', 'tail', 'puppy', 'unicorn', 'dogs']\n",
      "['states', 'democratic', 'bloomberg', 'told', 'running']\n",
      "['republican', 'taylor', 'rep', 'presidents', 'ukraine']\n",
      "['muslimness', 'people', 'skin', 'white', 'religion']\n",
      "['trump', 'new', 'said', 'republican', 'media']\n",
      "['said', 'police', 'brown', 'jones', 'roanoke']\n",
      "['trump', 'hotels', 'office', 'profit', 'owned']\n",
      "['keys', 'grammys', 'award', 'alicia', 'power']\n",
      "['americans', 'republican', 'trump', 'ukrainians', 'investigate']\n",
      "['student', 'said', 'told', 'pence', 'schools']\n",
      "['crows', 'disney', 'american', 'old', 'movie']\n",
      "['protester', 'police', 'chinese', 'new', 'kong']\n"
     ]
    }
   ],
   "source": [
    "for doc in docs:\n",
    "    keys = keywords(doc, words=5, lemmatize=True, split=True)\n",
    "    print(keys)"
   ]
  },
  {
   "cell_type": "markdown",
   "metadata": {
    "id": "6w50BcwMIvu6"
   },
   "source": [
    "### Extract the top 3 keyphrases from each document, print them, and compare the differences."
   ]
  },
  {
   "cell_type": "code",
   "execution_count": 7,
   "metadata": {
    "id": "7M0PDiFwIvu7"
   },
   "outputs": [
    {
     "name": "stdout",
     "output_type": "stream",
     "text": [
      "[(32.5, 'country music association awards red carpet'), (17.166666666666664, 'school soon ,\" pink said'), (16.5, 'country star chris stapleton')]\n",
      "[(94.03333333333333, 'former new york city mayor michael bloomberg stepped forward last week'), (30.61111111111111, 'patrick could seize upon potential advantages'), (29.0, 'elections process would ultimately splash back')]\n",
      "[(28.166666666666668, 'little magical furry unicorn ,\" according'), (17.666666666666664, 'dog rescue nonprofit organization mac'), (13.666666666666666, 'rescue workers speculate may')]\n",
      "[(40.45, 'current 2020 democrats -- clinton told bbc radio'), (37.666666666666664, 'former new york mayor michael bloomberg made'), (29.0, '2016 democratic nominee playfully tweeted back')]\n",
      "[(69.41666666666667, 'money ,\" tweeted white house press secretary stephanie grisham'), (67.75, 'former white house homeland security adviser tom bossert summed'), (63.416666666666664, 'former national security council russia expert fiona hill said')]\n",
      "[(20.77777777777778, 'support various international policies --'), (16.0, 'protesters stormed john f'), (16.0, 'executive order banning entry')]\n",
      "[(78.26923076923076, 'others made jokes — christian whiton said witnesses bill taylor'), (46.333333333333336, 'heard white house press secretary stephanie grisham say'), (42.65, 'hour ... ed henry shares hearsay laura ingraham')]\n",
      "[(34.266666666666666, 'police saythough franklin county authorities said earlier'), (23.975, 'roanoke police chief tim jones said'), (20.55833333333333, 'capacity weapon ,\" jones said')]\n",
      "[(30.03333333333333, ',\" said committee chairman peter defazio'), (23.5, 'wall street journal first reported'), (23.0, 'hired real estate firm jll')]\n",
      "[(19.333333333333336, 'host ,\" keys told billboard'), (18.166666666666668, 'current alicia keys discussing hosting'), (16.0, 'regular award receiver helped')]\n",
      "[(32.6, 'house intelligence committee chair adam schiff'), (27.916666666666664, 'republicans like jim jordan threw angrily'), (23.75, 'courts also prohibit witness speculation')]\n",
      "[(60.595238095238095, 'posted threats please notify us asap ,\" murakami wrote'), (51.166666666666664, 'white house sends condolencesvice president mike pence gave'), (34.31666666666666, 'los angeles county sheriff alex villanueva said')]\n",
      "[(22.000000000000004, 'may contain outdated cultural depictions'), (21.666666666666664, \"outdated cultural depictions '( cnn\"), (16.0, 'director tim burton chose')]\n",
      "[(31.5, 'fall semester around two weeks early'), (30.955555555555556, 'senior chinese official shen chunyao said'), (29.569444444444443, 'three tunnels connecting hong kong island')]\n"
     ]
    }
   ],
   "source": [
    "r = Rake()\n",
    "for doc in docs:\n",
    "    key_phrases = r.extract_keywords_from_text(doc)\n",
    "    key_phrases = r.get_ranked_phrases_with_scores()\n",
    "    print(key_phrases[0:3])"
   ]
  },
  {
   "cell_type": "markdown",
   "metadata": {
    "id": "Rev-FI9HIvu9"
   },
   "source": [
    "### Identify and extract the named entities in each document, filtering out the numeric types. Print them and compare the differences between documents."
   ]
  },
  {
   "cell_type": "code",
   "execution_count": 8,
   "metadata": {
    "id": "TLs9TLMHIvu9"
   },
   "outputs": [],
   "source": [
    "nlp = spacy.load('en_core_web_sm')"
   ]
  },
  {
   "cell_type": "code",
   "execution_count": 9,
   "metadata": {},
   "outputs": [
    {
     "name": "stdout",
     "output_type": "stream",
     "text": [
      "[Entertainment Tonight, the Country Music Association Awards, Carey Hart, Willow, Jameson, Love Me Anyway, Chris Stapleton, Willow, Jameson, Pink, \"Carey, Hart]\n",
      "[Deval Patrick, Massachusetts, Deval Patrick, CNN, Patrick, New Hampshire, Concord, CBS This Morning, Patrick, Patrick, Alabama, Arkansas, New Hampshire, Patrick, Massachusetts, New Hampshire, African American, South Carolina, Democratic, CNN, Patrick, the Democratic Party's, New York City, Michael Bloomberg, Patrick, The New York Times, Patrick, Boston, Barack Obama, Facebook, Diane, Patrick, WBUR, Diane, Bain Capital, Boston, Republican, Massachusetts, US, Utah, Patrick, Romney, Democratic, Democrats, Patrick, Bain Capital, CNN, \"Patrick, South Carolina, Texas, New Jersey]\n",
      "[Meet Narwhal, Missouri, Narwhal, Narwhal the Little Magical Furry Unicorn, Mac, Narwhal, Mac's Mission, Facebook, Narwhal, Facebook, Poppa Smurf, Daschund Terrier, Narwhal, Daschund, Mac, CNN Narwhal, Missouri, Midwest, Mac, Narwhal]\n",
      "[Democrats, Democratic, White House, Democratic, New York, Michael Bloomberg, Arkansas, Democratic, Massachusetts, Deval Patrick, New Hampshire, Hillary Clinton, Trump, Democrats, Clinton, BBC Radio, Clinton, BBC, Chelsea, Clinton, White House, Trump, Crooked Hillary Clinton, Elizabeth Warren, Democratic, CNN, Clinton, Patrick, Bloomberg, Democrats, Iowa, Warren, Massachusetts, Bernie Sanders, Vermont, Republicans, Trump, Trump, Democrats, Trump, Monmouth University, South Bend, Indiana, Pete Buttigieg, Biden, Warren, Sanders, Bloomberg, New Hampshire, Quinnipiac University, Warren, Buttigieg, Sanders, Patrick, Bloomberg, Democrats, Biden, Bloomberg, Patrick, Bloomberg, Alabama, Patrick, Alabama, Howard Wolfson, CNN, Bloomberg, Super Tuesday, Wolfson, Arkansas, Bloomberg, Biden, Joe Biden, Joe Biden, Bloomberg, New York]\n",
      "[The House Intelligence Committee, Donald Trump, Ukraine, Joe Biden, Adam Schiff, Adam Schiff, Constitution, American, Schiff, Trump, Congress, Schiff, Schiff, Americans, Constitution, Schiff, Constitution, Trump, Trump, Schiff, Schiff, Republicans, Devin Nunes, 11If Schiff, California, Devin Nunes, Republican, the Intelligence Committee, Democratic, Ukraine, Trump, Ukrainian, Mueller, Trump, Ukrainian, Volodymyr Zelensky, House, Bill Taylor's, wowTaylor, US, Ukraine, Rudy Giuliani, Ukraine, US, Taylor, John Bolton, US, the European Union, Gordon Sondland, Ukrainian, US, Ukraine, Burisma Holdings, Ukrainian, Hunter Biden, Taylor, Sondland, Taylor, Sondland, Zelensky, Trump, Zelensky, Sondland, Trump, Taylor, Taylor, Sondland, Trump, Ukraine, Sondland, Trump, Biden, Trump, Congress, Trump, Ukraine, Bidens, Taylor, George Kent, State Department, Taylor, Ukraine, American, Russian, Ukraine, America, Ukraine, Russia, Russia, Crimea, Ukrainian, Taylor, Kent, the White House, Ukraine, the United States', Russia, Bidens, Ukraine, American, Taylor, Republicans, Zelensky, White House, Mick Mulvaney, Republican, the White House, Taylor, Taylor, Democratic, Republican, Mulvaney, Ukraine, Kent, Taylor, Ukrainians, Democratic, Hillary Clinton's, Democratic National Committee's, Zelensky.)To, Ukraine, US, Kent, National Security Council, Russia, Fiona Hill, House, White House, Tom Bossert, ABC, George Stephanopoulos, Giuliani, George, Devin Nunes, Republicans, YawnThere, Republicans, White House, Stephanie Grisham, Eric Trump, North Carolina, Mark Meadows, White House, CNN, Lauren Fox, Republicans, Jim Jordan, Republicans, Ohio, Jim Jordan, the Intelligence Committee, Jordan, Jordan, Taylor, Jordan, Taylor, Republicans, Ukraine, Trump, GOP, Taylor, Kent, Trump, Zelensky, Ukraine, Bidens, Jordan, Texas, John Ratcliffe, New York, Elise Stefanik, Congress, Zelensky, Jordan, Republicans]\n",
      "[all-American Muslim, Jolie Courtney, All-American Muslim Girl, Angeleno, The Oprah Magazine, Architectural Digest, Town & Country, CNN, CNN, Donald Trump, US, Muslim, Syria, John F. Kennedy, New York City, Muslims, American Muslims, Americans, Islam, Muslim, Middle Eastern, Asian, Catholic, Trump, Americans, All-American Muslim Girl, Islamophobia, Islamophobia, Muslim, Allahu, Muslim, American, Muslims, Americans, Circassian, Muslims, Muslim, Arabic, Muslim, right?\"Before, Muslim, Muslim, Islam, Western, Muslim, Muslim, Cabernet, mosque, Episcopalian, Muslim, Muslims, Muslim, Muslim, Muslims, American, Muslim, Muslim, all-American, Muslim, Pearl Jam, Amto, Muslim]\n",
      "[Fox, DemocratsNew York, CNN, Trump, Fox News, White House, Stephanie Grisham, Donald Trump Jr., Jeff Sessions, Fox, Democrats, Republicans, Republican, Democrat, Trump, CNN, Oliver Darcy, Trump, Darcy, Trump, Fox News, Tucker, Tucker Carlson, New Year's, the Super Bowl, Carlson, Christian Whiton, Bill Taylor, George Kent, Grisham, Trump, Carlson, Larry O'Connor, America, Trish Regan, the Fox Business Network, Regan, Fox News, Carlson, Washington, D.C., down!Hannity, Democrats, Democrats, House Intelligence Committee, Adam Schiff, Hannity, House, Democrats, Democrats, Republicans, Mark Levin, Schiff, Donald Trump Jr., Steve Scalise, Democrats, Ed Henry, Laura Ingraham, Democrats, Ingraham, Fox, Ed Henry, Capitol Hill, Henry, Republicans, Democrats, Henry, Dem, the Washington Post, Ingraham, Fox, DEMOCRATS, STAR WITNESSES BURN, DEMS, IMPEACHMENT COLLAPSE.\"Ingraham, Republican, Chris Stewart, Taylor, Gordon Sondland, Trump, Fox, GOP, Mark Meadows, Ingraham, Democrats, Ukraine, America, Fox, MSNBC, REPUBLICANS, Republican, Trump, Fox, GOP, Dems, Republicans, Dems, Fox, Fox News Sunday, Chris Wallace, William Taylor, Lou Dobbs, Joe diGenova, Victoria Toensing, Ukraine, George Soros ', the State Department, FBI, Republican, Americans, Susan Glasser, New Yorker, Frank Pallotta, Jimmy Kimmel, CNN, Oliver Darcy, pro-Trump, GOP, Jim Jordan, Devin Nunes, Taylor, Kent, Ukraine, Trump, Democrats, Democrats]\n",
      "[Roanoke, Virginia, Marine, Roanoke, Virginia, Michael Alexander Brown, Hardy, Roanoke, Brown, Roanoke, Tim Jones, Brown, Franklin County, Brown, Lincoln, Town Car, Jones, Brown, Roanoke, RV, Brown, Jones, Roanoke, Patrick Henry High School on Grandin Road, Brown, Jones, Brown, Jones, Camp Lejeune, North Carolina, the Franklin County Sheriff's Office, Hardy, Rodney Brown, Rodney Brown's, Michael Brown's, Rodney, Phillip Young, Michael Brown, Jones, Roanoke, Brown, The Franklin County Sheriff's Office, Brown, the Roanoke Valley, Jones, Brown, Jones, Brown, US Marshals Service, Brown, Jones, FBI, the Bureau of Alcohol, Tobacco Firearms, Explosives, Brown, Jones]\n",
      "[Trump Organization, DC hotel(CNN, The Trump Organization, Washington, DC, Donald Trump, Eric Trump, The Trump Organization, JLL, the Trump International Hotel, Eric Trump, the Old Post Office, Pennsylvania Avenue, the White House, Capitol building, Trump, Constitution, Trump, Eric Trump, the District of Columbia, Maryland, Trump, Washington, The House Transportation Committee, General Services Administration, American, the United States, the Old Post Office Building, the Emoluments Clauses of the US Constitution, Peter DeFazio, D-Oregon, DeFazio, the Trump Organization, Trump, the Old Post Office Building, Trump, GSA, The Wall Street Journal, the General Services Administration, Constitution, the White House, The Trump Organization]\n",
      "[Alicia Keys, the Grammy Awards, Alicia Keys, Grammy Awards, Queen Latifah, Billboard, the Staples Center, Los Angeles, Keys, Keys, Alicia Keys, Alicia Keys, Alicia, Keys]\n",
      "[WatergateEditor's Note: Paul Callan, CNN, New York, New York, Edelman & Edelman, Twitter @paulcallan, CNN.(CNN, Harvard Law, House Intelligence Committee Chair Adam Schiff, Donald Trump, Republicans, Trump, Constitution, the Revolutionary War, Ukraine, Republican, Senate, Republicans, Democrat, Schiff, American, Ukraine, Joe Biden, US, Ukraine, Bill Taylor, State, European, Eurasian, George Kent, Kent, Taylor, Taylor, Ukraine, Trump, Rudy Giuliani, Giuliani, Trump, Deep State, Trump, Ukrainian, Volodymyr Zelensky, Trump, CNN, Taylor, Ukraine, Ukrainians, Russia, Ukrainian, American, Ukraine, Russia, Ukrainians, American, Biden, Richard Nixon, Watergate, Nixon, House, American, Trump, Ukraine, American, Ukrainian, Russian, Democrats, Republicans, Ukrainian, Ukrainian, American, Trump, The Steele Dossier, Paul Manafort, Republican, Americans, Mueller/Russia, Trump, Hunter Biden, Ukraine, Burisma, Ukraine, Ukraine, Burisma, Hunter, Joe, Hunter Biden, Republican, Russian, American, Ukrainian, Biden, Taylor, Kent, Republicans, Jim Jordan, American, Congress, Jordan, Taylor, Kent, Trump, Apprentice, Trump, Taylor, Tim Morrison, National Security Council, US, the European Union, Gordon Sondland, Trump, Zelensky, Biden and 2016, Jordan, Republican, the \"Federal Rules of Evidence, Republicans, American, Republicans, Trump, Jordan, Sondland]\n",
      "[sayLos Angeles, CNN, Southern California, Saugus High School, Santa Clarita, Los Angeles County, Sheriff Alex Villanueva, .45-caliber, Anderson Cooper, Nathaniel Berhow, Columbine, Parkland, Sandy Hook, Kent Wegener, the Los Angeles County Sheriff's Department, CNN, Central Park, Hannah de Caussin, Saugus, CNN, KTLA.\"It, bang, bang, bang, Brooklyn Moreno, CNN, KCBS, Brooklyn, Everhart, KCBS, Central Park, Everhart, White House, Mike Pence, NASA, Northern California, Pence, Donald Trump, Pence, Tim Murakami, Twitter, Santa Clarita's, William S. Hart, Saugus High School, Los Angeles, Instagram, Facebook, Instagram]\n",
      "[Dumbo, Jim Crow, Caucasian, African-American, Tim Burton, Dumbo, Song of the Roustabouts, Disney, Warner Bros., Tom, Jerry, American, WarnerMedia, Warner Bros., CNN]\n",
      "[Hong Kong, violenceHong Kong, CNN, Hong Kong, Chinese, the Hong Kong Polytechnic University, Kowloon, Hong Kong Island, the University of Hong Kong, the Chinese University of Hong Kong, the New Territories, Hong Kong, China, Central district, Tai Koo, Hong Kong Island, Kowloon, Cross-Harbour Tunnel, MTR, Hong Kong's, Hospital Authority, Hong Kong's, Hospital Authority, Chinese, China, Hong Kong, CCTV, Global Times, the People's Armed Police, the People's Liberation Army, Hong Kong's, Beijing, Chinese, Beijing, Adam Ni, China, Macquarie University, Sydney, CNN, Chinese, Hong Kong, Chinese Communist Party, Chinese, Chunyao, Beijing, Hong Kong, Macao, Hong Kong, Chinese, Chinese, Xinhua, Chinese, Hong Kong, Macao]\n"
     ]
    }
   ],
   "source": [
    "entities = []\n",
    "num_types = ['DATE', 'TIME', 'PERCENT', 'MONEY', 'QUANTITY', 'ORDINAL', 'CARDINAL']\n",
    "for doc in docs:\n",
    "    temp = []\n",
    "    spacy_doc = nlp(doc)\n",
    "    for entity in spacy_doc.ents:\n",
    "        if entity.label_ not in num_types:\n",
    "            temp.append(entity)\n",
    "            \n",
    "    entities.append(temp)\n",
    "\n",
    "for entity_list in entities:\n",
    "    print(entity_list) "
   ]
  },
  {
   "cell_type": "markdown",
   "metadata": {
    "id": "UwhH404sIvvB"
   },
   "source": [
    "### For every document in the corpus, iterate over every sentence, extract any SVO triples, print them, and compare."
   ]
  },
  {
   "cell_type": "code",
   "execution_count": 10,
   "metadata": {
    "id": "03XLMyk1IvvC"
   },
   "outputs": [
    {
     "name": "stdout",
     "output_type": "stream",
     "text": [
      "[(star, praised, husband), (she, will celebrate, years), (he, follows, me), (she, will be taking, step), (Jameson, 's going, to start)]\n",
      "[(Patrick, defended, work), (he, has made, decision), (Patrick, had built, team), (Patrick, has missed, to appear), (he, was going, to jump), (that, became, liability), (Patrick, told, friends), (source, tells, CNN), (Patrick, told, WBUR), (frontrunner Democrats, have cast, interests), (Gov. Deval Patrick, told, allies), (he, wanted, to put), (he, could make, minute entry), (He, cited, it), (I, 've left, conscience), (he, planned, bid), (he, seeks, nomination), (Patrick, has missed, deadline), (he, would be entering, race), (he, ruled, bid), (I, 've never taken, job), (Deval Patrick, tells, allies), (Gov. Deval Patrick, told, friends), (Patrick, entered, sector)]\n",
      "[(it, doesn't cause, him), (face tail, does not bother, Narwhal), (He, seems, other), (organization, received, adoption applications), (spokesperson, told, CNN), (who, has been named, Smurf), (it, doesn't cause, pain), (what, appears, be), (they, are seeing, dogs), (which, showed, tail), (tail, catapulted, him), (that, hasn't stopped, fans), (he, got, meds), (that, resembles, tusk), (they, want, to monitor), (which, took, him)]\n",
      "[(I, 'm running, mine), (Bloomberg, join, field), (I, 've got, daughters), (I, 've got, grandkids), (Massachusetts Gov. Deval Patrick, weighed, entry), (I, tell, you), (Bloomberg, told, questions), (I, 'd like, do), (team, filed, paperwork), (which, has prompted, much), (I, 've known, him), (I, would fix, it), (He, 's running, campaign), (both, have excited, generation), (we, 're going, do), (you, 've got, to talk), (filing deadlines, appear, to have forced), (I, 've got, do), (Biden, held, slender lead), (who, could face, disadvantage), (Bloomberg, plans, to skip), (she, ruled, run), (none, could claim, runner status), (Mayor Michael Bloomberg, made, run), (party, has not settled, debate), (heavyweights, have dangled, possibility), (Howard Wolfson, told, CNN), (Bloomberg, told, reporters), (Clinton, told, Radio), (public, can make, decision), (Patrick, join, field), (you, want, to know), (he, entered, race), (Bloomberg, told, gaggle), (he, decide, to run), (she, left, door ajar), (admirers, have tried, to coax), (they, miss, chance), (Patrick, missed, deadlines), (Clinton, told, BBC radio)]\n",
      "[(Republicans, had put, signs), (He, described, door testimony), (Sondland, called, Trump), (I, monitored, stakes), (President, defend, Constitution), (11If Schiff, tried, to ground), (\"He, derided, impeachment sham), (Nunes, pushed, Ukraine conspiracy), (Nunes, detailed, conspiracy theory), (he, began, speaking), (I, doubt, it), (Rep. Devin Nunes, sought, to go), (\"Partisans, will take, side), (that, affirms, view), (he, hears, it), (they, added, him), (\"He, called, Chamber), (Taylor, laid, timeline), (Ukraine, played, role), (House Intelligence Committee, opened, impeachment hearings), (I, thought, to try), (Kent, sought, to emphasize), (he, had traveled, impact), (country, announced, investigation), (He, called, hearings), (Taylor, recounted, episode), (that, debunked, theory), (He, called, finale), (allies, abused, office), (I, 've seen, church prayer chains), (whistleblower, was known, have), (that, balances, powers), (Congress, had begun, to ask), (President, brought, conspiracy theory), (Taylor aide, asked, Sondland), (It, seems, unlikely), (\"He, called, proceedings), (adviser Tom Bossert, summed, it), (we, become, monarchy), (Ukraine, making, statement), (Rep. Mark Meadows, told, Fox), (Devin Nunes, turns, it), (Jim Jordan, showcases, Republicans), (he, mentioned, Founders), (Snoozefest, tweeted, Trump), (appeal, will sway, people), (Jordan, asked, Taylor), (answer, will affect, future), (President Donald Trump, abused, office), (it, tends, have), (\"He, dismissed, investigation)]\n",
      "[(People, will treat, you), (I, choose, not to wear), (I, stopped, hiding), (I, adore, religion), (people, would judge, us), (Trump, instituted, travel ban), (I, began, writing), (novel, debunks, myths), (lifestyle, disqualified, me), (I, became, Note), (friend, told, me), (I, don't get told, go), (thousands, stormed, airports), (Trump, instituted, Americans), (I, dread, reaction), (I, 've formed, bonds), (Years, has produced, tension), (I, choose, to eat), (I, hadn't done, anything), (I, attend, mosque), (that, includes, girls), (that, had built, life), (I, know, lyrics), (who, is exploring, religion), (they, can trust, me), (who, wants, to be accepted), (thousands, stormed, Kennedy airport), (they, 're trying, to figure), (I, eat, bacon), (I, 've enjoyed, bottle), (that, includes, Muslims), (I, support, policies), (I, don't wear, hijab), (I, opened, word document), (President Donald Trump, issued, order), (I, attend, mother), (who, had grown, believing)]\n",
      "[(I, decided, to mute), (president, loved, watching), (Which, brings, me), (billionaire George Soros, controls, part), (websites, hyped, destroying), (Hannity, said, sham), (Carlson, mocked, news outlets), (it, did not prove, point), (banners, summed, p.m. hour), (inquiry, needs, to stop), (I, decided, to write), (defenders, dismissed, hearings), (Hannity, said, circus), (hearsay Laura Ingraham, criticized, Democrats), (I, would sum, everything), (he, got, thanks), (lawmakers, scrambling, to defend), (Christian Whiton, said, witnesses), (quotes, Try, to square), (media, went, bonkers), (Ingraham, welcomed, correspondent), (Dobbs segment, is sparking, outrage), (\"Grisham, called, joke), (Trump defense team, pushed, conspiracy theory), (websites, hyped, clips), (websites, hyped, eviscerating), (I, decided, watch), (he, accused, witnesses), (beg Americans, to turn, TV), (Carlson, wrapped, hour), (that, generated, focus), (\"Grisham, called, it), (graphic, alleged, MELTDOWN), (you, were watching, hearing), (you, didn't see, case), (he, had been working, phones), (others, made, jokes), (Dem aide, told, Post), (process, will hurt, Dems), (Taylor, shed, light), (who, are resisting, policies), (IMPEACHMENT STUNT, WILL HAUNT, DEMS), (Trish Regan, ran, segment), (Mark Levin, called, wing boob), (who, told, him), (GOP lawmaker, told, Ingraham), (banner, said, RPT), (Kent, shed, light), (I, wanted, to know), (time stars, are telling, Trump), (Notes, Try, to square), (banner, said, TRUMP BIAS), (Mark Levin, called, Schiff), (Carlson, seemed, reluctant)]\n",
      "[(police, to shut, schools), (family, bring, him), (who, knows, to navigate), (we, can make, arrangements), (Authorities, received, call), (caller, told, investigators), (US Marshals Service, is offering, reward), (Brown, was believed, be), (what, brought, him), (Brown, is believed, to be operating), (Jones, described, Brown), (he, needs, to contact), (he, can turn, himself), (police, wanted, anyone), (He, is considered, dangerous), (who, knows, to maneuver), (He, switched, vehicles), (Brown, was believed, to be driving), (Brown, was driving, Car), (who, sees, him), (girlfriend, called, police), (We, are receiving, intelligence)]\n",
      "[(Donald Trump, is profiting, role), (Organization explores, is considering, selling), (President Trump, isn't making, profit), (we, opened, doors), (court, revived, lawsuit), (agency, ignored, Constitution), (Trump, took, office), (Street Journal, reported, sale), (Trump property, has harmed, Washington hotels), (company, has hired, to assist), (he, transferred, assets), (Trump property, has harmed, businesses), (President, is violating, to enrich), (Trump Organization, is considering, selling), (statement, did not list, profit figures), (House Transportation Committee, issued, subpoena), (lawsuits, have been filed, accusing), (I, will be following, marketing attempt), (President, is violating, Emoluments Clauses), (Trump Organization, won, contract), (we, have received, interest), (company, has hired, JLL), (that, benefits, Trump family)]\n",
      "[(it, confirmed, power), (return, puts, her), (Keys, told, Billboard), (it, confirmed, healing), (Alicia Keys, discussing, hosting), (it, confirmed, unifying), (show, will take, take), (I, felt, it), (ya, gon, na top), (I, feel, love), (she, became, female), (I, 'm going, to bring), (Alicia Keys, is hosting, Awards)]\n",
      "[(prosecutor, executed, part), (Mr. Schiff, followed, rule), (case, began, to fade), (which, haunted, half), (Schiff, accomplished, task), (questions, were designed, to remind), (Ukraine allegations, fail, to resonate), (Schiff, proceeded, to swear), (Having, permitted, Republicans), (He, brushed, assortment), (allies, defending, homeland), (Republicans, favor, enforcement), (actions, may violate, requirement), (This, enables, to say), (Prosecutors, like, to start), (President, abused, power), (they, knew, nothing), (abuse charge, provides, impeachment theory), (Prosecutors, like, finish), (They, posed, questions), (courtroom, would overrule, questions), (delay, could telegraph, lack), (Steele Dossier, raised, head), (It, causing, death), (All, can beat, Biden), (Richard Nixon, throwing, dollars), (it, helps, case), (Trump, can beat, Biden), (none, wanted, president), (questions, require, evidence), (he, was beginning, investigations), (Having, permitted, to pontificate), (Harvard Law grad, executed, part), (delay, meant, death), (Republicans, muddied, water), (fathers, fought, to curb), (they, enjoy, being slapped), (fathers, fought, War), (Courts, prohibit, witness speculation)]\n"
     ]
    },
    {
     "name": "stdout",
     "output_type": "stream",
     "text": [
      "[(parents, should meet, them), (School officials, are sending, students), (President, has directed, enforcement agencies), (President Mike Pence, gave, to), (she, heard, shot), (gunman, shot, classmates), (sheriff, told, Cooper), (President, has directed, to support), (neighbor, told, him), (student, told, CNN affiliate), (we, 're going, figure), (others, took, cover), (suspect, may have posted, threats), (parents, were told, to meet), (Officials, shepherded, students), (It, scared, us), (I, got, them), (President Mike Pence, gave, condolences), (gunman, shot, himself), (Students, are trained, to take), (we, end, evil), (we, 're going, have), (suspect, shooting, classmates), (I, hate, have), (groups, walked, file), (student, told, KCBS), (enforcement sources, told, CNN.Authorities), (Kent Wegener, told, reporters), (we, 're going, to move), (students, fled, building), (Pence, called, it), (I, wanted, to make), (he, was leaving, house), (that, affects, us), (Emergency workers, took, people), (granddaughter, threw, arms), (daughter, attends, Saugus), (He, used, bullet)]\n",
      "[(cartoons, do not represent, society), (They, may depict, some), (that, feature, prejudices), (Warner Bros., used, this), (Director Tim Burton, chose, to not include), (characters, put, circus tents), (He, omitted, scene), (Dumbo, featured, character), (It, may contain, depictions), (that, feature, content)]\n",
      "[(MTR, continued, to suspend), (protesters, barricaded, themselves), (protesters, to cross, it), (It, echoed, editorial), (protesters, continued, to pour), (you, are going, have), (students, have been asked, to leave), (he, began, clearing), (those, continued, to pour), (level, has reached, heights), (protesters, hurling, bricks), (Student protesters, fortify, campus occupations), (Adam Ni, told, CNN), (police, have appeared, reticent), (thousands, prepared, to face), (run television channel, issued, editorial), (protesters, seek, to breach), (what, is believed, be), (schools, have suspended, classes), (\"\"We, have had, warnings), (\"\"We, warn, protesters), (government, unveiled, range), (they, had evacuated, students), (police, fired, gas), (hundreds, firing, canisters), (country, will never accept, situation), (government supporters, hurling, bricks), (state media, warning, protesters), (injuriesThe protests, have taken, turn), (\"\"We, have had, persuasion), (you, can make, call), (who, are coerced, be), (\"\"We, have had, talking)]\n"
     ]
    }
   ],
   "source": [
    "for doc in docs:\n",
    "    results = []\n",
    "    spacy_doc = nlp(doc)\n",
    "    for sent in spacy_doc.sents:\n",
    "        svo = textacy.extract.subject_verb_object_triples(sent)\n",
    "        results += svo\n",
    "    \n",
    "    print(list(set(results)))"
   ]
  }
 ],
 "metadata": {
  "colab": {
   "collapsed_sections": [],
   "name": "Natural Language Processing Day 3 Morning Assignment.ipynb",
   "provenance": []
  },
  "kernelspec": {
   "display_name": "Python 3",
   "language": "python",
   "name": "python3"
  },
  "language_info": {
   "codemirror_mode": {
    "name": "ipython",
    "version": 3
   },
   "file_extension": ".py",
   "mimetype": "text/x-python",
   "name": "python",
   "nbconvert_exporter": "python",
   "pygments_lexer": "ipython3",
   "version": "3.7.6"
  }
 },
 "nbformat": 4,
 "nbformat_minor": 1
}
