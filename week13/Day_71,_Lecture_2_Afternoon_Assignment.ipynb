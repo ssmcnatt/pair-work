{
 "cells": [
  {
   "cell_type": "markdown",
   "metadata": {
    "id": "IihPCGvd34PH"
   },
   "source": [
    "# Text Acquisition & Ingestion Assignment"
   ]
  },
  {
   "cell_type": "code",
   "execution_count": 1,
   "metadata": {},
   "outputs": [],
   "source": [
    "#!pip install feedparser"
   ]
  },
  {
   "cell_type": "code",
   "execution_count": 2,
   "metadata": {
    "id": "DhLA_w7p34PM"
   },
   "outputs": [],
   "source": [
    "import json\n",
    "import requests\n",
    "import feedparser\n",
    "from bs4 import BeautifulSoup\n",
    "from nltk.corpus.reader.plaintext import PlaintextCorpusReader\n",
    "\n",
    "import os\n",
    "import nltk\n",
    "# nltk.download('punkt')"
   ]
  },
  {
   "cell_type": "code",
   "execution_count": 3,
   "metadata": {},
   "outputs": [],
   "source": [
    "def corpus_stats(corpus):\n",
    "    print(\"Corpus Statistics\")\n",
    "    print(\"Number of documents: \" + str(len(corpus.fileids())))\n",
    "    print(\"Number of paragraphs: \" + str(len(corpus.paras())))\n",
    "    print(\"Number of sentences: \" + str(len(corpus.sents())))\n",
    "    print(\"Number of words: \" + str(len(corpus.words())))\n",
    "    print(\"Vocabulary: \" + str(len(set(w.lower() for w in corpus.words()))))\n",
    "    print(\"Avg chars per word: \" + str(round(len(corpus.raw())/len(corpus.words()),1)))\n",
    "    print(\"Avg words per sentence: \" + str(round(len(corpus.words())/len(corpus.sents()),1)))"
   ]
  },
  {
   "cell_type": "markdown",
   "metadata": {
    "id": "lZ3ytdXA34PR"
   },
   "source": [
    "### Iterate through the list of article URLs below, scraping the text from each one and saving it to a text file. "
   ]
  },
  {
   "cell_type": "code",
   "execution_count": 4,
   "metadata": {
    "id": "mDbZqPpT34PU"
   },
   "outputs": [],
   "source": [
    "articles = ['http://lite.cnn.io/en/article/h_eac18760a7a7f9a1bf33616f1c4a336d',\n",
    "            'http://lite.cnn.io/en/article/h_de3f82f17d289680dd2b47c6413ebe7c',\n",
    "            'http://lite.cnn.io/en/article/h_72f4dc9d6f35458a89af014b62e625ad',\n",
    "            'http://lite.cnn.io/en/article/h_aa21fe6bf176071cb49e09d422c3adf0',\n",
    "            'http://lite.cnn.io/en/article/h_8ad34a532921c9076cdc9d7390d2f1bc',\n",
    "            'http://lite.cnn.io/en/article/h_84422c79110d9989177cfaf1c5f45fe7',\n",
    "            'http://lite.cnn.io/en/article/h_d010d9580abac3a44c6181ec6fb63d58',\n",
    "            'http://lite.cnn.io/en/article/h_fb11f4e9d7c5323e75b337d9e9e5e368',\n",
    "            'http://lite.cnn.io/en/article/h_7b27f0b131067f8ece6238ac559670ab',\n",
    "            'http://lite.cnn.io/en/article/h_8cae7f735fa9573d470f802063ceffe2',\n",
    "            'http://lite.cnn.io/en/article/h_72c3668280e82576fcc2602b0fa70c14',\n",
    "            'http://lite.cnn.io/en/article/h_d20658fb0e20212051cda0e0a7248c8a',\n",
    "            'http://lite.cnn.io/en/article/h_56611c43d7928120d2ae21666ccc7417',\n",
    "            'http://lite.cnn.io/en/article/h_bda0394e3c5ee7054ee65c022bca7695']"
   ]
  },
  {
   "cell_type": "markdown",
   "metadata": {
    "id": "BgGlAM2X34Pc"
   },
   "source": [
    "### Ingest the text files generated via web scraping into a corpus and print the corpus statistics."
   ]
  },
  {
   "cell_type": "code",
   "execution_count": 5,
   "metadata": {},
   "outputs": [],
   "source": [
    "folder = 'cnn_lite'\n",
    "if folder not in os.listdir():\n",
    "    os.mkdir(folder)"
   ]
  },
  {
   "cell_type": "code",
   "execution_count": 6,
   "metadata": {
    "id": "AfDWUtDr34PX",
    "scrolled": false
   },
   "outputs": [],
   "source": [
    "for i, art in enumerate(articles):\n",
    "    afile = open(folder + \"/articles_text\" + str(i) + \".p\", \"wb\" )\n",
    "    response = requests.get(art)\n",
    "    content = response.text\n",
    "    \n",
    "    soup = BeautifulSoup(content, 'lxml')\n",
    "    title = soup.find('div', class_='afe4286c').h2.text\n",
    "    afile.write(title.encode(\"UTF-8\"))\n",
    "    \n",
    "    text = soup.find('div', class_='afe4286c').find_all('p')\n",
    "    text_list = [tag.get_text() for tag in text]\n",
    "    \n",
    "    for line in text_list:\n",
    "         afile.write(line.encode(\"UTF-8\"))\n",
    "    \n",
    "    afile.close() "
   ]
  },
  {
   "cell_type": "code",
   "execution_count": 7,
   "metadata": {
    "id": "mmybAnNB34Pf",
    "scrolled": false
   },
   "outputs": [
    {
     "name": "stdout",
     "output_type": "stream",
     "text": [
      "Corpus Statistics\n",
      "Number of documents: 14\n",
      "Number of paragraphs: 14\n",
      "Number of sentences: 427\n",
      "Number of words: 13668\n",
      "Vocabulary: 2927\n",
      "Avg chars per word: 5.0\n",
      "Avg words per sentence: 32.0\n"
     ]
    }
   ],
   "source": [
    "PATH = folder + '/'\n",
    "DOC_PATTERN = r'articles_text.*\\.p'\n",
    "corpus = PlaintextCorpusReader(PATH, DOC_PATTERN)\n",
    "corpus_stats(corpus)"
   ]
  },
  {
   "cell_type": "markdown",
   "metadata": {
    "id": "sGP_4yfR34Pi"
   },
   "source": [
    "### Parse the O'Reilly Radar RSS feed below, extract the text from each post, and save it to a text file.\n",
    "\n",
    "The content of each post contains HTML tags. Strip those out using the same approach you used for web scraping so that only text is saved to the files."
   ]
  },
  {
   "cell_type": "code",
   "execution_count": 8,
   "metadata": {
    "id": "CDbqkFCF34Pl"
   },
   "outputs": [],
   "source": [
    "feed = 'http://feeds.feedburner.com/oreilly/radar/atom'"
   ]
  },
  {
   "cell_type": "code",
   "execution_count": 9,
   "metadata": {
    "id": "l-a9JgWH34Po",
    "scrolled": false
   },
   "outputs": [],
   "source": [
    "parsed = feedparser.parse(feed)\n",
    "posts = parsed.entries"
   ]
  },
  {
   "cell_type": "code",
   "execution_count": 10,
   "metadata": {},
   "outputs": [],
   "source": [
    "folder = 'oreilly_radar'\n",
    "if folder not in os.listdir():\n",
    "    os.mkdir(folder)"
   ]
  },
  {
   "cell_type": "code",
   "execution_count": 11,
   "metadata": {
    "scrolled": false
   },
   "outputs": [],
   "source": [
    "for i, post in enumerate(posts):   \n",
    "    content = posts[i]['content']\n",
    "    content = content[0]['value']\n",
    "    soup = BeautifulSoup(content, 'lxml')\n",
    "\n",
    "    text = soup.find('body').find_all(['p', 'li', 'h3', 'a'])\n",
    "    text_list = [tag.get_text() for tag in text]\n",
    "\n",
    "    afile = open(folder + \"/articles_rss\" + str(i) + \".p\", \"wb\" )\n",
    "\n",
    "    for line in text_list:\n",
    "        afile.write(line.encode(\"UTF-8\"))\n",
    "    \n",
    "    afile.close() "
   ]
  },
  {
   "cell_type": "markdown",
   "metadata": {
    "id": "SqK4w9sa34Pr"
   },
   "source": [
    "### Ingest the text files generated via RSS parsing into a corpus and print the corpus statistics."
   ]
  },
  {
   "cell_type": "code",
   "execution_count": 12,
   "metadata": {},
   "outputs": [
    {
     "name": "stdout",
     "output_type": "stream",
     "text": [
      "Corpus Statistics\n",
      "Number of documents: 60\n",
      "Number of paragraphs: 61\n",
      "Number of sentences: 1810\n",
      "Number of words: 59115\n",
      "Vocabulary: 6899\n",
      "Avg chars per word: 5.2\n",
      "Avg words per sentence: 32.7\n"
     ]
    }
   ],
   "source": [
    "PATH = folder + '/'\n",
    "DOC_PATTERN = r'articles_rss.*\\.p'\n",
    "corpus = PlaintextCorpusReader(PATH, DOC_PATTERN)\n",
    "corpus_stats(corpus)"
   ]
  },
  {
   "cell_type": "markdown",
   "metadata": {
    "id": "9BDwjO8t34Pw"
   },
   "source": [
    "### Make an API call to the Hacker News API to retrieve their Ask, Show, and Job category items. \n",
    "\n",
    "- URL: https://hacker-news.firebaseio.com/v0/askstories.json"
   ]
  },
  {
   "cell_type": "code",
   "execution_count": 13,
   "metadata": {
    "id": "W7vyWOSN34Px"
   },
   "outputs": [],
   "source": [
    "url = 'https://hacker-news.firebaseio.com/v0/askstories.json'\n",
    "response = requests.get(url)\n",
    "items = json.loads(response.content)"
   ]
  },
  {
   "cell_type": "markdown",
   "metadata": {
    "id": "yEasqCkr34P0"
   },
   "source": [
    "### Once you have retrieved the item IDs from the URL above, retrieve each item by adding the item ID to the URL below, extract the item's text property, and save the text from each item to disk as its own document.\n",
    "\n",
    "- URL: https://hacker-news.firebaseio.com/v0/item/ITEM_ID_HERE.json\n",
    "\n",
    "The content of some items may contain HTML tags. Strip those out using the same approach you used for web scraping so that only text is saved to the files."
   ]
  },
  {
   "cell_type": "code",
   "execution_count": 14,
   "metadata": {},
   "outputs": [],
   "source": [
    "folder = 'hacker_news'\n",
    "if folder not in os.listdir():\n",
    "    os.mkdir(folder)"
   ]
  },
  {
   "cell_type": "code",
   "execution_count": 15,
   "metadata": {
    "id": "6Vp7yfWB34P1",
    "scrolled": false
   },
   "outputs": [],
   "source": [
    "for i, item in enumerate(items):\n",
    "    url = 'https://hacker-news.firebaseio.com/v0/item/' + str(item) + '.json'\n",
    "    response = requests.get(url)\n",
    "    content = response.text\n",
    "    \n",
    "    obj = eval(content)\n",
    "        \n",
    "    if ('text' in obj.keys()):\n",
    "        text = obj['text']\n",
    "        afile = open(folder + \"/articles_api\" + str(i) + \".p\", \"wb\" )\n",
    "        afile.write(text.encode(\"UTF-8\"))\n",
    "        afile.close() "
   ]
  },
  {
   "cell_type": "markdown",
   "metadata": {
    "id": "hw9-v8sK34P5"
   },
   "source": [
    "### Ingest the text files generated via API into a corpus and print the corpus statistics."
   ]
  },
  {
   "cell_type": "code",
   "execution_count": 16,
   "metadata": {
    "id": "dcsiPdkx34P7"
   },
   "outputs": [
    {
     "name": "stdout",
     "output_type": "stream",
     "text": [
      "Corpus Statistics\n",
      "Number of documents: 48\n",
      "Number of paragraphs: 48\n",
      "Number of sentences: 178\n",
      "Number of words: 5808\n",
      "Vocabulary: 1458\n",
      "Avg chars per word: 4.3\n",
      "Avg words per sentence: 32.6\n"
     ]
    }
   ],
   "source": [
    "PATH = folder + '/'\n",
    "DOC_PATTERN = r'articles_api.*\\.p'\n",
    "corpus = PlaintextCorpusReader(PATH, DOC_PATTERN)\n",
    "corpus_stats(corpus)"
   ]
  }
 ],
 "metadata": {
  "colab": {
   "name": "Day 71, Lecture 2: Afternoon Assignment.ipynb",
   "provenance": []
  },
  "kernelspec": {
   "display_name": "Python 3",
   "language": "python",
   "name": "python3"
  },
  "language_info": {
   "codemirror_mode": {
    "name": "ipython",
    "version": 3
   },
   "file_extension": ".py",
   "mimetype": "text/x-python",
   "name": "python",
   "nbconvert_exporter": "python",
   "pygments_lexer": "ipython3",
   "version": "3.7.6"
  }
 },
 "nbformat": 4,
 "nbformat_minor": 1
}
