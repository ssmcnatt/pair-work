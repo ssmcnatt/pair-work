{
  "nbformat": 4,
  "nbformat_minor": 0,
  "metadata": {
    "colab": {
      "name": "Day_75,_Lecture_1_Assignment.ipynb",
      "provenance": [],
      "collapsed_sections": []
    },
    "kernelspec": {
      "display_name": "Python 3",
      "language": "python",
      "name": "python3"
    },
    "language_info": {
      "codemirror_mode": {
        "name": "ipython",
        "version": 3
      },
      "file_extension": ".py",
      "mimetype": "text/x-python",
      "name": "python",
      "nbconvert_exporter": "python",
      "pygments_lexer": "ipython3",
      "version": "3.7.6"
    }
  },
  "cells": [
    {
      "cell_type": "markdown",
      "metadata": {
        "id": "2qtIy1rhPrpb"
      },
      "source": [
        "# Natural Language Processing: Chatbots Assignment"
      ]
    },
    {
      "cell_type": "code",
      "metadata": {
        "id": "O-18zFBdPrpd",
        "outputId": "01479c8e-bb60-4954-f0f0-462fab68e05c",
        "colab": {
          "base_uri": "https://localhost:8080/"
        }
      },
      "source": [
        "!pip install chatterbot --quiet\n",
        "!pip install chatterbot_corpus --quiet\n",
        "\n",
        "import re\n",
        "import requests\n",
        "import spacy\n",
        "from bs4 import BeautifulSoup\n",
        "from chatterbot import ChatBot\n",
        "from chatterbot.trainers import ListTrainer"
      ],
      "execution_count": 1,
      "outputs": [
        {
          "output_type": "stream",
          "text": [
            "\u001b[K     |████████████████████████████████| 71kB 2.9MB/s \n",
            "\u001b[K     |████████████████████████████████| 122kB 5.4MB/s \n",
            "\u001b[?25h"
          ],
          "name": "stdout"
        }
      ]
    },
    {
      "cell_type": "markdown",
      "metadata": {
        "id": "J43HRfFdPrpg"
      },
      "source": [
        "### Scrape the HTML from the URL below which contains questions and answers about databases."
      ]
    },
    {
      "cell_type": "code",
      "metadata": {
        "id": "OkxH23z3Prph"
      },
      "source": [
        "url = 'https://www.wisdomjobs.com/e-university/database-interview-questions.html'"
      ],
      "execution_count": 2,
      "outputs": []
    },
    {
      "cell_type": "code",
      "metadata": {
        "id": "6PoEi6S6Prpj"
      },
      "source": [
        "response = requests.get(url)\n",
        "content = response.text"
      ],
      "execution_count": 3,
      "outputs": []
    },
    {
      "cell_type": "markdown",
      "metadata": {
        "id": "xR9bp45DPrpk"
      },
      "source": [
        "### Clean the acquired HTML, extracting just the text."
      ]
    },
    {
      "cell_type": "code",
      "metadata": {
        "id": "2WDwwPBZPrpl"
      },
      "source": [
        "soup = BeautifulSoup(content, 'lxml')\n",
        "\n",
        "article = soup.find_all('li', class_='quesans mb-20') \n",
        "text_list = [tag.get_text() for tag in article]"
      ],
      "execution_count": 4,
      "outputs": []
    },
    {
      "cell_type": "code",
      "metadata": {
        "scrolled": true,
        "id": "SZLErLO0bVGr",
        "outputId": "5990e62b-3510-467e-ee0c-4d7083557a63",
        "colab": {
          "base_uri": "https://localhost:8080/"
        }
      },
      "source": [
        "text_list[0:6]"
      ],
      "execution_count": 5,
      "outputs": [
        {
          "output_type": "execute_result",
          "data": {
            "text/plain": [
              "['\\nQuestion 1. Explain What Is Sqlite Transactions?\\nAnswer :The transaction is referred as a unit of work that is performed against a database. It is the propagation of one or more changes to the database. Properties of transactions are determined by ACID.\\n\\nAtomicity: It ensures that all work unit are successfully completed.\\nConsistency: It ensures that the database changes states upon a successfully committed transaction.\\nIsolation: It enables transactions to operate independently of and transparent to each other.\\nDurability: It ensures that the result or effect of a committed transaction persists in case of a system failure.\\n\\n',\n",
              " '\\nQuestion 2. What Does Sql Stand For, And What Is It Used For?\\nAnswer :SQL stands for structured query language, used with relational databases. It is used to query, update, and retrieve the contents of databases.\\n',\n",
              " '\\nQuestion 3. List Out The Areas Where Sql Lite Works Well?\\nAnswer :SQL lite works well with :\\n\\nEmbedded devices and the internet of things.\\nApplication file format.\\nData Analysis.\\nWebsites.\\nCache for enterprise data.\\nServer side database.\\nFile archives.\\nInternal or temporary databases.\\nReplacement for ad hoc disk files.\\nExperimental SQL language extensions.\\nStand-in for an enterprise database during demos or testing.\\n\\n',\n",
              " '\\nQuestion 4. What Are Attributes?\\nAnswer :An attribute is a column in a table.\\n',\n",
              " '\\nQuestion 5. Differentiate Between A Having Clause And A Where Clause.\\nAnswer :HAVING CLAUSE :\\n\\nHAVING CLAUSE is used only with the SELECT statement.\\nIt is generally used in a GROUP BY clause in a query.\\nIf GROUP BY is not used, HAVING works like a WHERE clause.\\n\\nWHERE Clause :\\n\\nIt is applied to each row before they become a part of the GROUP BY function in a query.\\n\\n',\n",
              " '\\nQuestion 6. What Is Data Mining And How Can It Be Used?\\nAnswer :Data mining refers to any procedure for collecting, analyzing, and summarizing the contents of a database. It can be used to judge the success of a business, marketing campaigns, and to forecast future trends.\\n']"
            ]
          },
          "metadata": {
            "tags": []
          },
          "execution_count": 5
        }
      ]
    },
    {
      "cell_type": "markdown",
      "metadata": {
        "id": "yuxEDAXIPrpn"
      },
      "source": [
        "### Organize the text into a list of questions and answers.\n",
        "\n",
        "The best way to do this is to use a regular expression to split the text wherever a question or an answer appears (they are labeled)."
      ]
    },
    {
      "cell_type": "code",
      "metadata": {
        "id": "t7bBDIVPPrpn",
        "outputId": "f6d9add2-d4c2-4ecb-a482-eb15bc93823d",
        "colab": {
          "base_uri": "https://localhost:8080/"
        }
      },
      "source": [
        "qa_list = []\n",
        "for text in text_list:\n",
        "    text = text.replace('\\n', '')\n",
        "    tsplit = re.split('Question \\d*\\. |Answer :', text)\n",
        "    tsplit = list(filter(None, tsplit))\n",
        "    qa_list.append(tsplit[0])\n",
        "    qa_list.append(tsplit[1])\n",
        "        \n",
        "qa_list[0:20]"
      ],
      "execution_count": 12,
      "outputs": [
        {
          "output_type": "execute_result",
          "data": {
            "text/plain": [
              "['Explain What Is Sqlite Transactions?',\n",
              " 'The transaction is referred as a unit of work that is performed against a database. It is the propagation of one or more changes to the database. Properties of transactions are determined by ACID.Atomicity: It ensures that all work unit are successfully completed.Consistency: It ensures that the database changes states upon a successfully committed transaction.Isolation: It enables transactions to operate independently of and transparent to each other.Durability: It ensures that the result or effect of a committed transaction persists in case of a system failure.',\n",
              " 'What Does Sql Stand For, And What Is It Used For?',\n",
              " 'SQL stands for structured query language, used with relational databases. It is used to query, update, and retrieve the contents of databases.',\n",
              " 'List Out The Areas Where Sql Lite Works Well?',\n",
              " 'SQL lite works well with :Embedded devices and the internet of things.Application file format.Data Analysis.Websites.Cache for enterprise data.Server side database.File archives.Internal or temporary databases.Replacement for ad hoc disk files.Experimental SQL language extensions.Stand-in for an enterprise database during demos or testing.',\n",
              " 'What Are Attributes?',\n",
              " 'An attribute is a column in a table.',\n",
              " 'Differentiate Between A Having Clause And A Where Clause.',\n",
              " 'HAVING CLAUSE :HAVING CLAUSE is used only with the SELECT statement.It is generally used in a GROUP BY clause in a query.If GROUP BY is not used, HAVING works like a WHERE clause.WHERE Clause :It is applied to each row before they become a part of the GROUP BY function in a query.',\n",
              " 'What Is Data Mining And How Can It Be Used?',\n",
              " 'Data mining refers to any procedure for collecting, analyzing, and summarizing the contents of a database. It can be used to judge the success of a business, marketing campaigns, and to forecast future trends.',\n",
              " 'Mention What Are The Sql Lite Storage Classes?',\n",
              " 'SQL lite storage classes include :Null: The value is a NULL value.Integer: The value is a signed integer (1,2,3, etc.).Real: The value is a floating point value, stored as an 8 byte IEEE floating point number.Text: The value is a text string, stored using the database encoding ( UTF-8, UTF-16BE).BLOB (Binary Large Object): The value is a blob of data, exactly stored as it was input.',\n",
              " 'What Is Database Normalization And Why Is It Done?',\n",
              " 'This is the process of organizing data in a database efficiently, and it is done to make sure that connections and dependencies between data make sense, and to get rid of redundant data.',\n",
              " 'What Do Constraints Do? What Are The Types Of Constraints?',\n",
              " 'Constraints are used to prevent the database from losing internal and external integrity. The types are: check, not null, unique, primary key, and foreign key.',\n",
              " 'What Are Fact Tables?',\n",
              " 'Tables which track the progress of a certain process or activity, the primary tables of databases.']"
            ]
          },
          "metadata": {
            "tags": []
          },
          "execution_count": 12
        }
      ]
    },
    {
      "cell_type": "markdown",
      "metadata": {
        "id": "1UHdgjt1Prpp"
      },
      "source": [
        "### Train a Chatterbot chatbot on the list of questions and answers."
      ]
    },
    {
      "cell_type": "code",
      "metadata": {
        "id": "q9ELJw67Prpp",
        "outputId": "d41d8185-a08f-4b32-ca90-68c379d2fe43",
        "colab": {
          "base_uri": "https://localhost:8080/"
        }
      },
      "source": [
        "chatbot = ChatBot('DatabaseChatbot')\n",
        "chatbot.storage.drop()\n",
        "trainer = ListTrainer(chatbot)\n",
        "trainer.train(qa_list)"
      ],
      "execution_count": 13,
      "outputs": [
        {
          "output_type": "stream",
          "text": [
            "List Trainer: [####################] 100%\n"
          ],
          "name": "stdout"
        }
      ]
    },
    {
      "cell_type": "markdown",
      "metadata": {
        "id": "IFwtqnM5Prpr"
      },
      "source": [
        "### Write the user interface logic that allows a user to ask the chatbot questions about databases and have the chatbot return an answer. \n",
        "\n",
        "Include logic that checks to see if the answer returned is going to be a question and if so, return the next element in the list after that question."
      ]
    },
    {
      "cell_type": "code",
      "metadata": {
        "id": "DuujcjQjPrps",
        "outputId": "c486b830-0315-41ef-879a-f214ca80b29f",
        "colab": {
          "base_uri": "https://localhost:8080/"
        }
      },
      "source": [
        "while True:\n",
        "    user_input = input(\"User: \")\n",
        "    if user_input.lower() == 'exit':\n",
        "        user_input = ''\n",
        "        break\n",
        "    else:\n",
        "        print(chatbot.get_response(user_input))"
      ],
      "execution_count": 14,
      "outputs": [
        {
          "output_type": "stream",
          "text": [
            "User: Database Normalization\n",
            "Organized data void of inconsistent dependency and redundancy within a database is called normalization.\n",
            "User: What Are Fact Tables\n",
            "Tables which track the progress of a certain process or activity, the primary tables of databases.\n",
            "User: exit\n"
          ],
          "name": "stdout"
        }
      ]
    }
  ]
}