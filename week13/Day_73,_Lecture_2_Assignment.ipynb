{
  "nbformat": 4,
  "nbformat_minor": 0,
  "metadata": {
    "kernelspec": {
      "display_name": "Python 3",
      "language": "python",
      "name": "python3"
    },
    "language_info": {
      "codemirror_mode": {
        "name": "ipython",
        "version": 3
      },
      "file_extension": ".py",
      "mimetype": "text/x-python",
      "name": "python",
      "nbconvert_exporter": "python",
      "pygments_lexer": "ipython3",
      "version": "3.7.2"
    },
    "colab": {
      "name": "Day 73, Lecture 2: Assignment.ipynb",
      "provenance": [],
      "collapsed_sections": []
    }
  },
  "cells": [
    {
      "cell_type": "markdown",
      "metadata": {
        "id": "JCLo8OfaJeLJ"
      },
      "source": [
        "# Exploring and Analyzing Text Data Assignment "
      ]
    },
    {
      "cell_type": "code",
      "metadata": {
        "id": "ILXNGki2JeLM"
      },
      "source": [
        "import spacy\n",
        "import string\n",
        "import pandas as pd\n",
        "from nltk import pos_tag\n",
        "from nltk.text import Text\n",
        "from nltk import sent_tokenize\n",
        "from nltk import word_tokenize\n",
        "from nltk.corpus import stopwords\n",
        "from nltk.probability import FreqDist\n",
        "from nltk.corpus.reader.plaintext import PlaintextCorpusReader\n",
        "import matplotlib.pyplot as plt\n",
        "import seaborn as sns\n",
        "from wordcloud import WordCloud, STOPWORDS\n",
        "\n",
        "!python -m spacy download en_core_web_sm\n",
        "nlp = spacy.load(\"en_core_web_sm\")"
      ],
      "execution_count": null,
      "outputs": []
    },
    {
      "cell_type": "markdown",
      "metadata": {
        "id": "AcjtNHJ1JeLO"
      },
      "source": [
        "### Read the CNN Lite plain text file articles into a corpus using the NLTK's PlaintextCorpusReader."
      ]
    },
    {
      "cell_type": "code",
      "metadata": {
        "id": "clvA9lkNJeLP"
      },
      "source": [
        ""
      ],
      "execution_count": null,
      "outputs": []
    },
    {
      "cell_type": "markdown",
      "metadata": {
        "id": "q5KxRP36JeLR"
      },
      "source": [
        "### Iterate through the fileids in the corpus, extract the raw text of each document, and store them in a list."
      ]
    },
    {
      "cell_type": "code",
      "metadata": {
        "id": "U0BzPgeiJeLR"
      },
      "source": [
        ""
      ],
      "execution_count": null,
      "outputs": []
    },
    {
      "cell_type": "markdown",
      "metadata": {
        "id": "pIF6IXkrJeLT"
      },
      "source": [
        "### Write a function that calculates the following statistics for a document and returns them as a list.\n",
        "\n",
        "- Number of sentences\n",
        "- Number of tokens\n",
        "- Number of words (no stop words or punctuation)\n",
        "- Number of unique words (vocabulary)\n",
        "- Number of unique named entities (excluding numbers, dates, times, and currency types)\n",
        "- Average sentence length\n",
        "- Average word length\n",
        "- Lexical diversity"
      ]
    },
    {
      "cell_type": "code",
      "metadata": {
        "id": "KXImZOGjJeLU"
      },
      "source": [
        ""
      ],
      "execution_count": null,
      "outputs": []
    },
    {
      "cell_type": "markdown",
      "metadata": {
        "id": "nTzNB5ChJeLW"
      },
      "source": [
        "### Iterate through all the documents, calculate these statistics for each one, and store all the results in a Pandas data frame."
      ]
    },
    {
      "cell_type": "code",
      "metadata": {
        "id": "xmLnv-FgJeLW"
      },
      "source": [
        ""
      ],
      "execution_count": null,
      "outputs": []
    },
    {
      "cell_type": "markdown",
      "metadata": {
        "id": "mMusidpEJeLY"
      },
      "source": [
        "### Summarize these statistics for the entire corpus by calling the Pandas `describe` method."
      ]
    },
    {
      "cell_type": "code",
      "metadata": {
        "id": "vaoJyuE4JeLZ"
      },
      "source": [
        ""
      ],
      "execution_count": null,
      "outputs": []
    },
    {
      "cell_type": "markdown",
      "metadata": {
        "id": "ljYdviFFJeLa"
      },
      "source": [
        "### Choose a document from the list of documents you created earlier and generate a frequency distribution bar chart for it showing which terms appear most frequently in the text."
      ]
    },
    {
      "cell_type": "code",
      "metadata": {
        "id": "l3AuhSQzJeLb"
      },
      "source": [
        ""
      ],
      "execution_count": null,
      "outputs": []
    },
    {
      "cell_type": "markdown",
      "metadata": {
        "id": "1axjKBypJeLc"
      },
      "source": [
        "### Generate a word cloud visualization for the same document for which you generated the frequency distribution."
      ]
    },
    {
      "cell_type": "code",
      "metadata": {
        "id": "4ErgYM4QJeLd"
      },
      "source": [
        ""
      ],
      "execution_count": null,
      "outputs": []
    },
    {
      "cell_type": "markdown",
      "metadata": {
        "id": "QBsZEhS1JeLf"
      },
      "source": [
        "### Choose a different article (preferably one that references several named entities) and create a dispersion plot that shows the occurrence of those entities throughout the document."
      ]
    },
    {
      "cell_type": "code",
      "metadata": {
        "id": "vMcdU5gMJeLf"
      },
      "source": [
        ""
      ],
      "execution_count": null,
      "outputs": []
    },
    {
      "cell_type": "markdown",
      "metadata": {
        "id": "jeiGkRCjJeLg"
      },
      "source": [
        "### Choose another article and generate a POS visualization highlighting the parts of speech for tokens in the article."
      ]
    },
    {
      "cell_type": "code",
      "metadata": {
        "id": "WQ7zBV-qJeLh"
      },
      "source": [
        "from yellowbrick.text.postag import PosTagVisualizer"
      ],
      "execution_count": null,
      "outputs": []
    },
    {
      "cell_type": "code",
      "metadata": {
        "id": "9IbXdOnPJeLi"
      },
      "source": [
        ""
      ],
      "execution_count": null,
      "outputs": []
    }
  ]
}