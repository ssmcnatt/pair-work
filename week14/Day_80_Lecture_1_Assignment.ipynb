{
  "nbformat": 4,
  "nbformat_minor": 0,
  "metadata": {
    "kernelspec": {
      "display_name": "Python 3",
      "language": "python",
      "name": "python3"
    },
    "language_info": {
      "codemirror_mode": {
        "name": "ipython",
        "version": 3
      },
      "file_extension": ".py",
      "mimetype": "text/x-python",
      "name": "python",
      "nbconvert_exporter": "python",
      "pygments_lexer": "ipython3",
      "version": "3.7.0"
    },
    "colab": {
      "name": "Day 80 Lecture 1 Assignment.ipynb",
      "provenance": [],
      "collapsed_sections": []
    }
  },
  "cells": [
    {
      "cell_type": "markdown",
      "metadata": {
        "id": "s3b2_cqaKWkw"
      },
      "source": [
        "## Long Short-Term Memory \n",
        "\n",
        "In this assignment, we will learn about LSTM models. We will create an LSTM model for time series prediction."
      ]
    },
    {
      "cell_type": "code",
      "metadata": {
        "id": "k0a6OKp4KWkz"
      },
      "source": [
        "import numpy as np\n",
        "import os\n",
        "import pandas as pd\n",
        "\n",
        "from tensorflow.keras.models import Sequential\n",
        "from tensorflow.keras.layers import Dense, LSTM, Dropout, Flatten\n",
        "from tensorflow.keras.utils import to_categorical"
      ],
      "execution_count": null,
      "outputs": []
    },
    {
      "cell_type": "code",
      "metadata": {
        "id": "mne4psN7CpYz"
      },
      "source": [
        ""
      ],
      "execution_count": null,
      "outputs": []
    },
    {
      "cell_type": "markdown",
      "metadata": {
        "id": "UY5p0gThKWk1"
      },
      "source": [
        "Below is a function for loading time series data collected by sensors. There are 9 different files, We have data about body acceleration, body gyro, and total acceleration for the x, y, and z axis"
      ]
    },
    {
      "cell_type": "code",
      "metadata": {
        "id": "kAhD_8wwKWk2"
      },
      "source": [
        "def load_func(path, file_ind=False):\n",
        "    data_list = []\n",
        "    if file_ind:\n",
        "        filenames = [path]\n",
        "    else:\n",
        "        files = os.listdir(path)\n",
        "        filenames = [path + '/' + f for f in files]\n",
        "    for f in filenames:\n",
        "        dataframe = pd.read_csv(f, header=None, delim_whitespace=True)\n",
        "        data_list.append(dataframe.values)\n",
        "    if len(data_list) > 1:\n",
        "        return np.dstack(data_list)\n",
        "    else:\n",
        "        return data_list[0]"
      ],
      "execution_count": null,
      "outputs": []
    },
    {
      "cell_type": "code",
      "metadata": {
        "id": "06u-u8e4KWk4",
        "outputId": "ed92dc7b-3ace-4253-9096-7b3efbf69f62"
      },
      "source": [
        "os.listdir('./train/Inertial Signals/')"
      ],
      "execution_count": null,
      "outputs": [
        {
          "output_type": "execute_result",
          "data": {
            "text/plain": [
              "['body_acc_x_train.txt',\n",
              " 'body_acc_y_train.txt',\n",
              " 'body_acc_z_train.txt',\n",
              " 'body_gyro_x_train.txt',\n",
              " 'body_gyro_y_train.txt',\n",
              " 'body_gyro_z_train.txt',\n",
              " 'total_acc_x_train.txt',\n",
              " 'total_acc_y_train.txt',\n",
              " 'total_acc_z_train.txt']"
            ]
          },
          "metadata": {
            "tags": []
          },
          "execution_count": 121
        }
      ]
    },
    {
      "cell_type": "code",
      "metadata": {
        "id": "c5_0OBVeKWk7"
      },
      "source": [
        "X_train = load_func(\"./train/Inertial Signals\")\n",
        "X_test = load_func(\"./test/Inertial Signals\")\n",
        "y_train_cat = load_func('./train/y_train.txt', True)\n",
        "y_test_cat = load_func('./test/y_test.txt', True)"
      ],
      "execution_count": null,
      "outputs": []
    },
    {
      "cell_type": "markdown",
      "metadata": {
        "id": "Rgw_29IQKWk8"
      },
      "source": [
        "Print the dimensions of both the predictor variables and the target."
      ]
    },
    {
      "cell_type": "code",
      "metadata": {
        "id": "BBiwN-zUKWk9"
      },
      "source": [
        "# Answer below:\n",
        "\n"
      ],
      "execution_count": null,
      "outputs": []
    },
    {
      "cell_type": "markdown",
      "metadata": {
        "id": "2rL-Y9KFKWk-"
      },
      "source": [
        "The target variable is categorical. One hot encode the target variable."
      ]
    },
    {
      "cell_type": "code",
      "metadata": {
        "id": "2BzBC9QNKWk_"
      },
      "source": [
        "# Answer below:\n",
        "\n"
      ],
      "execution_count": null,
      "outputs": []
    },
    {
      "cell_type": "markdown",
      "metadata": {
        "id": "HeKcEUwsKWlA"
      },
      "source": [
        "Create a model containing an LSTM layer with unit size 100, and input shape that is the tuple containing the number of columns in X and the number of files in X.\n",
        "\n",
        "The next layer is a dropout layer. Choose 0.5 for the proportion. Then add a dense layer of unit size 100 and finally an output dense layer. "
      ]
    },
    {
      "cell_type": "code",
      "metadata": {
        "id": "ujymmzAFKWlB"
      },
      "source": [
        "# Answer below:\n",
        "\n"
      ],
      "execution_count": null,
      "outputs": []
    },
    {
      "cell_type": "markdown",
      "metadata": {
        "id": "GX4stdzAKWlC"
      },
      "source": [
        "Print the model summary to ensure you have the correct number of parameters."
      ]
    },
    {
      "cell_type": "code",
      "metadata": {
        "id": "AbUNEvSJKWlE"
      },
      "source": [
        "# Answer below:\n",
        "\n"
      ],
      "execution_count": null,
      "outputs": []
    },
    {
      "cell_type": "markdown",
      "metadata": {
        "id": "Ww7tK6UwKWlG"
      },
      "source": [
        "Compile and fit the model. Select the appropriate activation, loss, and optimizer.\n",
        "\n",
        "Run the model for 10 epochs with a batch size of 80."
      ]
    },
    {
      "cell_type": "code",
      "metadata": {
        "id": "qdMikFoMKWlG"
      },
      "source": [
        "# Answer below:\n",
        "\n"
      ],
      "execution_count": null,
      "outputs": []
    },
    {
      "cell_type": "markdown",
      "metadata": {
        "id": "h-_IsmrcKWlI"
      },
      "source": [
        "Print the confusion matrix for the test data."
      ]
    },
    {
      "cell_type": "code",
      "metadata": {
        "id": "bDLwv62wKWlI"
      },
      "source": [
        "# Answer below:\n",
        "\n"
      ],
      "execution_count": null,
      "outputs": []
    },
    {
      "cell_type": "code",
      "metadata": {
        "id": "ceYZ8zW4KWlK"
      },
      "source": [
        ""
      ],
      "execution_count": null,
      "outputs": []
    }
  ]
}