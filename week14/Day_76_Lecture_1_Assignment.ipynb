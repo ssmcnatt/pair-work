{
 "cells": [
  {
   "cell_type": "markdown",
   "metadata": {
    "id": "T-xOZ1mZ51O8"
   },
   "source": [
    "## Introduction to Deep Learning\n",
    "\n",
    "In this assignment, we will learn about deep learning and neural networks. Answer the questions below:"
   ]
  },
  {
   "cell_type": "markdown",
   "metadata": {
    "id": "TUBtirr_51O-"
   },
   "source": [
    "#### 1. How do neural networks differ from linear models?"
   ]
  },
  {
   "cell_type": "markdown",
   "metadata": {
    "id": "fGwHenMJ51O-"
   },
   "source": [
    "* It has layers\n",
    "* More parameters\n",
    "* Better for big data, improved accuracy\n",
    "\n"
   ]
  },
  {
   "cell_type": "markdown",
   "metadata": {
    "id": "tJF-uwtC51O_"
   },
   "source": [
    "#### 2. Why do deep networks outperform shallow networks?"
   ]
  },
  {
   "cell_type": "markdown",
   "metadata": {
    "id": "JMwwlwBH51PA"
   },
   "source": [
    "* More complex parameters\n",
    "* More layers\n"
   ]
  },
  {
   "cell_type": "markdown",
   "metadata": {
    "id": "8asF2DFW51PA"
   },
   "source": [
    "#### 3. Why are dense layers called this way? What is a different name for them? Could we have a layer that is not dense?"
   ]
  },
  {
   "cell_type": "markdown",
   "metadata": {
    "id": "05hZS0ea51PB"
   },
   "source": [
    "* Each layer takes all of the parameters from the previous layer\n",
    "* Also called fully connected\n",
    "* There are other layer types\n",
    "\n"
   ]
  },
  {
   "cell_type": "markdown",
   "metadata": {
    "id": "FAPTWoY251PB"
   },
   "source": [
    "#### 4. Do neural networks tend to overfit less than other models? If so, how?"
   ]
  },
  {
   "cell_type": "markdown",
   "metadata": {
    "id": "-qxTVXyc51PC"
   },
   "source": [
    "Yes, it wants to predict as close to 100% as possible"
   ]
  },
  {
   "cell_type": "markdown",
   "metadata": {
    "id": "S0CALsKQ51PE"
   },
   "source": [
    "#### 5. Will a model with more hidden layers always have a more accurate prediction? Why or why not?"
   ]
  },
  {
   "cell_type": "markdown",
   "metadata": {
    "id": "DzhstMjg51PF"
   },
   "source": [
    "Not neccisarily, there is a threshold for the # of layers, you want to minimize # of layers"
   ]
  },
  {
   "cell_type": "markdown",
   "metadata": {
    "id": "2qxJk3Km51PG"
   },
   "source": [
    "#### 6. We generate a neural network for a dataset 10 features. If we have three layers, the first with 64 nodes and the second and third with 32 nodes, how many parameters do we need to estimate?"
   ]
  },
  {
   "cell_type": "code",
   "execution_count": 1,
   "metadata": {
    "id": "kKbl9Xq251PH"
   },
   "outputs": [
    {
     "data": {
      "text/plain": [
       "3840"
      ]
     },
     "execution_count": 1,
     "metadata": {},
     "output_type": "execute_result"
    }
   ],
   "source": [
    "l1 = (10 + 1) * 64\n",
    "l2 = (64 + 1) * 32\n",
    "l3 = (32 + 1) * 32\n",
    "\n",
    "l1 + l2 + l3"
   ]
  }
 ],
 "metadata": {
  "colab": {
   "collapsed_sections": [],
   "name": "Day 76 Lecture 1 Assignment.ipynb",
   "provenance": []
  },
  "kernelspec": {
   "display_name": "Python 3",
   "language": "python",
   "name": "python3"
  },
  "language_info": {
   "codemirror_mode": {
    "name": "ipython",
    "version": 3
   },
   "file_extension": ".py",
   "mimetype": "text/x-python",
   "name": "python",
   "nbconvert_exporter": "python",
   "pygments_lexer": "ipython3",
   "version": "3.7.6"
  }
 },
 "nbformat": 4,
 "nbformat_minor": 1
}
