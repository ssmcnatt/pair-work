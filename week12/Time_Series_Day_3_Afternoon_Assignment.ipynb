{
  "nbformat": 4,
  "nbformat_minor": 0,
  "metadata": {
    "kernelspec": {
      "display_name": "Python 3",
      "language": "python",
      "name": "python3"
    },
    "language_info": {
      "codemirror_mode": {
        "name": "ipython",
        "version": 3
      },
      "file_extension": ".py",
      "mimetype": "text/x-python",
      "name": "python",
      "nbconvert_exporter": "python",
      "pygments_lexer": "ipython3",
      "version": "3.7.2"
    },
    "colab": {
      "name": "Time Series Day 3 Afternoon Assignment.ipynb",
      "provenance": [],
      "collapsed_sections": []
    }
  },
  "cells": [
    {
      "cell_type": "markdown",
      "metadata": {
        "id": "zkaJzOOti5_e"
      },
      "source": [
        "# Time Series Modeling (Smoothing Methods) Assignment"
      ]
    },
    {
      "cell_type": "code",
      "metadata": {
        "id": "xHoYEjdyi5_k"
      },
      "source": [
        "import pandas as pd\n",
        "import numpy as np\n",
        "import statsmodels.api as sm\n",
        "import plotly.express as px"
      ],
      "execution_count": null,
      "outputs": []
    },
    {
      "cell_type": "markdown",
      "metadata": {
        "id": "KcE1r7cdi5_r"
      },
      "source": [
        "### Import the walmart stock prices data set."
      ]
    },
    {
      "cell_type": "code",
      "metadata": {
        "id": "PygO43zUi5_s"
      },
      "source": [
        ""
      ],
      "execution_count": null,
      "outputs": []
    },
    {
      "cell_type": "markdown",
      "metadata": {
        "id": "NMqLgEBji5_v"
      },
      "source": [
        "### Plot a line chart with the observed values (the daily closing prices)."
      ]
    },
    {
      "cell_type": "code",
      "metadata": {
        "id": "_pHsjKVHi5_w"
      },
      "source": [
        ""
      ],
      "execution_count": null,
      "outputs": []
    },
    {
      "cell_type": "markdown",
      "metadata": {
        "id": "a7XoyzNxi5_z"
      },
      "source": [
        "### Choose 4 moving average time windows and add columns to the data set containing the values for each of them."
      ]
    },
    {
      "cell_type": "code",
      "metadata": {
        "id": "T3BujRU2i5_0"
      },
      "source": [
        ""
      ],
      "execution_count": null,
      "outputs": []
    },
    {
      "cell_type": "markdown",
      "metadata": {
        "id": "X9iuEvXSi5_4"
      },
      "source": [
        "### Plot a multi-line chart that compares the 4 different simple moving averages."
      ]
    },
    {
      "cell_type": "code",
      "metadata": {
        "id": "MS8dp_ABi5_5"
      },
      "source": [
        ""
      ],
      "execution_count": null,
      "outputs": []
    },
    {
      "cell_type": "markdown",
      "metadata": {
        "id": "BfQqyGOki5_8"
      },
      "source": [
        "### Write a function that calculates a weighted moving average. Take the weighted moving average of the observed values and store it in a new column in the dataframe."
      ]
    },
    {
      "cell_type": "code",
      "metadata": {
        "id": "esKTgiP-i5_9"
      },
      "source": [
        ""
      ],
      "execution_count": null,
      "outputs": []
    },
    {
      "cell_type": "markdown",
      "metadata": {
        "id": "hyacJXy0i5__"
      },
      "source": [
        "### Plot the weighted moving average in a multi-line plot with its simple moving average of the same length and evaluate the differences."
      ]
    },
    {
      "cell_type": "code",
      "metadata": {
        "id": "xu5ATC_9i6AA"
      },
      "source": [
        ""
      ],
      "execution_count": null,
      "outputs": []
    },
    {
      "cell_type": "markdown",
      "metadata": {
        "id": "XwYbswaJi6AD"
      },
      "source": [
        "### Apply a simple exponential smoothing model to the observed values and store the results in a new column."
      ]
    },
    {
      "cell_type": "code",
      "metadata": {
        "id": "CFZQupYZi6AF"
      },
      "source": [
        ""
      ],
      "execution_count": null,
      "outputs": []
    },
    {
      "cell_type": "markdown",
      "metadata": {
        "id": "AItpSa-vi6AI"
      },
      "source": [
        "### Add the simple exponential smoothing values to your multi-line plot containing the simple and weighted moving average values and evaluate how they differ."
      ]
    },
    {
      "cell_type": "code",
      "metadata": {
        "id": "yxGZDK7Mi6AJ"
      },
      "source": [
        ""
      ],
      "execution_count": null,
      "outputs": []
    },
    {
      "cell_type": "markdown",
      "metadata": {
        "id": "UN8k38cVi6AM"
      },
      "source": [
        "### Perform double and triple exponential smoothing and store their respective values in new columns."
      ]
    },
    {
      "cell_type": "code",
      "metadata": {
        "id": "2ksBps8di6AN"
      },
      "source": [
        ""
      ],
      "execution_count": null,
      "outputs": []
    },
    {
      "cell_type": "markdown",
      "metadata": {
        "id": "qsSg8CNdi6AP"
      },
      "source": [
        "### Create a new multi-line plot showing the results of the three exponential smoothing methods."
      ]
    },
    {
      "cell_type": "code",
      "metadata": {
        "id": "d_BDMw6Xi6AQ"
      },
      "source": [
        ""
      ],
      "execution_count": null,
      "outputs": []
    },
    {
      "cell_type": "markdown",
      "metadata": {
        "id": "XvzBtgMmi6AT"
      },
      "source": [
        "### Evaluate the performances of the three exponential smoothing methods by calculating their mean absolute error and their root mean squared error. Which one modeled the data best?"
      ]
    },
    {
      "cell_type": "code",
      "metadata": {
        "id": "I6t1708Mi6AU"
      },
      "source": [
        ""
      ],
      "execution_count": null,
      "outputs": []
    }
  ]
}