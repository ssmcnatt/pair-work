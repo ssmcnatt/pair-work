{
 "cells": [
  {
   "cell_type": "markdown",
   "metadata": {
    "id": "spq-s3g9oLC5"
   },
   "source": [
    "# Time Series Forecasting Assignment"
   ]
  },
  {
   "cell_type": "code",
   "execution_count": 2,
   "metadata": {
    "id": "-rZsUL44oLC9"
   },
   "outputs": [],
   "source": [
    "import pandas as pd\n",
    "import plotly.express as px\n",
    "import statsmodels.api as sm\n",
    "from statsmodels.tsa.stattools import adfuller\n",
    "from statsmodels.tsa.arima_model import ARMA\n",
    "from statsmodels.tsa.arima_model import ARIMA\n",
    "from statsmodels.tsa.statespace.sarimax import SARIMAX\n",
    "# from fbprophet import Prophet"
   ]
  },
  {
   "cell_type": "code",
   "execution_count": 3,
   "metadata": {},
   "outputs": [],
   "source": [
    "def forecast(data, field, model, periods):\n",
    "    model_results = model.forecast(periods)[0]\n",
    "    current_value = data[field].iloc[-1]\n",
    "    forecasts = []\n",
    "    \n",
    "    for result in model_results:\n",
    "        forecast = current_value + result\n",
    "        forecasts.append(forecast)\n",
    "        current_value = forecast\n",
    "    \n",
    "    forecasts = pd.Series(forecasts)\n",
    "    forecasts.index = [x + periods \n",
    "                       for x in list(data[field].tail(periods).index)]\n",
    "    \n",
    "    return forecasts"
   ]
  },
  {
   "cell_type": "markdown",
   "metadata": {
    "id": "vhV6dNk-oLDC"
   },
   "source": [
    "### Import the Microsoft stock price data set (MSFT_data.csv) into a Pandas dataframe."
   ]
  },
  {
   "cell_type": "code",
   "execution_count": null,
   "metadata": {
    "id": "tr5_xy1eoLDD"
   },
   "outputs": [],
   "source": []
  },
  {
   "cell_type": "markdown",
   "metadata": {
    "id": "LsNls7_doLDG"
   },
   "source": [
    "### Generate a line chart showing the observed values (closing prices)."
   ]
  },
  {
   "cell_type": "code",
   "execution_count": null,
   "metadata": {
    "id": "vIKJLWuqoLDH"
   },
   "outputs": [],
   "source": []
  },
  {
   "cell_type": "markdown",
   "metadata": {
    "id": "kyveL1iDoLDL"
   },
   "source": [
    "### Decompose the time series and check it for stationarity. If the data is not stationary, difference the observations and store the results in a new Diff column."
   ]
  },
  {
   "cell_type": "code",
   "execution_count": null,
   "metadata": {
    "id": "k557EJiPoLDM"
   },
   "outputs": [],
   "source": []
  },
  {
   "cell_type": "markdown",
   "metadata": {
    "id": "f8VkP_YhoLDP"
   },
   "source": [
    "### Forecast the time series 60 days into the future using double and triple exponential smoothing models."
   ]
  },
  {
   "cell_type": "code",
   "execution_count": null,
   "metadata": {
    "id": "L-Lvn36moLDQ"
   },
   "outputs": [],
   "source": []
  },
  {
   "cell_type": "markdown",
   "metadata": {
    "id": "sksTycEBoLDV"
   },
   "source": [
    "### Forecast the time series 60 days into the future using ARMA, ARIMA, and SARIMA models."
   ]
  },
  {
   "cell_type": "code",
   "execution_count": null,
   "metadata": {
    "id": "du8NWnwNoLDX"
   },
   "outputs": [],
   "source": []
  },
  {
   "cell_type": "markdown",
   "metadata": {
    "id": "zD53jyRUoLDb"
   },
   "source": [
    "### Forecast the time series 60 days into the future using the Facebook Prophet model."
   ]
  },
  {
   "cell_type": "code",
   "execution_count": null,
   "metadata": {
    "id": "--hz0j_SoLDc"
   },
   "outputs": [],
   "source": []
  },
  {
   "cell_type": "markdown",
   "metadata": {
    "id": "9AwgV7FboLDe"
   },
   "source": [
    "### Combine the observed values and all the forecasts into a single data frame and generate a line chart to visually compare the different models."
   ]
  },
  {
   "cell_type": "code",
   "execution_count": null,
   "metadata": {
    "id": "19MXNRt9oLDf"
   },
   "outputs": [],
   "source": []
  }
 ],
 "metadata": {
  "colab": {
   "collapsed_sections": [],
   "name": "Time Series Day 4 Afternoon Assignment.ipynb",
   "provenance": []
  },
  "kernelspec": {
   "display_name": "Python 3",
   "language": "python",
   "name": "python3"
  },
  "language_info": {
   "codemirror_mode": {
    "name": "ipython",
    "version": 3
   },
   "file_extension": ".py",
   "mimetype": "text/x-python",
   "name": "python",
   "nbconvert_exporter": "python",
   "pygments_lexer": "ipython3",
   "version": "3.8.3"
  }
 },
 "nbformat": 4,
 "nbformat_minor": 1
}
