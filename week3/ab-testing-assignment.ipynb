{
 "cells": [
  {
   "cell_type": "markdown",
   "metadata": {
    "colab_type": "text",
    "id": "BHU30SqmWrDL"
   },
   "source": [
    "## AB Testing\n",
    "\n",
    "12_01_ab_testing_assign_solution\n",
    "\n",
    "Introductory AB Testing walkthrough applied to the problem of determining if a change to a Website will lead to improved performance in a specific business metrics.\n",
    "\n",
    "We also will introduce the math behind AB testing.\n",
    "\n",
    "References:\n",
    "- Wiki AB Testting  \n",
    "https://en.wikipedia.org/wiki/A/B_testing\n",
    "\n",
    "- The Essential Guide to Effect Sizes: Statistical Power, Meta-Analysis, and the Interpretation of Research Results, 2010. Page 60. \n",
    "\n",
    "- Stanford lecture on sample sizes  \n",
    "http://statweb.stanford.edu/~susan/courses/s141/hopower.pdf"
   ]
  },
  {
   "cell_type": "code",
   "execution_count": 1,
   "metadata": {
    "colab": {},
    "colab_type": "code",
    "id": "FB4UfYtaWrDM"
   },
   "outputs": [],
   "source": [
    "import numpy as np\n",
    "import pandas as pd\n",
    "from scipy import stats\n",
    "import matplotlib.pyplot as plt\n",
    "import statsmodels.stats.proportion as proportion\n",
    "import seaborn as sns\n",
    "\n",
    "%matplotlib inline"
   ]
  },
  {
   "cell_type": "markdown",
   "metadata": {
    "colab_type": "text",
    "id": "BX0dm4uHWrDP"
   },
   "source": [
    "### Topics\n",
    "\n",
    "1. Set up the experiment\n",
    "  * What is the goal? \n",
    "  * What is the metric? \n",
    "  * How much of an increase (\"lift\" in the metric) is worth the change? \n",
    "  * How much statistical power and level of significance do you need? Typically 80% and 0.05 are used respectively.\n",
    "  \n",
    "2. Set up a control group and test group by selecting users at random.\n",
    "\n",
    "3. Run the test and record the success rate for each group.\n",
    "\n",
    "4. Plot the distribution of the difference between the two samples.\n",
    "\n",
    "5. Measure the probability of getting the result of the test group and the confidence interval. Check to see if there is enough statistical power and that the level of significance is achieved.\n",
    "\n",
    "6. Consider other tradeoffs and decide if the change should be launched."
   ]
  },
  {
   "cell_type": "markdown",
   "metadata": {
    "colab_type": "text",
    "id": "DjlC412mWrDP"
   },
   "source": [
    "## Set up the experiment\n",
    "\n",
    "The goal of running the AB test is to evaluate if a change in a website will lead to improved performance in a specific metric. \n",
    "\n",
    "You may decide to test very simple alternatives such as changing the look of a single button on a webpage or testing different layouts and headlines, or a multi-step processes which may have many differences. For examlple, signing up a new user."
   ]
  },
  {
   "cell_type": "markdown",
   "metadata": {
    "colab_type": "text",
    "id": "gYz-yGEHWrDQ"
   },
   "source": [
    "## Variables\n",
    "\n",
    "* Sample size\n",
    "* Baseline conversion rate\n",
    "* Minimum detectable effect\n",
    "* Desired statistical power\n",
    "* Confidence level or level of significance"
   ]
  },
  {
   "cell_type": "markdown",
   "metadata": {
    "colab_type": "text",
    "id": "q66xzTslWrDQ"
   },
   "source": [
    "## Control Group A and Test Group B\n",
    "Typically, users are randomly selected and assigned to either a control group or a test group, and the total number of users participating in the A/B test make up a small percentage of the total amount of users. \n",
    "\n",
    "For this exercise, we will run an A/B test for a hypothetical company that is trying to get users to sign up for a premium account.\n",
    "\n",
    "Initially, we will collect 1000 samples for each group and serve the current signup page to the control group and a new signup page to the test group."
   ]
  },
  {
   "cell_type": "markdown",
   "metadata": {
    "colab_type": "text",
    "id": "q5pmDHvhWrDR"
   },
   "source": [
    "### Run the Test\n",
    "\n",
    "Since this is just a hypothetical case, we're going to generate synthetic data based on the binomial distribution. \n",
    "\n",
    "The binomial distribution with parameters n and p is the discrete probability distribution of the number of successes in a sequence of n independent experiments, each asking a yes–no question, and each with its own boolean-valued outcome: success / yes / true / one (with probability p) or failure / no / false / zero (with probability q = 1 − p). \n",
    "\n",
    "https://en.wikipedia.org/wiki/Binomial_distribution\n",
    "\n",
    "In real-world applications, you will have to set up your experiment, and wait an amount of time needed to gather the data."
   ]
  },
  {
   "cell_type": "code",
   "execution_count": 2,
   "metadata": {
    "colab": {},
    "colab_type": "code",
    "id": "4_iz-aStWrDR"
   },
   "outputs": [],
   "source": [
    "# A is control; B is test\n",
    "n_a = 1000\n",
    "n_b = 1000"
   ]
  },
  {
   "cell_type": "markdown",
   "metadata": {
    "colab_type": "text",
    "id": "NtZciaVtWrDT"
   },
   "source": [
    "You will also not be able to set the difference, `d_hat`, prior to your experiment, like we will be doing below for our hypothetical test."
   ]
  },
  {
   "cell_type": "code",
   "execution_count": 3,
   "metadata": {
    "colab": {},
    "colab_type": "code",
    "id": "R7MfWGgWWrDT"
   },
   "outputs": [],
   "source": [
    "# bcr: baseline conversion rate\n",
    "# d_hat: difference in a metric between the two groups, \n",
    "#   also referred to as minimal detectable effect or lift depending on the context\n",
    "p_a = 0.10\n",
    "p_b = 0.12"
   ]
  },
  {
   "cell_type": "code",
   "execution_count": 4,
   "metadata": {
    "colab": {},
    "colab_type": "code",
    "id": "dIDjcv3X4fuX"
   },
   "outputs": [],
   "source": [
    "def generate_data(n_a, n_b, p_a, p_b):\n",
    "    a_data = pd.DataFrame({\"group\": \"A\", \"converted\": np.random.binomial(1, p_a, n_a)})\n",
    "    b_data = pd.DataFrame({\"group\": \"B\", \"converted\": np.random.binomial(1, p_b, n_b)})\n",
    "    return pd.concat((a_data, b_data))"
   ]
  },
  {
   "cell_type": "code",
   "execution_count": 5,
   "metadata": {
    "colab": {},
    "colab_type": "code",
    "id": "8QXPWFUY-oSZ"
   },
   "outputs": [],
   "source": [
    "ab_data = generate_data(n_a, n_b, p_a, p_b)"
   ]
  },
  {
   "cell_type": "markdown",
   "metadata": {
    "colab_type": "text",
    "id": "P3cqW5O1WrDY"
   },
   "source": [
    "First, we should perform some preliminary data analysis."
   ]
  },
  {
   "cell_type": "code",
   "execution_count": 6,
   "metadata": {
    "colab": {
     "base_uri": "https://localhost:8080/",
     "height": 202
    },
    "colab_type": "code",
    "id": "NrLEbytUWrDZ",
    "outputId": "d180d592-9545-42b1-91fa-015adc71dfe2"
   },
   "outputs": [
    {
     "data": {
      "text/html": [
       "<div>\n",
       "<style scoped>\n",
       "    .dataframe tbody tr th:only-of-type {\n",
       "        vertical-align: middle;\n",
       "    }\n",
       "\n",
       "    .dataframe tbody tr th {\n",
       "        vertical-align: top;\n",
       "    }\n",
       "\n",
       "    .dataframe thead th {\n",
       "        text-align: right;\n",
       "    }\n",
       "</style>\n",
       "<table border=\"1\" class=\"dataframe\">\n",
       "  <thead>\n",
       "    <tr style=\"text-align: right;\">\n",
       "      <th></th>\n",
       "      <th>group</th>\n",
       "      <th>converted</th>\n",
       "    </tr>\n",
       "  </thead>\n",
       "  <tbody>\n",
       "    <tr>\n",
       "      <th>0</th>\n",
       "      <td>A</td>\n",
       "      <td>1</td>\n",
       "    </tr>\n",
       "    <tr>\n",
       "      <th>1</th>\n",
       "      <td>A</td>\n",
       "      <td>0</td>\n",
       "    </tr>\n",
       "    <tr>\n",
       "      <th>2</th>\n",
       "      <td>A</td>\n",
       "      <td>0</td>\n",
       "    </tr>\n",
       "    <tr>\n",
       "      <th>3</th>\n",
       "      <td>A</td>\n",
       "      <td>0</td>\n",
       "    </tr>\n",
       "    <tr>\n",
       "      <th>4</th>\n",
       "      <td>A</td>\n",
       "      <td>0</td>\n",
       "    </tr>\n",
       "  </tbody>\n",
       "</table>\n",
       "</div>"
      ],
      "text/plain": [
       "  group  converted\n",
       "0     A          1\n",
       "1     A          0\n",
       "2     A          0\n",
       "3     A          0\n",
       "4     A          0"
      ]
     },
     "execution_count": 6,
     "metadata": {},
     "output_type": "execute_result"
    }
   ],
   "source": [
    "ab_data.head(5)"
   ]
  },
  {
   "cell_type": "markdown",
   "metadata": {
    "colab_type": "text",
    "id": "PB9PH1OyWrDb"
   },
   "source": [
    "Verify the dimensionality of the data."
   ]
  },
  {
   "cell_type": "code",
   "execution_count": 7,
   "metadata": {
    "colab": {
     "base_uri": "https://localhost:8080/",
     "height": 35
    },
    "colab_type": "code",
    "id": "Rd5jssOJWrDb",
    "outputId": "2670a879-aca9-41ac-bac3-86e2f9661591"
   },
   "outputs": [
    {
     "data": {
      "text/plain": [
       "(2000, 2)"
      ]
     },
     "execution_count": 7,
     "metadata": {},
     "output_type": "execute_result"
    }
   ],
   "source": [
    "ab_data.shape"
   ]
  },
  {
   "cell_type": "markdown",
   "metadata": {
    "colab_type": "text",
    "id": "JDC66D0vWrDd"
   },
   "source": [
    "Next, determine how many users from each group converted.\n",
    "\n",
    "Since we are using 1 for converted and 0 for not converted, we can `sum()` these values."
   ]
  },
  {
   "cell_type": "code",
   "execution_count": 8,
   "metadata": {
    "colab": {},
    "colab_type": "code",
    "id": "svhtmRS-WrDd"
   },
   "outputs": [],
   "source": [
    "a_group = ab_data[ab_data[\"group\"] == \"A\"]\n",
    "b_group = ab_data[ab_data[\"group\"] == \"B\"]"
   ]
  },
  {
   "cell_type": "code",
   "execution_count": 9,
   "metadata": {
    "colab": {
     "base_uri": "https://localhost:8080/",
     "height": 35
    },
    "colab_type": "code",
    "id": "YC8pV9wI7Wvc",
    "outputId": "95567e20-7784-46bb-a5f0-595cd2ec9a7c"
   },
   "outputs": [
    {
     "data": {
      "text/plain": [
       "100"
      ]
     },
     "execution_count": 9,
     "metadata": {},
     "output_type": "execute_result"
    }
   ],
   "source": [
    "a_converted = a_group[\"converted\"].sum()\n",
    "a_converted"
   ]
  },
  {
   "cell_type": "code",
   "execution_count": 10,
   "metadata": {
    "colab": {
     "base_uri": "https://localhost:8080/",
     "height": 35
    },
    "colab_type": "code",
    "id": "9y86IcJo7XpM",
    "outputId": "212c3e8e-a632-4aae-928f-d38a0c064e98"
   },
   "outputs": [
    {
     "data": {
      "text/plain": [
       "127"
      ]
     },
     "execution_count": 10,
     "metadata": {},
     "output_type": "execute_result"
    }
   ],
   "source": [
    "b_converted = b_group[\"converted\"].sum()\n",
    "b_converted"
   ]
  },
  {
   "cell_type": "code",
   "execution_count": 11,
   "metadata": {
    "colab": {
     "base_uri": "https://localhost:8080/",
     "height": 35
    },
    "colab_type": "code",
    "id": "P2XkxXi47l_v",
    "outputId": "35e84c3b-b02e-4262-cf60-f008d34014ed"
   },
   "outputs": [
    {
     "data": {
      "text/plain": [
       "1000"
      ]
     },
     "execution_count": 11,
     "metadata": {},
     "output_type": "execute_result"
    }
   ],
   "source": [
    "a_total = len(a_group)\n",
    "a_total"
   ]
  },
  {
   "cell_type": "code",
   "execution_count": 12,
   "metadata": {
    "colab": {
     "base_uri": "https://localhost:8080/",
     "height": 35
    },
    "colab_type": "code",
    "id": "KJcHqsw2WrDh",
    "outputId": "ec5b9fb9-9c20-42d3-a25c-8a3ada624f3c"
   },
   "outputs": [
    {
     "data": {
      "text/plain": [
       "1000"
      ]
     },
     "execution_count": 12,
     "metadata": {},
     "output_type": "execute_result"
    }
   ],
   "source": [
    "b_total = len(b_group)\n",
    "b_total"
   ]
  },
  {
   "cell_type": "code",
   "execution_count": 13,
   "metadata": {
    "colab": {
     "base_uri": "https://localhost:8080/",
     "height": 35
    },
    "colab_type": "code",
    "id": "oaExpMuN70d6",
    "outputId": "c159c6c4-22a1-401c-e79c-bf7a79ba6c46"
   },
   "outputs": [
    {
     "data": {
      "text/plain": [
       "0.1"
      ]
     },
     "execution_count": 13,
     "metadata": {},
     "output_type": "execute_result"
    }
   ],
   "source": [
    "p_a = a_converted / a_total\n",
    "p_a"
   ]
  },
  {
   "cell_type": "code",
   "execution_count": 14,
   "metadata": {
    "colab": {
     "base_uri": "https://localhost:8080/",
     "height": 35
    },
    "colab_type": "code",
    "id": "mLRA-Utg70u3",
    "outputId": "ac1d5518-8b53-47a0-de03-6b36a5a4e7fb"
   },
   "outputs": [
    {
     "data": {
      "text/plain": [
       "0.127"
      ]
     },
     "execution_count": 14,
     "metadata": {},
     "output_type": "execute_result"
    }
   ],
   "source": [
    "p_b = b_converted / b_total\n",
    "p_b"
   ]
  },
  {
   "cell_type": "markdown",
   "metadata": {
    "colab_type": "text",
    "id": "64LpXK0sWrDl"
   },
   "source": [
    "Calculate the difference in conversion rates, i.e., the \"lift.\""
   ]
  },
  {
   "cell_type": "code",
   "execution_count": 15,
   "metadata": {
    "colab": {
     "base_uri": "https://localhost:8080/",
     "height": 35
    },
    "colab_type": "code",
    "id": "03py4ptUWrDn",
    "outputId": "50b0ae09-5e56-4a40-9899-cce3008d39fd"
   },
   "outputs": [
    {
     "data": {
      "text/plain": [
       "0.026999999999999996"
      ]
     },
     "execution_count": 15,
     "metadata": {},
     "output_type": "execute_result"
    }
   ],
   "source": [
    "p_b - p_a"
   ]
  },
  {
   "cell_type": "markdown",
   "metadata": {
    "colab_type": "text",
    "id": "BU8PeVn6WrDp"
   },
   "source": [
    "Summarize our experimental results"
   ]
  },
  {
   "cell_type": "code",
   "execution_count": 16,
   "metadata": {
    "colab": {},
    "colab_type": "code",
    "id": "dyqo40ye6QcD"
   },
   "outputs": [],
   "source": [
    "ab_summary = ab_data.groupby(\"group\").agg({\"converted\": [\"sum\", \"size\", \"mean\"]})\n",
    "ab_summary.columns = [\"converted\", \"total\", \"rate\"]"
   ]
  },
  {
   "cell_type": "code",
   "execution_count": 17,
   "metadata": {
    "colab": {
     "base_uri": "https://localhost:8080/",
     "height": 141
    },
    "colab_type": "code",
    "id": "uMWtF_F9WrDr",
    "outputId": "75623a1d-70da-4547-acd1-a00e873c8fa1"
   },
   "outputs": [
    {
     "data": {
      "text/html": [
       "<div>\n",
       "<style scoped>\n",
       "    .dataframe tbody tr th:only-of-type {\n",
       "        vertical-align: middle;\n",
       "    }\n",
       "\n",
       "    .dataframe tbody tr th {\n",
       "        vertical-align: top;\n",
       "    }\n",
       "\n",
       "    .dataframe thead th {\n",
       "        text-align: right;\n",
       "    }\n",
       "</style>\n",
       "<table border=\"1\" class=\"dataframe\">\n",
       "  <thead>\n",
       "    <tr style=\"text-align: right;\">\n",
       "      <th></th>\n",
       "      <th>converted</th>\n",
       "      <th>total</th>\n",
       "      <th>rate</th>\n",
       "    </tr>\n",
       "    <tr>\n",
       "      <th>group</th>\n",
       "      <th></th>\n",
       "      <th></th>\n",
       "      <th></th>\n",
       "    </tr>\n",
       "  </thead>\n",
       "  <tbody>\n",
       "    <tr>\n",
       "      <th>A</th>\n",
       "      <td>100</td>\n",
       "      <td>1000</td>\n",
       "      <td>0.100</td>\n",
       "    </tr>\n",
       "    <tr>\n",
       "      <th>B</th>\n",
       "      <td>127</td>\n",
       "      <td>1000</td>\n",
       "      <td>0.127</td>\n",
       "    </tr>\n",
       "  </tbody>\n",
       "</table>\n",
       "</div>"
      ],
      "text/plain": [
       "       converted  total   rate\n",
       "group                         \n",
       "A            100   1000  0.100\n",
       "B            127   1000  0.127"
      ]
     },
     "execution_count": 17,
     "metadata": {},
     "output_type": "execute_result"
    }
   ],
   "source": [
    "ab_summary"
   ]
  },
  {
   "cell_type": "markdown",
   "metadata": {
    "colab_type": "text",
    "id": "5gk36XCcWrDt"
   },
   "source": [
    "The result should be similar to the parameters that we used to set up the test. \n",
    "\n",
    "In real world applications, we will not be able to *set* how much lift we would see in the test group a priori. \n",
    "\n",
    "When setting up an experiment, we need to decide how many samples are needed for the test, and we will probably know the baseline conversion rate for the control.\n",
    "\n",
    "If you observe the conversion rate for both groups, you find that the new signup page resulted in an improvement of approximately 2%. This is good, but we need to demonstrate that this result is statistically significant."
   ]
  },
  {
   "cell_type": "markdown",
   "metadata": {
    "colab_type": "text",
    "id": "fLb-y2fxWrDt"
   },
   "source": [
    "## Compare the Two Samples\n"
   ]
  },
  {
   "cell_type": "markdown",
   "metadata": {
    "colab_type": "text",
    "id": "clpH9H_4WrDu"
   },
   "source": [
    "Plot the binomial distribution that corresponds to the control group `A` conversion rate.\n",
    "\n",
    "Evaluate the probability of getting the result from the test group `B` based on the binomial distribution from the control group, plot the result."
   ]
  },
  {
   "cell_type": "code",
   "execution_count": 18,
   "metadata": {
    "colab": {
     "base_uri": "https://localhost:8080/",
     "height": 35
    },
    "colab_type": "code",
    "id": "NGS5oPPoWrDu",
    "outputId": "e74cca87-6014-4a83-8172-09e1b3783a88"
   },
   "outputs": [
    {
     "data": {
      "text/plain": [
       "127.0"
      ]
     },
     "execution_count": 18,
     "metadata": {},
     "output_type": "execute_result"
    }
   ],
   "source": [
    "result = p_b * a_total\n",
    "result"
   ]
  },
  {
   "cell_type": "code",
   "execution_count": 19,
   "metadata": {
    "colab": {
     "base_uri": "https://localhost:8080/",
     "height": 388
    },
    "colab_type": "code",
    "id": "jAN1NtXAWrDx",
    "outputId": "a23db2b0-a3aa-400d-852b-60133ac51895"
   },
   "outputs": [
    {
     "data": {
      "image/png": "[encoded data removed]",
      "text/plain": [
       "<Figure size 864x432 with 1 Axes>"
      ]
     },
     "metadata": {
      "needs_background": "light"
     },
     "output_type": "display_data"
    }
   ],
   "source": [
    "plt.figure(figsize=(12, 6))\n",
    "\n",
    "x = range(a_converted - 49, a_converted + 50)\n",
    "y = stats.binom(a_total, p_a).pmf(x)\n",
    "\n",
    "plt.plot(x, y, label=\"Control\")\n",
    "plt.axvline(x=p_b * a_total, c=\"orange\", label=\"Test\")\n",
    "\n",
    "plt.xlabel(\"N Converted\")\n",
    "plt.ylabel(\"Probability\")\n",
    "plt.legend()\n",
    "plt.show()"
   ]
  },
  {
   "cell_type": "markdown",
   "metadata": {
    "colab_type": "text",
    "id": "qenctNpiWrD0"
   },
   "source": [
    "Determine the probability of seeing the result assuming the null hypothesis using `scipy.stats.pmf()` (probability mass function.)"
   ]
  },
  {
   "cell_type": "code",
   "execution_count": 20,
   "metadata": {
    "colab": {
     "base_uri": "https://localhost:8080/",
     "height": 35
    },
    "colab_type": "code",
    "id": "OL4EZ9hyWrD0",
    "outputId": "1e511467-695c-4db9-cc44-abd109ece30c"
   },
   "outputs": [
    {
     "data": {
      "text/plain": [
       "0.0008778377906968873"
      ]
     },
     "execution_count": 20,
     "metadata": {},
     "output_type": "execute_result"
    }
   ],
   "source": [
    "stats.binom(a_total, p_a).pmf(int(result))"
   ]
  },
  {
   "cell_type": "markdown",
   "metadata": {
    "colab_type": "text",
    "id": "mpqht96YE6rb"
   },
   "source": [
    "Determine the probability of seeing the result *or greater* assuming the null hypothesis using scipy.stats.cdf() (cumulative density function.)  This is an example of manually calculating a p-value."
   ]
  },
  {
   "cell_type": "code",
   "execution_count": 21,
   "metadata": {
    "colab": {
     "base_uri": "https://localhost:8080/",
     "height": 35
    },
    "colab_type": "code",
    "id": "ngbTk6OTFMPy",
    "outputId": "f9c7af55-48f0-45ce-c9f7-81ab63c95991"
   },
   "outputs": [
    {
     "data": {
      "text/plain": [
       "0.002506278391892325"
      ]
     },
     "execution_count": 21,
     "metadata": {},
     "output_type": "execute_result"
    }
   ],
   "source": [
    "1 - stats.binom(a_total, p_a).cdf(int(result))"
   ]
  },
  {
   "cell_type": "markdown",
   "metadata": {
    "colab_type": "text",
    "id": "eM7GGGWtWrD4"
   },
   "source": [
    "### Assignment"
   ]
  },
  {
   "cell_type": "markdown",
   "metadata": {
    "colab_type": "text",
    "id": "gy6GAMCgWrD4"
   },
   "source": [
    "**Question:**\n",
    "    \n",
    "Why didn't we use the t-test in the previous example?"
   ]
  },
  {
   "cell_type": "code",
   "execution_count": 22,
   "metadata": {
    "colab": {},
    "colab_type": "code",
    "id": "3P1soA1B8xRp"
   },
   "outputs": [],
   "source": [
    "# It's not a normal distribution"
   ]
  },
  {
   "cell_type": "markdown",
   "metadata": {
    "colab_type": "text",
    "id": "BQ96SEX4sb3x"
   },
   "source": [
    "**Programming:**\n",
    "    \n",
    "- Run `generate_data()` for 100 trials with the following parameters:  \n",
    "\n",
    "    `N_A=1000, N_B=1000, p_A=0.10, p_B=0.12`\n",
    "\n",
    "    `ab_data = generate_data(N_A, N_B, p_A, p_B)`\n",
    "\n",
    "- For each trial, calculate and store the conversion rates for group A and group B.\n",
    "\n",
    "- Run a t-Test on the conversion rate arrays for group A and group B."
   ]
  },
  {
   "cell_type": "code",
   "execution_count": 23,
   "metadata": {
    "colab": {},
    "colab_type": "code",
    "id": "-RtwrimlWrD5"
   },
   "outputs": [
    {
     "name": "stdout",
     "output_type": "stream",
     "text": [
      "[-13.95529487] [2.854437e-31]\n"
     ]
    }
   ],
   "source": [
    "a_rates = []\n",
    "b_rates = []\n",
    "for i in range(100):\n",
    "    ab_data = generate_data(1000, 1000, 0.10, 0.12)\n",
    "    agg_df = ab_data.groupby('group').agg(['mean'])\n",
    "    a_rates.append(agg_df.iloc[0])\n",
    "    b_rates.append(agg_df.iloc[1])\n",
    "\n",
    "t, p = stats.ttest_ind(a_rates, b_rates)\n",
    "print(t, p)"
   ]
  },
  {
   "cell_type": "markdown",
   "metadata": {
    "colab_type": "text",
    "id": "5XVenkIJWrD7"
   },
   "source": [
    "Are the results statistically significant?"
   ]
  },
  {
   "cell_type": "code",
   "execution_count": 24,
   "metadata": {},
   "outputs": [],
   "source": [
    "# Yes, very low p-value"
   ]
  },
  {
   "cell_type": "markdown",
   "metadata": {
    "colab_type": "text",
    "id": "Fe9I5FjM-7T4"
   },
   "source": [
    "Calculate a confidence interval to show the difference in conversion rates."
   ]
  },
  {
   "cell_type": "code",
   "execution_count": 32,
   "metadata": {},
   "outputs": [
    {
     "data": {
      "image/png": "[encoded data removed]",
      "text/plain": [
       "<Figure size 432x288 with 1 Axes>"
      ]
     },
     "metadata": {
      "needs_background": "light"
     },
     "output_type": "display_data"
    },
    {
     "name": "stdout",
     "output_type": "stream",
     "text": [
      "0.017 0.0014323808851000493\n",
      "0.014192533465203905 0.0198074665347961\n"
     ]
    }
   ],
   "source": [
    "sns.distplot(a_rates)\n",
    "sns.distplot(b_rates)\n",
    "plt.show()\n",
    "\n",
    "signal = b_rates[0].mean() - a_rates[0].mean()\n",
    "noise = np.sqrt(np.var(a_rates) / np.size(a_rates) + np.var(b_rates) / np.size(b_rates))\n",
    "# noise = np.std(a_rates) / np.sqrt(np.size(a_rates)) + np.std(b_rates) / np.sqrt(np.size(b_rates))\n",
    "print(signal, noise)\n",
    "\n",
    "ci_lo = signal - (1.96 * noise)\n",
    "ci_hi = signal + (1.96 * noise)\n",
    "print(ci_lo, ci_hi)"
   ]
  }
 ],
 "metadata": {
  "colab": {
   "collapsed_sections": [],
   "name": "12_01_ab_testing_assign.ipynb",
   "provenance": []
  },
  "kernelspec": {
   "display_name": "Python 3",
   "language": "python",
   "name": "python3"
  },
  "language_info": {
   "codemirror_mode": {
    "name": "ipython",
    "version": 3
   },
   "file_extension": ".py",
   "mimetype": "text/x-python",
   "name": "python",
   "nbconvert_exporter": "python",
   "pygments_lexer": "ipython3",
   "version": "3.7.6"
  }
 },
 "nbformat": 4,
 "nbformat_minor": 1
}
