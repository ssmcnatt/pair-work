{
 "cells": [
  {
   "cell_type": "code",
   "execution_count": 1,
   "metadata": {},
   "outputs": [
    {
     "data": {
      "application/javascript": [
       "\n",
       "            setTimeout(function() {\n",
       "                var nbb_cell_id = 1;\n",
       "                var nbb_unformatted_code = \"%reload_ext nb_black\";\n",
       "                var nbb_formatted_code = \"%reload_ext nb_black\";\n",
       "                var nbb_cells = Jupyter.notebook.get_cells();\n",
       "                for (var i = 0; i < nbb_cells.length; ++i) {\n",
       "                    if (nbb_cells[i].input_prompt_number == nbb_cell_id) {\n",
       "                        if (nbb_cells[i].get_text() == nbb_unformatted_code) {\n",
       "                             nbb_cells[i].set_text(nbb_formatted_code);\n",
       "                        }\n",
       "                        break;\n",
       "                    }\n",
       "                }\n",
       "            }, 500);\n",
       "            "
      ],
      "text/plain": [
       "<IPython.core.display.Javascript object>"
      ]
     },
     "metadata": {},
     "output_type": "display_data"
    }
   ],
   "source": [
    "%reload_ext nb_black"
   ]
  },
  {
   "cell_type": "code",
   "execution_count": 2,
   "metadata": {},
   "outputs": [
    {
     "data": {
      "application/javascript": [
       "\n",
       "            setTimeout(function() {\n",
       "                var nbb_cell_id = 2;\n",
       "                var nbb_unformatted_code = \"import pandas as pd\\n\\nfrom sklearn.feature_selection import RFE, SelectKBest\\nfrom sklearn.model_selection import train_test_split\\nfrom sklearn.preprocessing import StandardScaler\\nfrom sklearn.pipeline import Pipeline\\n\\nfrom sklearn.ensemble import RandomForestClassifier\\nfrom sklearn.linear_model import LogisticRegression\";\n",
       "                var nbb_formatted_code = \"import pandas as pd\\n\\nfrom sklearn.feature_selection import RFE, SelectKBest\\nfrom sklearn.model_selection import train_test_split\\nfrom sklearn.preprocessing import StandardScaler\\nfrom sklearn.pipeline import Pipeline\\n\\nfrom sklearn.ensemble import RandomForestClassifier\\nfrom sklearn.linear_model import LogisticRegression\";\n",
       "                var nbb_cells = Jupyter.notebook.get_cells();\n",
       "                for (var i = 0; i < nbb_cells.length; ++i) {\n",
       "                    if (nbb_cells[i].input_prompt_number == nbb_cell_id) {\n",
       "                        if (nbb_cells[i].get_text() == nbb_unformatted_code) {\n",
       "                             nbb_cells[i].set_text(nbb_formatted_code);\n",
       "                        }\n",
       "                        break;\n",
       "                    }\n",
       "                }\n",
       "            }, 500);\n",
       "            "
      ],
      "text/plain": [
       "<IPython.core.display.Javascript object>"
      ]
     },
     "metadata": {},
     "output_type": "display_data"
    }
   ],
   "source": [
    "import pandas as pd\n",
    "\n",
    "from sklearn.feature_selection import RFE, SelectKBest\n",
    "from sklearn.model_selection import train_test_split\n",
    "from sklearn.preprocessing import StandardScaler\n",
    "from sklearn.pipeline import Pipeline\n",
    "\n",
    "from sklearn.ensemble import RandomForestClassifier\n",
    "from sklearn.linear_model import LogisticRegression"
   ]
  },
  {
   "cell_type": "code",
   "execution_count": 3,
   "metadata": {},
   "outputs": [
    {
     "data": {
      "application/javascript": [
       "\n",
       "            setTimeout(function() {\n",
       "                var nbb_cell_id = 3;\n",
       "                var nbb_unformatted_code = \"df = pd.read_csv(\\\"data/train.csv\\\")\\n\\n# We can make predictions on test.csv, but they dont give us the\\n# labels for test; so we won't know the test accuracy.\\n# Instead, we'll train/test split the data from train.csv.\\ntest = pd.read_csv(\\\"data/test.csv\\\")\\n\\nX = df.drop(columns=\\\"price_range\\\")\\ny = df[\\\"price_range\\\"]\";\n",
       "                var nbb_formatted_code = \"df = pd.read_csv(\\\"data/train.csv\\\")\\n\\n# We can make predictions on test.csv, but they dont give us the\\n# labels for test; so we won't know the test accuracy.\\n# Instead, we'll train/test split the data from train.csv.\\ntest = pd.read_csv(\\\"data/test.csv\\\")\\n\\nX = df.drop(columns=\\\"price_range\\\")\\ny = df[\\\"price_range\\\"]\";\n",
       "                var nbb_cells = Jupyter.notebook.get_cells();\n",
       "                for (var i = 0; i < nbb_cells.length; ++i) {\n",
       "                    if (nbb_cells[i].input_prompt_number == nbb_cell_id) {\n",
       "                        if (nbb_cells[i].get_text() == nbb_unformatted_code) {\n",
       "                             nbb_cells[i].set_text(nbb_formatted_code);\n",
       "                        }\n",
       "                        break;\n",
       "                    }\n",
       "                }\n",
       "            }, 500);\n",
       "            "
      ],
      "text/plain": [
       "<IPython.core.display.Javascript object>"
      ]
     },
     "metadata": {},
     "output_type": "display_data"
    }
   ],
   "source": [
    "df = pd.read_csv(\"data/train.csv\")\n",
    "\n",
    "# We can make predictions on test.csv, but they dont give us the\n",
    "# labels for test; so we won't know the test accuracy.\n",
    "# Instead, we'll train/test split the data from train.csv.\n",
    "test = pd.read_csv(\"data/test.csv\")\n",
    "\n",
    "X = df.drop(columns=\"price_range\")\n",
    "y = df[\"price_range\"]"
   ]
  },
  {
   "cell_type": "code",
   "execution_count": 4,
   "metadata": {},
   "outputs": [
    {
     "data": {
      "application/javascript": [
       "\n",
       "            setTimeout(function() {\n",
       "                var nbb_cell_id = 4;\n",
       "                var nbb_unformatted_code = \"X_train, X_test, y_train, y_test = train_test_split(\\n    X, y, test_size=0.2, random_state=42\\n)\";\n",
       "                var nbb_formatted_code = \"X_train, X_test, y_train, y_test = train_test_split(\\n    X, y, test_size=0.2, random_state=42\\n)\";\n",
       "                var nbb_cells = Jupyter.notebook.get_cells();\n",
       "                for (var i = 0; i < nbb_cells.length; ++i) {\n",
       "                    if (nbb_cells[i].input_prompt_number == nbb_cell_id) {\n",
       "                        if (nbb_cells[i].get_text() == nbb_unformatted_code) {\n",
       "                             nbb_cells[i].set_text(nbb_formatted_code);\n",
       "                        }\n",
       "                        break;\n",
       "                    }\n",
       "                }\n",
       "            }, 500);\n",
       "            "
      ],
      "text/plain": [
       "<IPython.core.display.Javascript object>"
      ]
     },
     "metadata": {},
     "output_type": "display_data"
    }
   ],
   "source": [
    "X_train, X_test, y_train, y_test = train_test_split(\n",
    "    X, y, test_size=0.2, random_state=42\n",
    ")"
   ]
  },
  {
   "cell_type": "code",
   "execution_count": 5,
   "metadata": {},
   "outputs": [
    {
     "data": {
      "application/javascript": [
       "\n",
       "            setTimeout(function() {\n",
       "                var nbb_cell_id = 5;\n",
       "                var nbb_unformatted_code = \"scaler = StandardScaler()\\nscaler.fit(X_train)\\n\\nX_train_scaled = scaler.transform(X_train)\\nX_test_scaled = scaler.transform(X_test)\";\n",
       "                var nbb_formatted_code = \"scaler = StandardScaler()\\nscaler.fit(X_train)\\n\\nX_train_scaled = scaler.transform(X_train)\\nX_test_scaled = scaler.transform(X_test)\";\n",
       "                var nbb_cells = Jupyter.notebook.get_cells();\n",
       "                for (var i = 0; i < nbb_cells.length; ++i) {\n",
       "                    if (nbb_cells[i].input_prompt_number == nbb_cell_id) {\n",
       "                        if (nbb_cells[i].get_text() == nbb_unformatted_code) {\n",
       "                             nbb_cells[i].set_text(nbb_formatted_code);\n",
       "                        }\n",
       "                        break;\n",
       "                    }\n",
       "                }\n",
       "            }, 500);\n",
       "            "
      ],
      "text/plain": [
       "<IPython.core.display.Javascript object>"
      ]
     },
     "metadata": {},
     "output_type": "display_data"
    }
   ],
   "source": [
    "scaler = StandardScaler()\n",
    "scaler.fit(X_train)\n",
    "\n",
    "X_train_scaled = scaler.transform(X_train)\n",
    "X_test_scaled = scaler.transform(X_test)"
   ]
  },
  {
   "cell_type": "markdown",
   "metadata": {},
   "source": [
    "## RFE with RandomForest\n",
    "\n",
    "(using feature importance)"
   ]
  },
  {
   "cell_type": "code",
   "execution_count": 6,
   "metadata": {},
   "outputs": [
    {
     "data": {
      "text/html": [
       "<div>\n",
       "<style scoped>\n",
       "    .dataframe tbody tr th:only-of-type {\n",
       "        vertical-align: middle;\n",
       "    }\n",
       "\n",
       "    .dataframe tbody tr th {\n",
       "        vertical-align: top;\n",
       "    }\n",
       "\n",
       "    .dataframe thead th {\n",
       "        text-align: right;\n",
       "    }\n",
       "</style>\n",
       "<table border=\"1\" class=\"dataframe\">\n",
       "  <thead>\n",
       "    <tr style=\"text-align: right;\">\n",
       "      <th></th>\n",
       "      <th>battery_power</th>\n",
       "      <th>px_height</th>\n",
       "      <th>ram</th>\n",
       "    </tr>\n",
       "  </thead>\n",
       "  <tbody>\n",
       "    <tr>\n",
       "      <th>0</th>\n",
       "      <td>1.548360</td>\n",
       "      <td>0.275712</td>\n",
       "      <td>-0.580476</td>\n",
       "    </tr>\n",
       "    <tr>\n",
       "      <th>1</th>\n",
       "      <td>-1.379535</td>\n",
       "      <td>-0.258762</td>\n",
       "      <td>1.336453</td>\n",
       "    </tr>\n",
       "    <tr>\n",
       "      <th>2</th>\n",
       "      <td>-0.010914</td>\n",
       "      <td>-0.285711</td>\n",
       "      <td>-0.657302</td>\n",
       "    </tr>\n",
       "    <tr>\n",
       "      <th>3</th>\n",
       "      <td>-1.043621</td>\n",
       "      <td>-0.764042</td>\n",
       "      <td>1.288322</td>\n",
       "    </tr>\n",
       "    <tr>\n",
       "      <th>4</th>\n",
       "      <td>0.488416</td>\n",
       "      <td>0.401470</td>\n",
       "      <td>-0.489767</td>\n",
       "    </tr>\n",
       "  </tbody>\n",
       "</table>\n",
       "</div>"
      ],
      "text/plain": [
       "   battery_power  px_height       ram\n",
       "0       1.548360   0.275712 -0.580476\n",
       "1      -1.379535  -0.258762  1.336453\n",
       "2      -0.010914  -0.285711 -0.657302\n",
       "3      -1.043621  -0.764042  1.288322\n",
       "4       0.488416   0.401470 -0.489767"
      ]
     },
     "execution_count": 6,
     "metadata": {},
     "output_type": "execute_result"
    },
    {
     "data": {
      "application/javascript": [
       "\n",
       "            setTimeout(function() {\n",
       "                var nbb_cell_id = 6;\n",
       "                var nbb_unformatted_code = \"selector = RFE(RandomForestClassifier(), n_features_to_select=3)\\nselector.fit(X_train_scaled, y_train)\\n\\nselected_names = X_train.columns[selector.get_support()]\\nselected = selector.transform(X_train_scaled)\\n\\nrfe_selected_df = pd.DataFrame(selected, columns=selected_names)\\nrfe_selected_df.head()\";\n",
       "                var nbb_formatted_code = \"selector = RFE(RandomForestClassifier(), n_features_to_select=3)\\nselector.fit(X_train_scaled, y_train)\\n\\nselected_names = X_train.columns[selector.get_support()]\\nselected = selector.transform(X_train_scaled)\\n\\nrfe_selected_df = pd.DataFrame(selected, columns=selected_names)\\nrfe_selected_df.head()\";\n",
       "                var nbb_cells = Jupyter.notebook.get_cells();\n",
       "                for (var i = 0; i < nbb_cells.length; ++i) {\n",
       "                    if (nbb_cells[i].input_prompt_number == nbb_cell_id) {\n",
       "                        if (nbb_cells[i].get_text() == nbb_unformatted_code) {\n",
       "                             nbb_cells[i].set_text(nbb_formatted_code);\n",
       "                        }\n",
       "                        break;\n",
       "                    }\n",
       "                }\n",
       "            }, 500);\n",
       "            "
      ],
      "text/plain": [
       "<IPython.core.display.Javascript object>"
      ]
     },
     "metadata": {},
     "output_type": "display_data"
    }
   ],
   "source": [
    "selector = RFE(RandomForestClassifier(), n_features_to_select=3)\n",
    "selector.fit(X_train_scaled, y_train)\n",
    "\n",
    "selected_names = X_train.columns[selector.get_support()]\n",
    "selected = selector.transform(X_train_scaled)\n",
    "\n",
    "rfe_selected_df = pd.DataFrame(selected, columns=selected_names)\n",
    "rfe_selected_df.head()"
   ]
  },
  {
   "cell_type": "markdown",
   "metadata": {},
   "source": [
    "## RFE with LogisticRegression\n",
    "\n",
    "(using coefficient magnitude)"
   ]
  },
  {
   "cell_type": "code",
   "execution_count": 7,
   "metadata": {},
   "outputs": [
    {
     "data": {
      "text/html": [
       "<div>\n",
       "<style scoped>\n",
       "    .dataframe tbody tr th:only-of-type {\n",
       "        vertical-align: middle;\n",
       "    }\n",
       "\n",
       "    .dataframe tbody tr th {\n",
       "        vertical-align: top;\n",
       "    }\n",
       "\n",
       "    .dataframe thead th {\n",
       "        text-align: right;\n",
       "    }\n",
       "</style>\n",
       "<table border=\"1\" class=\"dataframe\">\n",
       "  <thead>\n",
       "    <tr style=\"text-align: right;\">\n",
       "      <th></th>\n",
       "      <th>battery_power</th>\n",
       "      <th>px_height</th>\n",
       "      <th>ram</th>\n",
       "    </tr>\n",
       "  </thead>\n",
       "  <tbody>\n",
       "    <tr>\n",
       "      <th>0</th>\n",
       "      <td>1.548360</td>\n",
       "      <td>0.275712</td>\n",
       "      <td>-0.580476</td>\n",
       "    </tr>\n",
       "    <tr>\n",
       "      <th>1</th>\n",
       "      <td>-1.379535</td>\n",
       "      <td>-0.258762</td>\n",
       "      <td>1.336453</td>\n",
       "    </tr>\n",
       "    <tr>\n",
       "      <th>2</th>\n",
       "      <td>-0.010914</td>\n",
       "      <td>-0.285711</td>\n",
       "      <td>-0.657302</td>\n",
       "    </tr>\n",
       "    <tr>\n",
       "      <th>3</th>\n",
       "      <td>-1.043621</td>\n",
       "      <td>-0.764042</td>\n",
       "      <td>1.288322</td>\n",
       "    </tr>\n",
       "    <tr>\n",
       "      <th>4</th>\n",
       "      <td>0.488416</td>\n",
       "      <td>0.401470</td>\n",
       "      <td>-0.489767</td>\n",
       "    </tr>\n",
       "  </tbody>\n",
       "</table>\n",
       "</div>"
      ],
      "text/plain": [
       "   battery_power  px_height       ram\n",
       "0       1.548360   0.275712 -0.580476\n",
       "1      -1.379535  -0.258762  1.336453\n",
       "2      -0.010914  -0.285711 -0.657302\n",
       "3      -1.043621  -0.764042  1.288322\n",
       "4       0.488416   0.401470 -0.489767"
      ]
     },
     "execution_count": 7,
     "metadata": {},
     "output_type": "execute_result"
    },
    {
     "data": {
      "application/javascript": [
       "\n",
       "            setTimeout(function() {\n",
       "                var nbb_cell_id = 7;\n",
       "                var nbb_unformatted_code = \"selector = RFE(LogisticRegression(), n_features_to_select=3)\\nselector.fit(X_train_scaled, y_train)\\n\\nselected_names = X_train.columns[selector.get_support()]\\nselected = selector.transform(X_train_scaled)\\n\\nrfe_selected_df = pd.DataFrame(selected, columns=selected_names)\\nrfe_selected_df.head()\";\n",
       "                var nbb_formatted_code = \"selector = RFE(LogisticRegression(), n_features_to_select=3)\\nselector.fit(X_train_scaled, y_train)\\n\\nselected_names = X_train.columns[selector.get_support()]\\nselected = selector.transform(X_train_scaled)\\n\\nrfe_selected_df = pd.DataFrame(selected, columns=selected_names)\\nrfe_selected_df.head()\";\n",
       "                var nbb_cells = Jupyter.notebook.get_cells();\n",
       "                for (var i = 0; i < nbb_cells.length; ++i) {\n",
       "                    if (nbb_cells[i].input_prompt_number == nbb_cell_id) {\n",
       "                        if (nbb_cells[i].get_text() == nbb_unformatted_code) {\n",
       "                             nbb_cells[i].set_text(nbb_formatted_code);\n",
       "                        }\n",
       "                        break;\n",
       "                    }\n",
       "                }\n",
       "            }, 500);\n",
       "            "
      ],
      "text/plain": [
       "<IPython.core.display.Javascript object>"
      ]
     },
     "metadata": {},
     "output_type": "display_data"
    }
   ],
   "source": [
    "selector = RFE(LogisticRegression(), n_features_to_select=3)\n",
    "selector.fit(X_train_scaled, y_train)\n",
    "\n",
    "selected_names = X_train.columns[selector.get_support()]\n",
    "selected = selector.transform(X_train_scaled)\n",
    "\n",
    "rfe_selected_df = pd.DataFrame(selected, columns=selected_names)\n",
    "rfe_selected_df.head()"
   ]
  },
  {
   "cell_type": "markdown",
   "metadata": {},
   "source": [
    "## SelectKBest\n",
    "\n",
    "(using ANOVA)"
   ]
  },
  {
   "cell_type": "code",
   "execution_count": 8,
   "metadata": {},
   "outputs": [
    {
     "data": {
      "text/html": [
       "<div>\n",
       "<style scoped>\n",
       "    .dataframe tbody tr th:only-of-type {\n",
       "        vertical-align: middle;\n",
       "    }\n",
       "\n",
       "    .dataframe tbody tr th {\n",
       "        vertical-align: top;\n",
       "    }\n",
       "\n",
       "    .dataframe thead th {\n",
       "        text-align: right;\n",
       "    }\n",
       "</style>\n",
       "<table border=\"1\" class=\"dataframe\">\n",
       "  <thead>\n",
       "    <tr style=\"text-align: right;\">\n",
       "      <th></th>\n",
       "      <th>battery_power</th>\n",
       "      <th>px_width</th>\n",
       "      <th>ram</th>\n",
       "    </tr>\n",
       "  </thead>\n",
       "  <tbody>\n",
       "    <tr>\n",
       "      <th>0</th>\n",
       "      <td>1.548360</td>\n",
       "      <td>1.181997</td>\n",
       "      <td>-0.580476</td>\n",
       "    </tr>\n",
       "    <tr>\n",
       "      <th>1</th>\n",
       "      <td>-1.379535</td>\n",
       "      <td>-0.556547</td>\n",
       "      <td>1.336453</td>\n",
       "    </tr>\n",
       "    <tr>\n",
       "      <th>2</th>\n",
       "      <td>-0.010914</td>\n",
       "      <td>-1.020159</td>\n",
       "      <td>-0.657302</td>\n",
       "    </tr>\n",
       "    <tr>\n",
       "      <th>3</th>\n",
       "      <td>-1.043621</td>\n",
       "      <td>0.984962</td>\n",
       "      <td>1.288322</td>\n",
       "    </tr>\n",
       "    <tr>\n",
       "      <th>4</th>\n",
       "      <td>0.488416</td>\n",
       "      <td>-0.336332</td>\n",
       "      <td>-0.489767</td>\n",
       "    </tr>\n",
       "  </tbody>\n",
       "</table>\n",
       "</div>"
      ],
      "text/plain": [
       "   battery_power  px_width       ram\n",
       "0       1.548360  1.181997 -0.580476\n",
       "1      -1.379535 -0.556547  1.336453\n",
       "2      -0.010914 -1.020159 -0.657302\n",
       "3      -1.043621  0.984962  1.288322\n",
       "4       0.488416 -0.336332 -0.489767"
      ]
     },
     "execution_count": 8,
     "metadata": {},
     "output_type": "execute_result"
    },
    {
     "data": {
      "application/javascript": [
       "\n",
       "            setTimeout(function() {\n",
       "                var nbb_cell_id = 8;\n",
       "                var nbb_unformatted_code = \"selector = SelectKBest(k=3)\\nselector.fit(X_train_scaled, y_train)\\n\\nselected_names = X_train.columns[selector.get_support()]\\nselected = selector.transform(X_train_scaled)\\n\\nrfe_selected_df = pd.DataFrame(selected, columns=selected_names)\\nrfe_selected_df.head()\";\n",
       "                var nbb_formatted_code = \"selector = SelectKBest(k=3)\\nselector.fit(X_train_scaled, y_train)\\n\\nselected_names = X_train.columns[selector.get_support()]\\nselected = selector.transform(X_train_scaled)\\n\\nrfe_selected_df = pd.DataFrame(selected, columns=selected_names)\\nrfe_selected_df.head()\";\n",
       "                var nbb_cells = Jupyter.notebook.get_cells();\n",
       "                for (var i = 0; i < nbb_cells.length; ++i) {\n",
       "                    if (nbb_cells[i].input_prompt_number == nbb_cell_id) {\n",
       "                        if (nbb_cells[i].get_text() == nbb_unformatted_code) {\n",
       "                             nbb_cells[i].set_text(nbb_formatted_code);\n",
       "                        }\n",
       "                        break;\n",
       "                    }\n",
       "                }\n",
       "            }, 500);\n",
       "            "
      ],
      "text/plain": [
       "<IPython.core.display.Javascript object>"
      ]
     },
     "metadata": {},
     "output_type": "display_data"
    }
   ],
   "source": [
    "selector = SelectKBest(k=3)\n",
    "selector.fit(X_train_scaled, y_train)\n",
    "\n",
    "selected_names = X_train.columns[selector.get_support()]\n",
    "selected = selector.transform(X_train_scaled)\n",
    "\n",
    "rfe_selected_df = pd.DataFrame(selected, columns=selected_names)\n",
    "rfe_selected_df.head()"
   ]
  },
  {
   "cell_type": "markdown",
   "metadata": {},
   "source": [
    "### Using these results to predict"
   ]
  },
  {
   "cell_type": "code",
   "execution_count": 9,
   "metadata": {},
   "outputs": [
    {
     "data": {
      "application/javascript": [
       "\n",
       "            setTimeout(function() {\n",
       "                var nbb_cell_id = 9;\n",
       "                var nbb_unformatted_code = \"X_train, X_test, y_train, y_test = train_test_split(\\n    X, y, test_size=0.2, random_state=42\\n)\";\n",
       "                var nbb_formatted_code = \"X_train, X_test, y_train, y_test = train_test_split(\\n    X, y, test_size=0.2, random_state=42\\n)\";\n",
       "                var nbb_cells = Jupyter.notebook.get_cells();\n",
       "                for (var i = 0; i < nbb_cells.length; ++i) {\n",
       "                    if (nbb_cells[i].input_prompt_number == nbb_cell_id) {\n",
       "                        if (nbb_cells[i].get_text() == nbb_unformatted_code) {\n",
       "                             nbb_cells[i].set_text(nbb_formatted_code);\n",
       "                        }\n",
       "                        break;\n",
       "                    }\n",
       "                }\n",
       "            }, 500);\n",
       "            "
      ],
      "text/plain": [
       "<IPython.core.display.Javascript object>"
      ]
     },
     "metadata": {},
     "output_type": "display_data"
    }
   ],
   "source": [
    "X_train, X_test, y_train, y_test = train_test_split(\n",
    "    X, y, test_size=0.2, random_state=42\n",
    ")"
   ]
  },
  {
   "cell_type": "code",
   "execution_count": 10,
   "metadata": {},
   "outputs": [
    {
     "name": "stdout",
     "output_type": "stream",
     "text": [
      "selected features: ['battery_power', 'px_height', 'px_width', 'ram']\n",
      "Train score: 0.959375\n",
      "Test score: 0.9725\n"
     ]
    },
    {
     "data": {
      "application/javascript": [
       "\n",
       "            setTimeout(function() {\n",
       "                var nbb_cell_id = 10;\n",
       "                var nbb_unformatted_code = \"rfe_pipeline = Pipeline(\\n    [\\n        (\\\"scale\\\", StandardScaler()),\\n        (\\\"rfe\\\", RFE(RandomForestClassifier(random_state=42), n_features_to_select=4)),\\n        (\\\"classifier\\\", LogisticRegression(random_state=42)),\\n    ]\\n)\\n\\nrfe_pipeline.fit(X_train, y_train)\\n\\nprint(f'selected features: {list(X.columns[rfe_pipeline[\\\"rfe\\\"].get_support()])}')\\n\\ntrain_score = rfe_pipeline.score(X_train, y_train)\\ntest_score = rfe_pipeline.score(X_test, y_test)\\n\\nprint(f\\\"Train score: {train_score}\\\")\\nprint(f\\\"Test score: {test_score}\\\")\";\n",
       "                var nbb_formatted_code = \"rfe_pipeline = Pipeline(\\n    [\\n        (\\\"scale\\\", StandardScaler()),\\n        (\\\"rfe\\\", RFE(RandomForestClassifier(random_state=42), n_features_to_select=4)),\\n        (\\\"classifier\\\", LogisticRegression(random_state=42)),\\n    ]\\n)\\n\\nrfe_pipeline.fit(X_train, y_train)\\n\\nprint(f'selected features: {list(X.columns[rfe_pipeline[\\\"rfe\\\"].get_support()])}')\\n\\ntrain_score = rfe_pipeline.score(X_train, y_train)\\ntest_score = rfe_pipeline.score(X_test, y_test)\\n\\nprint(f\\\"Train score: {train_score}\\\")\\nprint(f\\\"Test score: {test_score}\\\")\";\n",
       "                var nbb_cells = Jupyter.notebook.get_cells();\n",
       "                for (var i = 0; i < nbb_cells.length; ++i) {\n",
       "                    if (nbb_cells[i].input_prompt_number == nbb_cell_id) {\n",
       "                        if (nbb_cells[i].get_text() == nbb_unformatted_code) {\n",
       "                             nbb_cells[i].set_text(nbb_formatted_code);\n",
       "                        }\n",
       "                        break;\n",
       "                    }\n",
       "                }\n",
       "            }, 500);\n",
       "            "
      ],
      "text/plain": [
       "<IPython.core.display.Javascript object>"
      ]
     },
     "metadata": {},
     "output_type": "display_data"
    }
   ],
   "source": [
    "rfe_pipeline = Pipeline(\n",
    "    [\n",
    "        (\"scale\", StandardScaler()),\n",
    "        (\"rfe\", RFE(RandomForestClassifier(random_state=42), n_features_to_select=4)),\n",
    "        (\"classifier\", LogisticRegression(random_state=42)),\n",
    "    ]\n",
    ")\n",
    "\n",
    "rfe_pipeline.fit(X_train, y_train)\n",
    "\n",
    "print(f'selected features: {list(X.columns[rfe_pipeline[\"rfe\"].get_support()])}')\n",
    "\n",
    "train_score = rfe_pipeline.score(X_train, y_train)\n",
    "test_score = rfe_pipeline.score(X_test, y_test)\n",
    "\n",
    "print(f\"Train score: {train_score}\")\n",
    "print(f\"Test score: {test_score}\")"
   ]
  },
  {
   "cell_type": "code",
   "execution_count": 11,
   "metadata": {},
   "outputs": [
    {
     "name": "stdout",
     "output_type": "stream",
     "text": [
      "selected features: ['battery_power', 'px_height', 'px_width', 'ram']\n",
      "Train score: 0.959375\n",
      "Test score: 0.9725\n"
     ]
    },
    {
     "data": {
      "application/javascript": [
       "\n",
       "            setTimeout(function() {\n",
       "                var nbb_cell_id = 11;\n",
       "                var nbb_unformatted_code = \"skb_pipeline = Pipeline(\\n    [\\n        (\\\"scale\\\", StandardScaler()),\\n        (\\\"selectkbest\\\", SelectKBest(k=4)),\\n        (\\\"classifier\\\", LogisticRegression(random_state=42)),\\n    ]\\n)\\n\\nskb_pipeline.fit(X_train, y_train)\\n\\nprint(\\n    f'selected features: {list(X.columns[skb_pipeline[\\\"selectkbest\\\"].get_support()])}'\\n)\\n\\ntrain_score = skb_pipeline.score(X_train, y_train)\\ntest_score = skb_pipeline.score(X_test, y_test)\\n\\nprint(f\\\"Train score: {train_score}\\\")\\nprint(f\\\"Test score: {test_score}\\\")\";\n",
       "                var nbb_formatted_code = \"skb_pipeline = Pipeline(\\n    [\\n        (\\\"scale\\\", StandardScaler()),\\n        (\\\"selectkbest\\\", SelectKBest(k=4)),\\n        (\\\"classifier\\\", LogisticRegression(random_state=42)),\\n    ]\\n)\\n\\nskb_pipeline.fit(X_train, y_train)\\n\\nprint(\\n    f'selected features: {list(X.columns[skb_pipeline[\\\"selectkbest\\\"].get_support()])}'\\n)\\n\\ntrain_score = skb_pipeline.score(X_train, y_train)\\ntest_score = skb_pipeline.score(X_test, y_test)\\n\\nprint(f\\\"Train score: {train_score}\\\")\\nprint(f\\\"Test score: {test_score}\\\")\";\n",
       "                var nbb_cells = Jupyter.notebook.get_cells();\n",
       "                for (var i = 0; i < nbb_cells.length; ++i) {\n",
       "                    if (nbb_cells[i].input_prompt_number == nbb_cell_id) {\n",
       "                        if (nbb_cells[i].get_text() == nbb_unformatted_code) {\n",
       "                             nbb_cells[i].set_text(nbb_formatted_code);\n",
       "                        }\n",
       "                        break;\n",
       "                    }\n",
       "                }\n",
       "            }, 500);\n",
       "            "
      ],
      "text/plain": [
       "<IPython.core.display.Javascript object>"
      ]
     },
     "metadata": {},
     "output_type": "display_data"
    }
   ],
   "source": [
    "skb_pipeline = Pipeline(\n",
    "    [\n",
    "        (\"scale\", StandardScaler()),\n",
    "        (\"selectkbest\", SelectKBest(k=4)),\n",
    "        (\"classifier\", LogisticRegression(random_state=42)),\n",
    "    ]\n",
    ")\n",
    "\n",
    "skb_pipeline.fit(X_train, y_train)\n",
    "\n",
    "print(\n",
    "    f'selected features: {list(X.columns[skb_pipeline[\"selectkbest\"].get_support()])}'\n",
    ")\n",
    "\n",
    "train_score = skb_pipeline.score(X_train, y_train)\n",
    "test_score = skb_pipeline.score(X_test, y_test)\n",
    "\n",
    "print(f\"Train score: {train_score}\")\n",
    "print(f\"Test score: {test_score}\")"
   ]
  }
 ],
 "metadata": {
  "kernelspec": {
   "display_name": "Python 3",
   "language": "python",
   "name": "python3"
  },
  "language_info": {
   "codemirror_mode": {
    "name": "ipython",
    "version": 3
   },
   "file_extension": ".py",
   "mimetype": "text/x-python",
   "name": "python",
   "nbconvert_exporter": "python",
   "pygments_lexer": "ipython3",
   "version": "3.8.3"
  }
 },
 "nbformat": 4,
 "nbformat_minor": 2
}
