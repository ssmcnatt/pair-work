{
 "cells": [
  {
   "cell_type": "code",
   "execution_count": 1,
   "metadata": {
    "id": "Q1EFuZ0TR9wh"
   },
   "outputs": [],
   "source": [
    "import pandas as pd\n",
    "import numpy as np\n",
    "\n",
    "from sklearn.preprocessing import StandardScaler\n",
    "from sklearn.decomposition import PCA\n",
    "from sklearn.manifold import TSNE\n",
    "\n",
    "#!pip install minisom\n",
    "from minisom import MiniSom\n",
    "\n",
    "import seaborn as sns\n",
    "import matplotlib.pyplot as plt\n",
    "from matplotlib.gridspec import GridSpec\n",
    "\n",
    "%matplotlib inline"
   ]
  },
  {
   "cell_type": "code",
   "execution_count": 2,
   "metadata": {
    "id": "IKfgx3rR_Dk6"
   },
   "outputs": [],
   "source": [
    "def som_pie_grid(som, data, labels):\n",
    "  \"\"\"Helper to create piechart grid viz\n",
    "  \n",
    "  Example: https://raw.githubusercontent.com/JustGlowing/minisom/master/examples/resulting_images/som_iris_pies.png\n",
    "\n",
    "  :param som: fitted MiniSom instance\n",
    "  :param data: the data the MiniSom was fit to\n",
    "  :param labels: an array of labels to use for coloring visual\n",
    "  \"\"\"\n",
    "  labels_map = som.labels_map(data, labels)\n",
    "  label_names = np.unique(labels)\n",
    "\n",
    "  plt.figure(figsize=(70, 70))\n",
    "  the_grid = GridSpec(70, 70)\n",
    "  for position in labels_map.keys():\n",
    "      label_fracs = [labels_map[position][lab] for lab in label_names]\n",
    "      plt.subplot(the_grid[position[1] - 12, position[0]], aspect=1)\n",
    "      patches, texts = plt.pie(label_fracs)\n",
    "\n",
    "  plt.show()\n",
    "\n",
    "  # Cheating way to align legend, create a separate figure just \n",
    "  # for legend.  Will have superfluous whitespace below\n",
    "  plt.legend(patches, label_names, loc='upper left', ncol=5)\n",
    "  plt.axis('off')\n",
    "  plt.show()"
   ]
  },
  {
   "cell_type": "markdown",
   "metadata": {
    "id": "aeCfl9S6A1ea"
   },
   "source": [
    "* Read in the data from `data_url`\n",
    "* Drop all NAs\n",
    "* Filter based on the `'Pos'` column to where only have the positions `['C', 'PG', 'SG']` remain\n",
    "* Drop all non-numeric columns\n",
    "* Scale the data"
   ]
  },
  {
   "cell_type": "code",
   "execution_count": 3,
   "metadata": {
    "id": "z5L9jg9A_Bsc"
   },
   "outputs": [],
   "source": [
    "data_url = \"https://tf-assets-prod.s3.amazonaws.com/tf-curric/data-science/Data%20Sets%20Clustering/nba_player_seasons.csv\""
   ]
  },
  {
   "cell_type": "code",
   "execution_count": 4,
   "metadata": {
    "id": "V53O_gTmA2In"
   },
   "outputs": [],
   "source": [
    "iris_df = pd.read_csv(data_url)"
   ]
  },
  {
   "cell_type": "code",
   "execution_count": 5,
   "metadata": {},
   "outputs": [
    {
     "data": {
      "text/html": [
       "<div>\n",
       "<style scoped>\n",
       "    .dataframe tbody tr th:only-of-type {\n",
       "        vertical-align: middle;\n",
       "    }\n",
       "\n",
       "    .dataframe tbody tr th {\n",
       "        vertical-align: top;\n",
       "    }\n",
       "\n",
       "    .dataframe thead th {\n",
       "        text-align: right;\n",
       "    }\n",
       "</style>\n",
       "<table border=\"1\" class=\"dataframe\">\n",
       "  <thead>\n",
       "    <tr style=\"text-align: right;\">\n",
       "      <th></th>\n",
       "      <th>Seas</th>\n",
       "      <th>Player</th>\n",
       "      <th>Pos</th>\n",
       "      <th>Age</th>\n",
       "      <th>Tm</th>\n",
       "      <th>G</th>\n",
       "      <th>GS</th>\n",
       "      <th>MP</th>\n",
       "      <th>FG</th>\n",
       "      <th>FGA</th>\n",
       "      <th>...</th>\n",
       "      <th>FT%</th>\n",
       "      <th>ORB</th>\n",
       "      <th>DRB</th>\n",
       "      <th>TRB</th>\n",
       "      <th>AST</th>\n",
       "      <th>STL</th>\n",
       "      <th>BLK</th>\n",
       "      <th>TOV</th>\n",
       "      <th>PF</th>\n",
       "      <th>PTS</th>\n",
       "    </tr>\n",
       "  </thead>\n",
       "  <tbody>\n",
       "    <tr>\n",
       "      <th>0</th>\n",
       "      <td>2019</td>\n",
       "      <td>Álex Abrines</td>\n",
       "      <td>SG</td>\n",
       "      <td>25</td>\n",
       "      <td>OKC</td>\n",
       "      <td>31</td>\n",
       "      <td>2</td>\n",
       "      <td>19.0</td>\n",
       "      <td>1.8</td>\n",
       "      <td>5.1</td>\n",
       "      <td>...</td>\n",
       "      <td>0.923</td>\n",
       "      <td>0.2</td>\n",
       "      <td>1.4</td>\n",
       "      <td>1.5</td>\n",
       "      <td>0.6</td>\n",
       "      <td>0.5</td>\n",
       "      <td>0.2</td>\n",
       "      <td>0.5</td>\n",
       "      <td>1.7</td>\n",
       "      <td>5.3</td>\n",
       "    </tr>\n",
       "    <tr>\n",
       "      <th>1</th>\n",
       "      <td>2019</td>\n",
       "      <td>Quincy Acy</td>\n",
       "      <td>PF</td>\n",
       "      <td>28</td>\n",
       "      <td>PHO</td>\n",
       "      <td>10</td>\n",
       "      <td>0</td>\n",
       "      <td>12.3</td>\n",
       "      <td>0.4</td>\n",
       "      <td>1.8</td>\n",
       "      <td>...</td>\n",
       "      <td>0.700</td>\n",
       "      <td>0.3</td>\n",
       "      <td>2.2</td>\n",
       "      <td>2.5</td>\n",
       "      <td>0.8</td>\n",
       "      <td>0.1</td>\n",
       "      <td>0.4</td>\n",
       "      <td>0.4</td>\n",
       "      <td>2.4</td>\n",
       "      <td>1.7</td>\n",
       "    </tr>\n",
       "    <tr>\n",
       "      <th>2</th>\n",
       "      <td>2019</td>\n",
       "      <td>Jaylen Adams</td>\n",
       "      <td>PG</td>\n",
       "      <td>22</td>\n",
       "      <td>ATL</td>\n",
       "      <td>34</td>\n",
       "      <td>1</td>\n",
       "      <td>12.6</td>\n",
       "      <td>1.1</td>\n",
       "      <td>3.2</td>\n",
       "      <td>...</td>\n",
       "      <td>0.778</td>\n",
       "      <td>0.3</td>\n",
       "      <td>1.4</td>\n",
       "      <td>1.8</td>\n",
       "      <td>1.9</td>\n",
       "      <td>0.4</td>\n",
       "      <td>0.1</td>\n",
       "      <td>0.8</td>\n",
       "      <td>1.3</td>\n",
       "      <td>3.2</td>\n",
       "    </tr>\n",
       "    <tr>\n",
       "      <th>3</th>\n",
       "      <td>2019</td>\n",
       "      <td>Steven Adams</td>\n",
       "      <td>C</td>\n",
       "      <td>25</td>\n",
       "      <td>OKC</td>\n",
       "      <td>80</td>\n",
       "      <td>80</td>\n",
       "      <td>33.4</td>\n",
       "      <td>6.0</td>\n",
       "      <td>10.1</td>\n",
       "      <td>...</td>\n",
       "      <td>0.500</td>\n",
       "      <td>4.9</td>\n",
       "      <td>4.6</td>\n",
       "      <td>9.5</td>\n",
       "      <td>1.6</td>\n",
       "      <td>1.5</td>\n",
       "      <td>1.0</td>\n",
       "      <td>1.7</td>\n",
       "      <td>2.6</td>\n",
       "      <td>13.9</td>\n",
       "    </tr>\n",
       "    <tr>\n",
       "      <th>4</th>\n",
       "      <td>2019</td>\n",
       "      <td>Bam Adebayo</td>\n",
       "      <td>C</td>\n",
       "      <td>21</td>\n",
       "      <td>MIA</td>\n",
       "      <td>82</td>\n",
       "      <td>28</td>\n",
       "      <td>23.3</td>\n",
       "      <td>3.4</td>\n",
       "      <td>5.9</td>\n",
       "      <td>...</td>\n",
       "      <td>0.735</td>\n",
       "      <td>2.0</td>\n",
       "      <td>5.3</td>\n",
       "      <td>7.3</td>\n",
       "      <td>2.2</td>\n",
       "      <td>0.9</td>\n",
       "      <td>0.8</td>\n",
       "      <td>1.5</td>\n",
       "      <td>2.5</td>\n",
       "      <td>8.9</td>\n",
       "    </tr>\n",
       "  </tbody>\n",
       "</table>\n",
       "<p>5 rows × 30 columns</p>\n",
       "</div>"
      ],
      "text/plain": [
       "   Seas        Player Pos  Age   Tm   G  GS    MP   FG   FGA  ...    FT%  ORB  \\\n",
       "0  2019  Álex Abrines  SG   25  OKC  31   2  19.0  1.8   5.1  ...  0.923  0.2   \n",
       "1  2019    Quincy Acy  PF   28  PHO  10   0  12.3  0.4   1.8  ...  0.700  0.3   \n",
       "2  2019  Jaylen Adams  PG   22  ATL  34   1  12.6  1.1   3.2  ...  0.778  0.3   \n",
       "3  2019  Steven Adams   C   25  OKC  80  80  33.4  6.0  10.1  ...  0.500  4.9   \n",
       "4  2019   Bam Adebayo   C   21  MIA  82  28  23.3  3.4   5.9  ...  0.735  2.0   \n",
       "\n",
       "   DRB  TRB  AST  STL  BLK  TOV   PF   PTS  \n",
       "0  1.4  1.5  0.6  0.5  0.2  0.5  1.7   5.3  \n",
       "1  2.2  2.5  0.8  0.1  0.4  0.4  2.4   1.7  \n",
       "2  1.4  1.8  1.9  0.4  0.1  0.8  1.3   3.2  \n",
       "3  4.6  9.5  1.6  1.5  1.0  1.7  2.6  13.9  \n",
       "4  5.3  7.3  2.2  0.9  0.8  1.5  2.5   8.9  \n",
       "\n",
       "[5 rows x 30 columns]"
      ]
     },
     "execution_count": 5,
     "metadata": {},
     "output_type": "execute_result"
    }
   ],
   "source": [
    "iris_df.head()"
   ]
  },
  {
   "cell_type": "code",
   "execution_count": 6,
   "metadata": {},
   "outputs": [
    {
     "name": "stdout",
     "output_type": "stream",
     "text": [
      "<class 'pandas.core.frame.DataFrame'>\n",
      "RangeIndex: 2141 entries, 0 to 2140\n",
      "Data columns (total 30 columns):\n",
      " #   Column  Non-Null Count  Dtype  \n",
      "---  ------  --------------  -----  \n",
      " 0   Seas    2141 non-null   int64  \n",
      " 1   Player  2141 non-null   object \n",
      " 2   Pos     2141 non-null   object \n",
      " 3   Age     2141 non-null   int64  \n",
      " 4   Tm      2141 non-null   object \n",
      " 5   G       2141 non-null   int64  \n",
      " 6   GS      2141 non-null   int64  \n",
      " 7   MP      2141 non-null   float64\n",
      " 8   FG      2141 non-null   float64\n",
      " 9   FGA     2141 non-null   float64\n",
      " 10  FG%     2131 non-null   float64\n",
      " 11  3P      2141 non-null   float64\n",
      " 12  3PA     2141 non-null   float64\n",
      " 13  3P%     1967 non-null   float64\n",
      " 14  2P      2141 non-null   float64\n",
      " 15  2PA     2141 non-null   float64\n",
      " 16  2P%     2110 non-null   float64\n",
      " 17  eFG%    2131 non-null   float64\n",
      " 18  FT      2141 non-null   float64\n",
      " 19  FTA     2141 non-null   float64\n",
      " 20  FT%     2037 non-null   float64\n",
      " 21  ORB     2141 non-null   float64\n",
      " 22  DRB     2141 non-null   float64\n",
      " 23  TRB     2141 non-null   float64\n",
      " 24  AST     2141 non-null   float64\n",
      " 25  STL     2141 non-null   float64\n",
      " 26  BLK     2141 non-null   float64\n",
      " 27  TOV     2141 non-null   float64\n",
      " 28  PF      2141 non-null   float64\n",
      " 29  PTS     2141 non-null   float64\n",
      "dtypes: float64(23), int64(4), object(3)\n",
      "memory usage: 501.9+ KB\n"
     ]
    }
   ],
   "source": [
    "iris_df.info()"
   ]
  },
  {
   "cell_type": "code",
   "execution_count": 7,
   "metadata": {},
   "outputs": [],
   "source": [
    "iris_df = iris_df.dropna()"
   ]
  },
  {
   "cell_type": "code",
   "execution_count": 8,
   "metadata": {},
   "outputs": [
    {
     "data": {
      "text/plain": [
       "Seas      0.0\n",
       "Player    0.0\n",
       "Pos       0.0\n",
       "Age       0.0\n",
       "Tm        0.0\n",
       "G         0.0\n",
       "GS        0.0\n",
       "MP        0.0\n",
       "FG        0.0\n",
       "FGA       0.0\n",
       "FG%       0.0\n",
       "3P        0.0\n",
       "3PA       0.0\n",
       "3P%       0.0\n",
       "2P        0.0\n",
       "2PA       0.0\n",
       "2P%       0.0\n",
       "eFG%      0.0\n",
       "FT        0.0\n",
       "FTA       0.0\n",
       "FT%       0.0\n",
       "ORB       0.0\n",
       "DRB       0.0\n",
       "TRB       0.0\n",
       "AST       0.0\n",
       "STL       0.0\n",
       "BLK       0.0\n",
       "TOV       0.0\n",
       "PF        0.0\n",
       "PTS       0.0\n",
       "dtype: float64"
      ]
     },
     "execution_count": 8,
     "metadata": {},
     "output_type": "execute_result"
    }
   ],
   "source": [
    "iris_df.isna().mean()"
   ]
  },
  {
   "cell_type": "code",
   "execution_count": 9,
   "metadata": {},
   "outputs": [],
   "source": [
    "iris_df = iris_df[iris_df['Pos'].isin(['C', 'PG', 'SG'])]"
   ]
  },
  {
   "cell_type": "code",
   "execution_count": 10,
   "metadata": {},
   "outputs": [],
   "source": [
    "iris_df = iris_df.drop(columns=['Player', 'Tm'])"
   ]
  },
  {
   "cell_type": "markdown",
   "metadata": {
    "id": "XCWaLiRSBj9V"
   },
   "source": [
    "* Fit a `MiniSom` instance to the scaled data\n",
    "  * Choose your own grid size\n",
    "  * Set a `random_seed` to have reproducible results\n",
    "  * Initialize the `MiniSom` weight vectors using `.pca_weights_init()` or `.random_weights_init()`\n",
    "  * Train the model using `.train_random()` or `.train_batch()`"
   ]
  },
  {
   "cell_type": "code",
   "execution_count": 11,
   "metadata": {},
   "outputs": [],
   "source": [
    "X = iris_df.drop(columns='Pos')\n",
    "y = iris_df['Pos']"
   ]
  },
  {
   "cell_type": "code",
   "execution_count": 12,
   "metadata": {},
   "outputs": [],
   "source": [
    "som_df = pd.DataFrame(X)"
   ]
  },
  {
   "cell_type": "code",
   "execution_count": 13,
   "metadata": {},
   "outputs": [],
   "source": [
    "scaler = StandardScaler()\n",
    "scaled = scaler.fit_transform(X)"
   ]
  },
  {
   "cell_type": "code",
   "execution_count": 14,
   "metadata": {
    "id": "ur0Ku2zF0vE4"
   },
   "outputs": [],
   "source": [
    "som = MiniSom(x = 4, y = 4, input_len = som_df.shape[1], random_seed=66)"
   ]
  },
  {
   "cell_type": "code",
   "execution_count": 15,
   "metadata": {},
   "outputs": [
    {
     "data": {
      "text/plain": [
       "Seas    0.0\n",
       "Age     0.0\n",
       "G       0.0\n",
       "GS      0.0\n",
       "MP      0.0\n",
       "FG      0.0\n",
       "FGA     0.0\n",
       "FG%     0.0\n",
       "3P      0.0\n",
       "3PA     0.0\n",
       "3P%     0.0\n",
       "2P      0.0\n",
       "2PA     0.0\n",
       "2P%     0.0\n",
       "eFG%    0.0\n",
       "FT      0.0\n",
       "FTA     0.0\n",
       "FT%     0.0\n",
       "ORB     0.0\n",
       "DRB     0.0\n",
       "TRB     0.0\n",
       "AST     0.0\n",
       "STL     0.0\n",
       "BLK     0.0\n",
       "TOV     0.0\n",
       "PF      0.0\n",
       "PTS     0.0\n",
       "dtype: float64"
      ]
     },
     "execution_count": 15,
     "metadata": {},
     "output_type": "execute_result"
    }
   ],
   "source": [
    "X.isna().mean()"
   ]
  },
  {
   "cell_type": "code",
   "execution_count": 16,
   "metadata": {},
   "outputs": [
    {
     "data": {
      "text/plain": [
       "array([[[ 1.32562726, -0.48274668,  0.54407079, -0.15102189,\n",
       "         -0.16729466, -0.32620073, -0.39531221,  0.36141366,\n",
       "          0.02627385, -0.03797043,  0.19761637, -0.39472379,\n",
       "         -0.49600473,  0.54989079,  0.61801093, -0.46934925,\n",
       "         -0.47477602, -0.01474203, -0.142507  , -0.14287911,\n",
       "         -0.14982908, -0.33059154, -0.51758811, -0.27386594,\n",
       "         -0.54224014,  0.10104542, -0.34054193],\n",
       "        [ 1.32684538, -0.40891961,  0.51090509, -0.15320574,\n",
       "         -0.20460307, -0.22252794, -0.39806595,  0.8162252 ,\n",
       "         -0.44880478, -0.47546435, -0.31415339, -0.06980299,\n",
       "         -0.23692131,  0.79856053,  0.67848972, -0.27975817,\n",
       "         -0.21003377, -0.38344451,  0.74178473,  0.48067853,\n",
       "          0.59154307, -0.51873721, -0.47525091,  0.6886809 ,\n",
       "         -0.43256704,  0.50165548, -0.28814654],\n",
       "        [ 1.32674888, -0.31632514,  0.55633766,  0.83850245,\n",
       "          0.45150205,  0.62407729,  0.30295102,  1.11054443,\n",
       "         -0.60136376, -0.5774454 , -0.349933  ,  1.02100973,\n",
       "          0.75087696,  0.94797738,  0.72579736,  0.42866124,\n",
       "          0.60739074, -0.39989306,  1.833474  ,  1.37404997,\n",
       "          1.59829126, -0.25726027,  0.28932421,  1.61892472,\n",
       "          0.08715422,  1.09271726,  0.46449675],\n",
       "        [ 1.32522214, -0.10618644,  0.59800233,  1.32088924,\n",
       "          1.07611454,  1.4305243 ,  1.0609413 ,  1.07348273,\n",
       "         -0.46110569, -0.41853235, -0.59592652,  1.93053087,\n",
       "          1.65664894,  0.82893349,  0.64296716,  1.15675037,\n",
       "          1.45224611, -0.46885595,  2.73539733,  2.05801112,\n",
       "          2.37789901,  0.11573029,  1.17565496,  2.04996002,\n",
       "          0.73469098,  1.39576541,  1.23264111]],\n",
       "\n",
       "       [[ 1.32725433, -0.2771828 ,  0.05413322, -0.62457878,\n",
       "         -0.68349654, -0.58819635, -0.63171509,  0.12704267,\n",
       "         -0.22099433, -0.30099999,  0.15435908, -0.60149748,\n",
       "         -0.64832306,  0.2604533 ,  0.32700686, -0.58335965,\n",
       "         -0.59234344, -0.1856553 , -0.39330433, -0.4524126 ,\n",
       "         -0.45424759, -0.58065116, -0.82422537, -0.39019265,\n",
       "         -0.69712507, -0.47661914, -0.59106339],\n",
       "        [ 1.32727857,  0.00730349,  0.35167878, -0.55960225,\n",
       "         -0.57218347, -0.47996453, -0.57568142,  0.4799398 ,\n",
       "         -0.41752545, -0.47290778, -0.30567759, -0.38767212,\n",
       "         -0.47476182,  0.44922399,  0.386714  , -0.41384731,\n",
       "         -0.41949794, -0.15489068,  0.11245614, -0.09829883,\n",
       "         -0.03459121, -0.49676457, -0.61414895,  0.08116506,\n",
       "         -0.52792222, -0.16438084, -0.50136562],\n",
       "        [ 1.32706347,  0.05160049,  0.53714597,  0.37238657,\n",
       "          0.27490948,  0.41000906,  0.25499367,  0.65747166,\n",
       "          0.05765512,  0.07004428, -0.15216365,  0.46071827,\n",
       "          0.29481496,  0.68913051,  0.57545278,  0.2570759 ,\n",
       "          0.29630334, -0.04052457,  0.75010277,  0.62603536,\n",
       "          0.69579996, -0.06354753,  0.14416033,  0.62240801,\n",
       "          0.02556544,  0.49235458,  0.36005701],\n",
       "        [ 1.32600223,  0.01175089,  0.6583112 ,  1.04226345,\n",
       "          1.03510746,  1.4430179 ,  1.26294278,  0.61779531,\n",
       "          0.61451495,  0.68231351,  0.01395584,  1.4484368 ,\n",
       "          1.25694152,  0.66419552,  0.56616602,  1.14220607,\n",
       "          1.20327608,  0.11056769,  1.13058689,  1.16903283,\n",
       "          1.20721064,  0.58071263,  0.91100741,  0.97029062,\n",
       "          0.81901028,  0.95117154,  1.38477303]],\n",
       "\n",
       "       [[ 1.32730563, -0.47124403, -0.32715768, -0.78785865,\n",
       "         -0.90434586, -0.71553282, -0.67811298, -0.40753897,\n",
       "         -0.41101335, -0.41166883,  0.04640121, -0.67384122,\n",
       "         -0.63374969, -0.3116602 , -0.40130596, -0.55785921,\n",
       "         -0.54841045, -0.53580908, -0.59754036, -0.70179007,\n",
       "         -0.69505955, -0.552334  , -0.941183  , -0.49931202,\n",
       "         -0.64563442, -0.72027651, -0.69763486],\n",
       "        [ 1.32729253,  0.09779282, -0.10978353, -0.65382131,\n",
       "         -0.52463818, -0.50546231, -0.45709378, -0.25209777,\n",
       "         -0.16308624, -0.11959044, -0.02635159, -0.5333887 ,\n",
       "         -0.52194424, -0.09864831, -0.18998823, -0.35063644,\n",
       "         -0.37972125, -0.08040223, -0.41737986, -0.51687706,\n",
       "         -0.50920885, -0.11797417, -0.6620938 , -0.46511506,\n",
       "         -0.33143614, -0.40429156, -0.46247499],\n",
       "        [ 1.32717224,  0.3133529 ,  0.36148577,  0.06155607,\n",
       "          0.31261111,  0.25787673,  0.32016136, -0.07322994,\n",
       "          0.77690682,  0.83401312,  0.24762429, -0.05652234,\n",
       "         -0.08213029,  0.17986098,  0.23069927,  0.0849414 ,\n",
       "          0.03562157,  0.25235928, -0.16995564, -0.02185376,\n",
       "         -0.07926641,  0.1575278 ,  0.10019074, -0.28159346,\n",
       "          0.04734192,  0.04514854,  0.30946983],\n",
       "        [ 1.32654828,  0.13823225,  0.57242383,  0.5370825 ,\n",
       "          0.82173435,  1.00496749,  0.99289906,  0.19348843,\n",
       "          1.23768046,  1.27554597,  0.4111143 ,  0.63310436,\n",
       "          0.53371688,  0.42980262,  0.46464667,  0.72259866,\n",
       "          0.66417977,  0.36867648,  0.03910811,  0.30243483,\n",
       "          0.21564644,  0.70277868,  0.55258065, -0.09663822,\n",
       "          0.65234077,  0.49288922,  1.05671519]],\n",
       "\n",
       "       [[ 1.32719824, -0.62220061, -0.86672634, -0.79888163,\n",
       "         -1.15895857, -0.97538731, -0.89782815, -1.08895488,\n",
       "         -0.61478784, -0.56835138, -0.35793908, -0.8872814 ,\n",
       "         -0.83358356, -0.88516282, -1.24421233, -0.71551576,\n",
       "         -0.71257567, -1.25275877, -0.50680453, -0.806121  ,\n",
       "         -0.74543925, -0.57303457, -0.93843528, -0.57612089,\n",
       "         -0.75541336, -0.99574025, -0.94461395],\n",
       "        [ 1.32712146,  0.10473582, -0.48397556, -0.52140353,\n",
       "         -0.44012359, -0.48766504, -0.3470775 , -0.76873346,\n",
       "         -0.0313405 ,  0.04215547, -0.05386472, -0.56492774,\n",
       "         -0.47889263, -0.61331186, -0.70736291, -0.45393191,\n",
       "         -0.452994  , -0.56696666, -0.42647274, -0.4543556 ,\n",
       "         -0.46809841, -0.05024906, -0.52377244, -0.49693144,\n",
       "         -0.35017806, -0.47932281, -0.45818569],\n",
       "        [ 1.32694556,  0.34059771,  0.01214051, -0.04198709,\n",
       "          0.32653813,  0.11895215,  0.30169456, -0.43485483,\n",
       "          0.74553725,  0.79884568,  0.32789792, -0.20292351,\n",
       "         -0.08467806, -0.44101027, -0.12577882, -0.08637947,\n",
       "         -0.08972115, -0.02735607, -0.29806886,  0.09280002,\n",
       "         -0.03712168,  0.14048608, -0.0321349 , -0.26048139,\n",
       "          0.08322746,  0.10133279,  0.16548902],\n",
       "        [ 1.32473938,  0.22734991,  0.29678258,  0.29843965,\n",
       "          0.61676075,  0.56484507,  0.68369855, -0.1579767 ,\n",
       "          0.9500655 ,  1.03003451,  0.36389119,  0.23321044,\n",
       "          0.28076125, -0.03362595,  0.0903626 ,  0.22670731,\n",
       "          0.23520524, -0.04434741, -0.10612684,  0.27274077,\n",
       "          0.15542947,  0.50484025,  0.60611047, -0.10755003,\n",
       "          0.52634514,  0.44480518,  0.58753848]]])"
      ]
     },
     "execution_count": 16,
     "metadata": {},
     "output_type": "execute_result"
    }
   ],
   "source": [
    "som.pca_weights_init(scaled)\n",
    "som.train_random(scaled, num_iteration=100)\n",
    "som.get_weights()"
   ]
  },
  {
   "cell_type": "markdown",
   "metadata": {
    "id": "P1cL0S5fCHZF"
   },
   "source": [
    "* Use the helper function defined at the top of the notebook to plot the SOM's fit\n",
    "  * Use the players' positions (the `'Pos'` column) as the labels in the viz\n",
    "  * Experiment with the SOM's grid size, initialization method, and training method.  Decide a 'good' fit using this visual as guidance."
   ]
  },
  {
   "cell_type": "code",
   "execution_count": 17,
   "metadata": {},
   "outputs": [
    {
     "data": {
      "text/plain": [
       "1154"
      ]
     },
     "execution_count": 17,
     "metadata": {},
     "output_type": "execute_result"
    }
   ],
   "source": [
    "len(iris_df)"
   ]
  },
  {
   "cell_type": "code",
   "execution_count": 18,
   "metadata": {
    "id": "Bqk8eWE1CH02"
   },
   "outputs": [
    {
     "data": {
      "image/png": "[encoded data removed]",
      "text/plain": [
       "<Figure size 5040x5040 with 16 Axes>"
      ]
     },
     "metadata": {},
     "output_type": "display_data"
    },
    {
     "data": {
      "image/png": "[encoded data removed]",
      "text/plain": [
       "<Figure size 432x288 with 1 Axes>"
      ]
     },
     "metadata": {
      "needs_background": "light"
     },
     "output_type": "display_data"
    }
   ],
   "source": [
    "som_pie_grid(som, scaled, iris_df['Pos'])"
   ]
  },
  {
   "cell_type": "markdown",
   "metadata": {
    "id": "J9nw_Z4UC0wL"
   },
   "source": [
    "* Perform dimension reduction (to 2d) with another method (perhaps `PCA` or `TSNE`).\n",
    "* Create a scatter plot of the results of this dimension reduction and color the scatter plot by the players' positions (the `'Pos'` column).\n",
    "  * How do these results compare to that of the SOM? What are the pros and cons of the different approaches you took in this notebook?"
   ]
  },
  {
   "cell_type": "code",
   "execution_count": 28,
   "metadata": {},
   "outputs": [],
   "source": [
    "pca = PCA(2)\n",
    "two_d = pd.DataFrame(pca.fit_transform(scaled))"
   ]
  },
  {
   "cell_type": "code",
   "execution_count": 29,
   "metadata": {},
   "outputs": [
    {
     "data": {
      "text/html": [
       "<div>\n",
       "<style scoped>\n",
       "    .dataframe tbody tr th:only-of-type {\n",
       "        vertical-align: middle;\n",
       "    }\n",
       "\n",
       "    .dataframe tbody tr th {\n",
       "        vertical-align: top;\n",
       "    }\n",
       "\n",
       "    .dataframe thead th {\n",
       "        text-align: right;\n",
       "    }\n",
       "</style>\n",
       "<table border=\"1\" class=\"dataframe\">\n",
       "  <thead>\n",
       "    <tr style=\"text-align: right;\">\n",
       "      <th></th>\n",
       "      <th>1</th>\n",
       "      <th>2</th>\n",
       "    </tr>\n",
       "  </thead>\n",
       "  <tbody>\n",
       "    <tr>\n",
       "      <th>0</th>\n",
       "      <td>-2.781979</td>\n",
       "      <td>-1.246254</td>\n",
       "    </tr>\n",
       "    <tr>\n",
       "      <th>1</th>\n",
       "      <td>-3.709781</td>\n",
       "      <td>-0.969946</td>\n",
       "    </tr>\n",
       "    <tr>\n",
       "      <th>2</th>\n",
       "      <td>5.195114</td>\n",
       "      <td>5.726987</td>\n",
       "    </tr>\n",
       "    <tr>\n",
       "      <th>3</th>\n",
       "      <td>1.961253</td>\n",
       "      <td>3.681634</td>\n",
       "    </tr>\n",
       "    <tr>\n",
       "      <th>4</th>\n",
       "      <td>-5.837433</td>\n",
       "      <td>0.327246</td>\n",
       "    </tr>\n",
       "    <tr>\n",
       "      <th>...</th>\n",
       "      <td>...</td>\n",
       "      <td>...</td>\n",
       "    </tr>\n",
       "    <tr>\n",
       "      <th>1149</th>\n",
       "      <td>-0.592360</td>\n",
       "      <td>-1.015144</td>\n",
       "    </tr>\n",
       "    <tr>\n",
       "      <th>1150</th>\n",
       "      <td>-5.620128</td>\n",
       "      <td>0.632717</td>\n",
       "    </tr>\n",
       "    <tr>\n",
       "      <th>1151</th>\n",
       "      <td>-3.816951</td>\n",
       "      <td>-0.639291</td>\n",
       "    </tr>\n",
       "    <tr>\n",
       "      <th>1152</th>\n",
       "      <td>-2.333072</td>\n",
       "      <td>-2.028981</td>\n",
       "    </tr>\n",
       "    <tr>\n",
       "      <th>1153</th>\n",
       "      <td>1.606450</td>\n",
       "      <td>3.394498</td>\n",
       "    </tr>\n",
       "  </tbody>\n",
       "</table>\n",
       "<p>1154 rows × 2 columns</p>\n",
       "</div>"
      ],
      "text/plain": [
       "             1         2\n",
       "0    -2.781979 -1.246254\n",
       "1    -3.709781 -0.969946\n",
       "2     5.195114  5.726987\n",
       "3     1.961253  3.681634\n",
       "4    -5.837433  0.327246\n",
       "...        ...       ...\n",
       "1149 -0.592360 -1.015144\n",
       "1150 -5.620128  0.632717\n",
       "1151 -3.816951 -0.639291\n",
       "1152 -2.333072 -2.028981\n",
       "1153  1.606450  3.394498\n",
       "\n",
       "[1154 rows x 2 columns]"
      ]
     },
     "execution_count": 29,
     "metadata": {},
     "output_type": "execute_result"
    }
   ],
   "source": [
    "two_d.columns = ['1', '2']\n",
    "two_d"
   ]
  },
  {
   "cell_type": "code",
   "execution_count": 30,
   "metadata": {},
   "outputs": [
    {
     "data": {
      "image/png": "[encoded data removed]",
      "text/plain": [
       "<Figure size 432x288 with 1 Axes>"
      ]
     },
     "metadata": {
      "needs_background": "light"
     },
     "output_type": "display_data"
    }
   ],
   "source": [
    "sns.scatterplot(\"1\", \"2\", hue=iris_df['Pos'], data=two_d)\n",
    "plt.show()"
   ]
  },
  {
   "cell_type": "markdown",
   "metadata": {
    "id": "P1cL0S5fCHZF"
   },
   "source": [
    "* Use the helper function defined at the top of the notebook to plot the SOM's fit\n",
    "  * Use the players' positions (the `'Pos'` column) as the labels in the viz\n",
    "  * Experiment with the SOM's grid size, initialization method, and training method.  Decide a 'good' fit using this visual as guidance."
   ]
  }
 ],
 "metadata": {
  "colab": {
   "collapsed_sections": [],
   "name": "Day 54 Lecture 2 SOM Assignment",
   "provenance": []
  },
  "kernelspec": {
   "display_name": "Python 3",
   "language": "python",
   "name": "python3"
  },
  "language_info": {
   "codemirror_mode": {
    "name": "ipython",
    "version": 3
   },
   "file_extension": ".py",
   "mimetype": "text/x-python",
   "name": "python",
   "nbconvert_exporter": "python",
   "pygments_lexer": "ipython3",
   "version": "3.8.3"
  }
 },
 "nbformat": 4,
 "nbformat_minor": 1
}
