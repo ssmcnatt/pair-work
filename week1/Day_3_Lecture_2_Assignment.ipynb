{
 "cells": [
  {
   "cell_type": "markdown",
   "metadata": {
    "colab_type": "text",
    "id": "P7Ilhj45tM4S"
   },
   "source": [
    "# Descriptive Statistics Assignment"
   ]
  },
  {
   "cell_type": "code",
   "execution_count": 1,
   "metadata": {
    "colab": {},
    "colab_type": "code",
    "id": "PHC3rj3htM4T"
   },
   "outputs": [],
   "source": [
    "import pandas as pd\n",
    "import statistics\n",
    "import numpy as np\n",
    "import seaborn as sns\n",
    "import matplotlib.pyplot as plt\n",
    "\n",
    "data_url = \"https://docs.google.com/spreadsheets/d/1w1BfAGjEJk_Ywglo0nWKUk5gKmqEmfFb101IoXtj8D8/export?format=csv\""
   ]
  },
  {
   "cell_type": "markdown",
   "metadata": {
    "colab_type": "text",
    "id": "y_WevD1ftM4X"
   },
   "source": [
    "### Read the Fortune 1000 data (using `data_url`) into a Pandas data frame."
   ]
  },
  {
   "cell_type": "code",
   "execution_count": 8,
   "metadata": {
    "colab": {
     "base_uri": "https://localhost:8080/",
     "height": 568
    },
    "colab_type": "code",
    "id": "RPX9nbZ1tM4Y",
    "outputId": "d8dca858-e1c7-4617-e9db-952ab216974d"
   },
   "outputs": [
    {
     "data": {
      "text/html": [
       "<div>\n",
       "<style scoped>\n",
       "    .dataframe tbody tr th:only-of-type {\n",
       "        vertical-align: middle;\n",
       "    }\n",
       "\n",
       "    .dataframe tbody tr th {\n",
       "        vertical-align: top;\n",
       "    }\n",
       "\n",
       "    .dataframe thead th {\n",
       "        text-align: right;\n",
       "    }\n",
       "</style>\n",
       "<table border=\"1\" class=\"dataframe\">\n",
       "  <thead>\n",
       "    <tr style=\"text-align: right;\">\n",
       "      <th></th>\n",
       "      <th>rank</th>\n",
       "      <th>title</th>\n",
       "      <th>Previous Rank</th>\n",
       "      <th>Revenues ($M)</th>\n",
       "      <th>Revenue Change</th>\n",
       "      <th>Profits ($M)</th>\n",
       "      <th>Profit Change</th>\n",
       "      <th>Assets ($M)</th>\n",
       "      <th>Mkt Value as of 3/29/18 ($M)</th>\n",
       "      <th>Employees</th>\n",
       "      <th>CEO</th>\n",
       "      <th>CEO Title</th>\n",
       "      <th>Sector</th>\n",
       "      <th>Industry</th>\n",
       "      <th>Years on Fortune 500 List</th>\n",
       "      <th>City</th>\n",
       "      <th>State</th>\n",
       "      <th>Latitude</th>\n",
       "      <th>Longitude</th>\n",
       "    </tr>\n",
       "  </thead>\n",
       "  <tbody>\n",
       "    <tr>\n",
       "      <th>0</th>\n",
       "      <td>1</td>\n",
       "      <td>Walmart</td>\n",
       "      <td>1</td>\n",
       "      <td>$500,343</td>\n",
       "      <td>3.00%</td>\n",
       "      <td>$9,862.00</td>\n",
       "      <td>-27.70%</td>\n",
       "      <td>$204,522</td>\n",
       "      <td>$263,563</td>\n",
       "      <td>2,300,000</td>\n",
       "      <td>C. Douglas McMillon</td>\n",
       "      <td>President, Chief Executive Officer &amp;  Director</td>\n",
       "      <td>Retailing</td>\n",
       "      <td>General Merchandisers</td>\n",
       "      <td>24</td>\n",
       "      <td>Bentonville</td>\n",
       "      <td>AR</td>\n",
       "      <td>36.372854</td>\n",
       "      <td>-94.208817</td>\n",
       "    </tr>\n",
       "    <tr>\n",
       "      <th>1</th>\n",
       "      <td>2</td>\n",
       "      <td>Exxon Mobil</td>\n",
       "      <td>4</td>\n",
       "      <td>$244,363</td>\n",
       "      <td>17.40%</td>\n",
       "      <td>$19,710.00</td>\n",
       "      <td>151.40%</td>\n",
       "      <td>$348,691</td>\n",
       "      <td>$316,157</td>\n",
       "      <td>71,200</td>\n",
       "      <td>Darren W. Woods</td>\n",
       "      <td>Chairman &amp;  Chief Executive Officer</td>\n",
       "      <td>Energy</td>\n",
       "      <td>Petroleum Refining</td>\n",
       "      <td>24</td>\n",
       "      <td>Irving</td>\n",
       "      <td>TX</td>\n",
       "      <td>32.814018</td>\n",
       "      <td>-96.948894</td>\n",
       "    </tr>\n",
       "    <tr>\n",
       "      <th>2</th>\n",
       "      <td>3</td>\n",
       "      <td>Berkshire Hathaway</td>\n",
       "      <td>2</td>\n",
       "      <td>$242,137</td>\n",
       "      <td>8.30%</td>\n",
       "      <td>$44,940.00</td>\n",
       "      <td>86.70%</td>\n",
       "      <td>$702,095</td>\n",
       "      <td>$492,008</td>\n",
       "      <td>377,000</td>\n",
       "      <td>Warren E. Buffett</td>\n",
       "      <td>Chairman, President &amp;  Chief Executive Officer</td>\n",
       "      <td>Financials</td>\n",
       "      <td>Insurance: Property and Casualty (Stock)</td>\n",
       "      <td>24</td>\n",
       "      <td>Omaha</td>\n",
       "      <td>NE</td>\n",
       "      <td>41.256537</td>\n",
       "      <td>-95.934503</td>\n",
       "    </tr>\n",
       "    <tr>\n",
       "      <th>3</th>\n",
       "      <td>4</td>\n",
       "      <td>Apple</td>\n",
       "      <td>3</td>\n",
       "      <td>$229,234</td>\n",
       "      <td>6.30%</td>\n",
       "      <td>$48,351.00</td>\n",
       "      <td>5.80%</td>\n",
       "      <td>$375,319</td>\n",
       "      <td>$851,318</td>\n",
       "      <td>123,000</td>\n",
       "      <td>Timothy D. Cook</td>\n",
       "      <td>Chairman &amp;  Chief Executive Officer</td>\n",
       "      <td>Technology</td>\n",
       "      <td>Computers, Office Equipment</td>\n",
       "      <td>24</td>\n",
       "      <td>Cupertino</td>\n",
       "      <td>CA</td>\n",
       "      <td>37.322998</td>\n",
       "      <td>-122.032182</td>\n",
       "    </tr>\n",
       "    <tr>\n",
       "      <th>4</th>\n",
       "      <td>5</td>\n",
       "      <td>UnitedHealth Group</td>\n",
       "      <td>6</td>\n",
       "      <td>$201,159</td>\n",
       "      <td>8.80%</td>\n",
       "      <td>$10,558.00</td>\n",
       "      <td>50.50%</td>\n",
       "      <td>$139,058</td>\n",
       "      <td>$207,080</td>\n",
       "      <td>260,000</td>\n",
       "      <td>David S. Wichmann</td>\n",
       "      <td>Chairman &amp;  Chief Executive Officer</td>\n",
       "      <td>Health Care</td>\n",
       "      <td>Health Care: Insurance and Managed Care</td>\n",
       "      <td>24</td>\n",
       "      <td>Minnetonka</td>\n",
       "      <td>MN</td>\n",
       "      <td>44.921184</td>\n",
       "      <td>-93.468749</td>\n",
       "    </tr>\n",
       "  </tbody>\n",
       "</table>\n",
       "</div>"
      ],
      "text/plain": [
       "   rank               title Previous Rank Revenues ($M) Revenue Change  \\\n",
       "0     1             Walmart             1      $500,343          3.00%   \n",
       "1     2         Exxon Mobil             4      $244,363         17.40%   \n",
       "2     3  Berkshire Hathaway             2      $242,137          8.30%   \n",
       "3     4               Apple             3      $229,234          6.30%   \n",
       "4     5  UnitedHealth Group             6      $201,159          8.80%   \n",
       "\n",
       "  Profits ($M) Profit Change Assets ($M) Mkt Value as of 3/29/18 ($M)  \\\n",
       "0    $9,862.00       -27.70%    $204,522                     $263,563   \n",
       "1   $19,710.00       151.40%    $348,691                     $316,157   \n",
       "2   $44,940.00        86.70%    $702,095                     $492,008   \n",
       "3   $48,351.00         5.80%    $375,319                     $851,318   \n",
       "4   $10,558.00        50.50%    $139,058                     $207,080   \n",
       "\n",
       "   Employees                  CEO  \\\n",
       "0  2,300,000  C. Douglas McMillon   \n",
       "1     71,200      Darren W. Woods   \n",
       "2    377,000    Warren E. Buffett   \n",
       "3    123,000      Timothy D. Cook   \n",
       "4    260,000    David S. Wichmann   \n",
       "\n",
       "                                        CEO Title       Sector  \\\n",
       "0  President, Chief Executive Officer &  Director    Retailing   \n",
       "1             Chairman &  Chief Executive Officer       Energy   \n",
       "2  Chairman, President &  Chief Executive Officer   Financials   \n",
       "3             Chairman &  Chief Executive Officer   Technology   \n",
       "4             Chairman &  Chief Executive Officer  Health Care   \n",
       "\n",
       "                                   Industry Years on Fortune 500 List  \\\n",
       "0                     General Merchandisers                        24   \n",
       "1                        Petroleum Refining                        24   \n",
       "2  Insurance: Property and Casualty (Stock)                        24   \n",
       "3               Computers, Office Equipment                        24   \n",
       "4   Health Care: Insurance and Managed Care                        24   \n",
       "\n",
       "          City State   Latitude   Longitude  \n",
       "0  Bentonville    AR  36.372854  -94.208817  \n",
       "1       Irving    TX  32.814018  -96.948894  \n",
       "2        Omaha    NE  41.256537  -95.934503  \n",
       "3    Cupertino    CA  37.322998 -122.032182  \n",
       "4   Minnetonka    MN  44.921184  -93.468749  "
      ]
     },
     "execution_count": 8,
     "metadata": {},
     "output_type": "execute_result"
    }
   ],
   "source": [
    "df = pd.read_csv(data_url)\n",
    "df.head()\n",
    "# sns.distplot(df['Latitude'])"
   ]
  },
  {
   "cell_type": "markdown",
   "metadata": {
    "colab_type": "text",
    "id": "u58Qq-xjtM4a"
   },
   "source": [
    "### Print the data type for each column."
   ]
  },
  {
   "cell_type": "code",
   "execution_count": 3,
   "metadata": {
    "colab": {
     "base_uri": "https://localhost:8080/",
     "height": 353
    },
    "colab_type": "code",
    "id": "kgrSk4sjtM4b",
    "outputId": "e856caf9-625a-4070-f3ff-0755a2b37a41"
   },
   "outputs": [
    {
     "data": {
      "text/plain": [
       "rank                              int64\n",
       "title                            object\n",
       "Previous Rank                    object\n",
       "Revenues ($M)                    object\n",
       "Revenue Change                   object\n",
       "Profits ($M)                     object\n",
       "Profit Change                    object\n",
       "Assets ($M)                      object\n",
       "Mkt Value as of 3/29/18 ($M)     object\n",
       "Employees                        object\n",
       "CEO                              object\n",
       "CEO Title                        object\n",
       "Sector                           object\n",
       "Industry                         object\n",
       "Years on Fortune 500 List        object\n",
       "City                             object\n",
       "State                            object\n",
       "Latitude                        float64\n",
       "Longitude                       float64\n",
       "dtype: object"
      ]
     },
     "execution_count": 3,
     "metadata": {},
     "output_type": "execute_result"
    }
   ],
   "source": [
    "df.dtypes"
   ]
  },
  {
   "cell_type": "markdown",
   "metadata": {
    "colab_type": "text",
    "id": "i-JUNCl1tM4e"
   },
   "source": [
    "### Generate a basic set of descriptive statistics for the numeric fields in the data set."
   ]
  },
  {
   "cell_type": "code",
   "execution_count": 4,
   "metadata": {
    "colab": {
     "base_uri": "https://localhost:8080/",
     "height": 519
    },
    "colab_type": "code",
    "id": "Lh9RxSL1tM4e",
    "outputId": "5544b91e-8ffd-4ba2-c94b-3c08dbfd4642"
   },
   "outputs": [
    {
     "name": "stdout",
     "output_type": "stream",
     "text": [
      "      Latitude   Longitude\n",
      "0    36.372854  -94.208817\n",
      "1    32.814018  -96.948894\n",
      "2    41.256537  -95.934503\n",
      "3    37.322998 -122.032182\n",
      "4    44.921184  -93.468749\n",
      "..         ...         ...\n",
      "995  34.023243  -84.361556\n",
      "996  42.548171  -71.172447\n",
      "997  33.684567 -117.826505\n",
      "998  33.596891 -117.658156\n",
      "999  33.684567 -117.826505\n",
      "\n",
      "[1000 rows x 2 columns]\n",
      "          Latitude    Longitude\n",
      "count  1000.000000  1000.000000\n",
      "mean     38.228050   -90.359700\n",
      "std       4.643421    16.145941\n",
      "min      18.422578  -157.858333\n",
      "25%      35.207699   -96.698886\n",
      "50%      39.693419   -86.583760\n",
      "75%      41.499320   -77.177260\n",
      "max      47.978985   -66.050955\n"
     ]
    }
   ],
   "source": [
    "isNumeric = df.select_dtypes(include=['float'])\n",
    "print(isNumeric)\n",
    "stats = isNumeric.describe()\n",
    "print(stats)"
   ]
  },
  {
   "cell_type": "markdown",
   "metadata": {
    "colab_type": "text",
    "id": "fXoDTnC9tM4h"
   },
   "source": [
    "### Calculate the following for each numeric field in the data set and add them to the data frame containing the basic set of descriptive statistics.\n",
    "\n",
    "- Variance\n",
    "- Mean Absolute Deviation\n",
    "- Range\n",
    "- Interquartile Range"
   ]
  },
  {
   "cell_type": "code",
   "execution_count": 5,
   "metadata": {
    "colab": {},
    "colab_type": "code",
    "id": "FGxTOeMWtM4h"
   },
   "outputs": [
    {
     "name": "stdout",
     "output_type": "stream",
     "text": [
      "rank         250.750000\n",
      "Latitude      35.207699\n",
      "Longitude    -96.698886\n",
      "Name: 0.25, dtype: float64\n",
      "rank         750.25000\n",
      "Latitude      41.49932\n",
      "Longitude    -77.17726\n",
      "Name: 0.75, dtype: float64\n",
      "          Latitude    Longitude\n",
      "count  1000.000000  1000.000000\n",
      "mean     38.228050   -90.359700\n",
      "std       4.643421    16.145941\n",
      "min      18.422578  -157.858333\n",
      "25%      35.207699   -96.698886\n",
      "50%      39.693419   -86.583760\n",
      "75%      41.499320   -77.177260\n",
      "max      47.978985   -66.050955\n",
      "var      21.561356   260.691395\n",
      "mad     191.426301   245.481622\n",
      "range    29.556407    91.807378\n"
     ]
    }
   ],
   "source": [
    "new_stats = pd.DataFrame({'Latitude': [statistics.variance(isNumeric['Latitude'])],\n",
    "                          'Longitude': [statistics.variance(isNumeric['Longitude'])]})\n",
    "new_stats.rename(index={0:'var'},inplace=True)\n",
    "stats = stats.append(new_stats)\n",
    "\n",
    "mad = stats.mad()\n",
    "new_stats = pd.DataFrame({'Latitude': [mad['Latitude']],\n",
    "                          'Longitude': [mad['Longitude']]\n",
    "                         })\n",
    "new_stats.rename(index={0:'mad'},inplace=True)\n",
    "stats = stats.append(new_stats)\n",
    "\n",
    "maximum = isNumeric.max()\n",
    "minimum = isNumeric.min()\n",
    "new_stats = pd.DataFrame({'Latitude': [maximum['Latitude'] - minimum['Latitude']],\n",
    "                          'Longitude': [maximum['Longitude'] - minimum['Longitude']]\n",
    "                         })\n",
    "new_stats.rename(index={0:'range'},inplace=True)\n",
    "stats = stats.append(new_stats)\n",
    "\n",
    "q1 = df.quantile(.25)\n",
    "print(q1)\n",
    "q3 = df.quantile(.75)\n",
    "print(q3)\n",
    "# mask = d['col'].between(q1, q2, inclusive=True)\n",
    "# iqr = d.loc[mask, 'col']\n",
    "\n",
    "print(stats)\n"
   ]
  },
  {
   "cell_type": "markdown",
   "metadata": {
    "colab_type": "text",
    "id": "81YZ6C7ftM4l"
   },
   "source": [
    "### Generate a basic set of descriptive statistics for the categorical fields in the data set."
   ]
  },
  {
   "cell_type": "code",
   "execution_count": null,
   "metadata": {
    "colab": {},
    "colab_type": "code",
    "id": "NCu1eHOGtM4l"
   },
   "outputs": [],
   "source": []
  },
  {
   "cell_type": "markdown",
   "metadata": {
    "colab_type": "text",
    "id": "vGaAtIbwtM4o"
   },
   "source": [
    "### Calculate the Pearson correlation coefficients between Revenue, Profit, Assets, and Employees."
   ]
  },
  {
   "cell_type": "code",
   "execution_count": null,
   "metadata": {
    "colab": {},
    "colab_type": "code",
    "id": "yWWeNyBxtM4p"
   },
   "outputs": [],
   "source": []
  },
  {
   "cell_type": "markdown",
   "metadata": {
    "colab_type": "text",
    "id": "AsFbCCdOtM4r"
   },
   "source": [
    "### Group the data by sector and calculate the mean and standard deviation of revenue for each sector."
   ]
  },
  {
   "cell_type": "code",
   "execution_count": null,
   "metadata": {
    "colab": {},
    "colab_type": "code",
    "id": "FhrxQmuKtM4s"
   },
   "outputs": [],
   "source": []
  },
  {
   "cell_type": "markdown",
   "metadata": {
    "colab_type": "text",
    "id": "e6rJOzh4tM4v"
   },
   "source": [
    "### Create a new financial strength index variable that combines the revenue, profit, and assets variables into a single value for each company. Then sort the data frame by that value to see who has the most financial strength. \n",
    "\n",
    "Try different ways of calculating the index and see how your results change."
   ]
  },
  {
   "cell_type": "code",
   "execution_count": null,
   "metadata": {
    "colab": {},
    "colab_type": "code",
    "id": "JtCtU89HtM4w"
   },
   "outputs": [],
   "source": []
  },
  {
   "cell_type": "markdown",
   "metadata": {
    "colab_type": "text",
    "id": "qyxHrLOvtM4y"
   },
   "source": [
    "### Group the data by sector and calculate the average financial strength index for each sector."
   ]
  },
  {
   "cell_type": "code",
   "execution_count": null,
   "metadata": {
    "colab": {},
    "colab_type": "code",
    "id": "SgYmQ9HytM4z"
   },
   "outputs": [],
   "source": []
  }
 ],
 "metadata": {
  "colab": {
   "collapsed_sections": [],
   "name": "Day 3 Lecture 2 Assignment.ipynb",
   "provenance": []
  },
  "kernelspec": {
   "display_name": "Python 3",
   "language": "python",
   "name": "python3"
  },
  "language_info": {
   "codemirror_mode": {
    "name": "ipython",
    "version": 3
   },
   "file_extension": ".py",
   "mimetype": "text/x-python",
   "name": "python",
   "nbconvert_exporter": "python",
   "pygments_lexer": "ipython3",
   "version": "3.7.6"
  }
 },
 "nbformat": 4,
 "nbformat_minor": 1
}
