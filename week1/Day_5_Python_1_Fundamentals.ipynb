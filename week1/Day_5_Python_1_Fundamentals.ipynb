{
 "cells": [
  {
   "cell_type": "markdown",
   "metadata": {
    "colab_type": "text",
    "id": "hJs1uxYP5wAR"
   },
   "source": [
    "## Practice - Python for data scientists I - programming fundamentals\n",
    "\n",
    "Answer all **Questions**"
   ]
  },
  {
   "cell_type": "markdown",
   "metadata": {
    "colab_type": "text",
    "id": "ZHgDmujZ5wAV"
   },
   "source": [
    "### Variables and Objects"
   ]
  },
  {
   "cell_type": "markdown",
   "metadata": {
    "colab_type": "text",
    "id": "u9O1S55U5wAX"
   },
   "source": [
    "#### Question:\n",
    "\n",
    "Consider the following sequence of statements:\n",
    "\n",
    "```python\n",
    "n = 300\n",
    "m = n\n",
    "```\n",
    "\n",
    "Following execution of these statements, Python has created how many objects and how many references?"
   ]
  },
  {
   "cell_type": "code",
   "execution_count": 1,
   "metadata": {
    "colab": {
     "base_uri": "https://localhost:8080/",
     "height": 34
    },
    "colab_type": "code",
    "id": "Cw8MmpzT5wAa",
    "outputId": "62ee0a75-9082-4c7e-a03c-f96cc1e6d94d"
   },
   "outputs": [
    {
     "data": {
      "text/plain": [
       "2"
      ]
     },
     "execution_count": 1,
     "metadata": {},
     "output_type": "execute_result"
    }
   ],
   "source": [
    "# Answer:\n",
    "2\n"
   ]
  },
  {
   "cell_type": "markdown",
   "metadata": {
    "colab_type": "text",
    "id": "62vD1gqC5wAi"
   },
   "source": [
    "#### Question:\n",
    "\n",
    "Which of the following functions return the unique identfier of a python object?\n",
    "    \n",
    "- ref\n",
    "\n",
    "\n",
    "- identifier\n",
    "\n",
    "\n",
    "- objectId\n",
    "\n",
    "\n",
    "- id\n",
    "\n",
    "\n",
    "- route66"
   ]
  },
  {
   "cell_type": "code",
   "execution_count": 2,
   "metadata": {
    "colab": {
     "base_uri": "https://localhost:8080/",
     "height": 34
    },
    "colab_type": "code",
    "id": "h0vd0Pbj5wAk",
    "outputId": "b47cd7b8-1009-43be-95f6-f8ed41dcb61f"
   },
   "outputs": [
    {
     "data": {
      "text/plain": [
       "<function id(obj, /)>"
      ]
     },
     "execution_count": 2,
     "metadata": {},
     "output_type": "execute_result"
    }
   ],
   "source": [
    "# Answer: \n",
    "id"
   ]
  },
  {
   "cell_type": "markdown",
   "metadata": {
    "colab_type": "text",
    "id": "HJG8zh5f5wAo"
   },
   "source": [
    "#### Question:\n",
    "Which of the following are valid Python variable names?\n",
    "    \n",
    "- ver3.7\n",
    "\n",
    "\n",
    "- Age\n",
    "\n",
    "\n",
    "- 4square\n",
    "\n",
    "\n",
    "- return\n",
    "\n",
    "\n",
    "- home_address\n",
    "\n",
    "\n",
    "- route66"
   ]
  },
  {
   "cell_type": "code",
   "execution_count": 3,
   "metadata": {
    "colab": {},
    "colab_type": "code",
    "id": "617HWLow5wAq"
   },
   "outputs": [],
   "source": [
    "# Answer\n",
    "Age = 0 \n",
    "home_address = \"\"\n",
    "route66 = 66"
   ]
  },
  {
   "cell_type": "markdown",
   "metadata": {
    "colab_type": "text",
    "id": "ygsuzrSx5wAu"
   },
   "source": [
    "#### Question:\n",
    "Which of the following styles does PEP8 recommend for multi-word variable names:\n",
    "\n",
    "\n",
    "- DistanceToNearestTown (Pascal Case)\n",
    "\n",
    "\n",
    "- distanceToNearestTown (Camel Case)\n",
    "\n",
    "\n",
    "- distance_to_nearest_town (Snake Case)"
   ]
  },
  {
   "cell_type": "code",
   "execution_count": 4,
   "metadata": {
    "colab": {},
    "colab_type": "code",
    "id": "6yK76Ym35wAv"
   },
   "outputs": [],
   "source": [
    "# Answer\n",
    "distance_to_nearest_town = 0"
   ]
  },
  {
   "cell_type": "markdown",
   "metadata": {
    "colab_type": "text",
    "id": "fvRaPVip5wAy"
   },
   "source": [
    "## Strings\n",
    "\n",
    "#### Question:\n",
    "\n",
    "Ask the user for a string using `input` and print out whether this string is a palindrome or not. (A palindrome is a string that reads the same forwards and backwards.)\n"
   ]
  },
  {
   "cell_type": "code",
   "execution_count": 5,
   "metadata": {
    "colab": {
     "base_uri": "https://localhost:8080/",
     "height": 50
    },
    "colab_type": "code",
    "id": "dQlG1cOy5wA0",
    "outputId": "1b074d2c-2d65-4ac1-fb87-e9df5a830452"
   },
   "outputs": [
    {
     "name": "stdout",
     "output_type": "stream",
     "text": [
      "enter a string: sdfasdf\n",
      "False\n"
     ]
    }
   ],
   "source": [
    "# Answer\n",
    "str = input('enter a string: ')\n",
    "c1 = 0\n",
    "c2 = len(str) - 1\n",
    "palin = True\n",
    "while (palin == True) and (c1 < c2):\n",
    "    if (str[c1] != str[c2]):\n",
    "        palin = False\n",
    "    c1 += 1\n",
    "    c2 -= 1\n",
    "print(palin)"
   ]
  },
  {
   "cell_type": "markdown",
   "metadata": {
    "colab_type": "text",
    "id": "h28yQ2CM5wA4"
   },
   "source": [
    "### Lists"
   ]
  },
  {
   "cell_type": "markdown",
   "metadata": {
    "colab_type": "text",
    "id": "5pQ2O2lw5wA5"
   },
   "source": [
    "#### Question:\n",
    "\n",
    "Make a list that includes at least four people in lower case that you would like to invite to dinner. Then use your list to print a message to each person, inviting them to dinner."
   ]
  },
  {
   "cell_type": "code",
   "execution_count": 6,
   "metadata": {
    "colab": {
     "base_uri": "https://localhost:8080/",
     "height": 84
    },
    "colab_type": "code",
    "id": "LRcwsEQc5wA6",
    "outputId": "d47dc619-9041-4ac2-8889-d9efe60307b6"
   },
   "outputs": [
    {
     "name": "stdout",
     "output_type": "stream",
     "text": [
      "Please come to dinner Janielle\n",
      "Please come to dinner John\n",
      "Please come to dinner Larry\n",
      "Please come to dinner Suz\n"
     ]
    }
   ],
   "source": [
    "def capital(name_list):\n",
    "    new_list = []\n",
    "    for x in name_list:\n",
    "        new_list.append(x.title())\n",
    "    return new_list\n",
    "\n",
    "def print_invite(name_list):\n",
    "    name_list.sort()\n",
    "    for x in name_list:\n",
    "        print('Please come to dinner ' + x)\n",
    "\n",
    "# Answer\n",
    "names = ['Janielle', 'Suz', 'John', 'Larry']\n",
    "names = capital(names)\n",
    "print_invite(names)"
   ]
  },
  {
   "cell_type": "markdown",
   "metadata": {
    "colab_type": "text",
    "id": "03MHsGAY5wA-"
   },
   "source": [
    "#### Question:\n",
    "The 3rd person in your list alphabetically can’t make the dinner, replace this guest with a new guest.\n",
    "\n",
    "You realize you should properly capitalize names, so properly capitalize each name.\n",
    "\n",
    "Print out an updated invitation list."
   ]
  },
  {
   "cell_type": "code",
   "execution_count": 7,
   "metadata": {
    "colab": {
     "base_uri": "https://localhost:8080/",
     "height": 84
    },
    "colab_type": "code",
    "id": "9eeIKs9-5wA_",
    "outputId": "963dd0b4-b47e-45ea-bcd3-3f1801e32b63"
   },
   "outputs": [
    {
     "name": "stdout",
     "output_type": "stream",
     "text": [
      "Please come to dinner Janielle\n",
      "Please come to dinner Joanne\n",
      "Please come to dinner John\n",
      "Please come to dinner Suz\n"
     ]
    }
   ],
   "source": [
    "# Answer\n",
    "names.sort()\n",
    "names[2] = 'Joanne'\n",
    "print_invite(names)"
   ]
  },
  {
   "cell_type": "markdown",
   "metadata": {
    "colab_type": "text",
    "id": "j_ImShuA5wBC"
   },
   "source": [
    "#### Question:\n",
    "\n",
    "Your significant other, a sports fan, would like to invite the following additional guests:\n",
    "    \n",
    "additional_guests = ['michael phelps', 'roger federer', 'bonnie blair', 'usain bolt', 'simone biles']\n",
    "\n",
    "Append the additional guests to the original guest list.\n",
    "\n",
    "Print out the updated invitation list."
   ]
  },
  {
   "cell_type": "code",
   "execution_count": 8,
   "metadata": {
    "colab": {
     "base_uri": "https://localhost:8080/",
     "height": 168
    },
    "colab_type": "code",
    "id": "sbxzvO0n5wBE",
    "outputId": "8babad97-1a91-44de-db16-b241f1ae9248"
   },
   "outputs": [
    {
     "name": "stdout",
     "output_type": "stream",
     "text": [
      "Please come to dinner Bonnie Blair\n",
      "Please come to dinner Janielle\n",
      "Please come to dinner Joanne\n",
      "Please come to dinner John\n",
      "Please come to dinner Michael Phelps\n",
      "Please come to dinner Roger Federer\n",
      "Please come to dinner Simone Biles\n",
      "Please come to dinner Suz\n",
      "Please come to dinner Usain Bolt\n"
     ]
    }
   ],
   "source": [
    "# Answer:\n",
    "additional_guests = ['michael phelps', 'roger federer', 'bonnie blair', 'usain bolt', 'simone biles']\n",
    "names.extend(additional_guests)\n",
    "names = capital(names)\n",
    "print_invite(names)"
   ]
  },
  {
   "cell_type": "markdown",
   "metadata": {
    "colab_type": "text",
    "id": "eihDRHiO5wBL"
   },
   "source": [
    "#### Question:\n",
    "Your brother-in-law, \"Slacks Moodring\", insists on coming. Please add him to the list.\n",
    "\n",
    "Re-sort the list.\n",
    "\n",
    "Print the updated list."
   ]
  },
  {
   "cell_type": "code",
   "execution_count": 9,
   "metadata": {
    "colab": {},
    "colab_type": "code",
    "id": "dCyptA5G5wBN"
   },
   "outputs": [
    {
     "name": "stdout",
     "output_type": "stream",
     "text": [
      "Please come to dinner Bonnie Blair\n",
      "Please come to dinner Janielle\n",
      "Please come to dinner Joanne\n",
      "Please come to dinner John\n",
      "Please come to dinner Michael Phelps\n",
      "Please come to dinner Roger Federer\n",
      "Please come to dinner Simone Biles\n",
      "Please come to dinner Slacks Moodring\n",
      "Please come to dinner Suz\n",
      "Please come to dinner Usain Bolt\n"
     ]
    }
   ],
   "source": [
    "# Answer:\n",
    "bil = \"Slacks Moodring\"\n",
    "names.append(bil)\n",
    "names.sort()\n",
    "print_invite(names)"
   ]
  },
  {
   "cell_type": "markdown",
   "metadata": {
    "colab_type": "text",
    "id": "ieZKVMB75wBU"
   },
   "source": [
    "#### Question:\n",
    "You realize you cannot afford to feed the large number of people on your guest list.\n",
    "\n",
    "Select a subset of guests by splicing your list on every 3rd person starting from the end of the list.\n",
    "\n",
    "Sort the list.\n",
    "\n",
    "Print the updated invitation list.\n"
   ]
  },
  {
   "cell_type": "code",
   "execution_count": 10,
   "metadata": {
    "colab": {},
    "colab_type": "code",
    "id": "-XgUgnAo5wBV"
   },
   "outputs": [
    {
     "name": "stdout",
     "output_type": "stream",
     "text": [
      "Please come to dinner Bonnie Blair\n",
      "Please come to dinner John\n",
      "Please come to dinner Simone Biles\n",
      "Please come to dinner Usain Bolt\n"
     ]
    }
   ],
   "source": [
    "# Answer:\n",
    "new_list = []\n",
    "c = len(names) - 1\n",
    "while c >= 0:\n",
    "    new_list.append(names[c])\n",
    "    c -= 3\n",
    "print_invite(new_list)"
   ]
  },
  {
   "cell_type": "markdown",
   "metadata": {
    "colab_type": "text",
    "id": "Jbn3pTZz5wBc"
   },
   "source": [
    "#### Question:\n",
    "\n",
    "Generate the following list:\n",
    "\n",
    "```\n",
    "[0, 1, 2, 3, 4, 5, 6, 7, 8, 9]\n",
    "```"
   ]
  },
  {
   "cell_type": "code",
   "execution_count": 11,
   "metadata": {
    "colab": {},
    "colab_type": "code",
    "id": "gyJaQYYh5wBe"
   },
   "outputs": [
    {
     "name": "stdout",
     "output_type": "stream",
     "text": [
      "[0, 1, 2, 3, 4, 5, 6, 7, 8, 9]\n"
     ]
    }
   ],
   "source": [
    "# Answer:\n",
    "l = []\n",
    "for i in range(10):\n",
    "    l.append(i)\n",
    "print(l)"
   ]
  },
  {
   "cell_type": "markdown",
   "metadata": {
    "colab_type": "text",
    "id": "0ptdH0EK5wBk"
   },
   "source": [
    "### Dictionaries\n",
    "\n",
    "Below is a table of the top 10 most popular computer languages for professional developers taken from the 2019 Stack Overlow survey.\n",
    "\n",
    "https://insights.stackoverflow.com/survey/2019#technology\n",
    "\n",
    "|Language|Popularity (%)|\n",
    "|-|-|\n",
    "|JavaScript|69.7%|\n",
    "|HTML/CSS|63.1%|\n",
    "|SQL|56.5%|\n",
    "|Python|39.4%|\n",
    "|Java|39.2%|\n",
    "|Bash/Shell/PowerShell|37.9%|\n",
    "|C#|31.9%|\n",
    "|PHP|25.8%|\n",
    "|TypeScript|23.5%|\n",
    "|C++|20.4%|\n",
    "\n",
    "#### Question:\n",
    "\n",
    "Construct a dictionary `lang_pop` from this list.\n",
    "\n",
    "Print out each key-value pair with a ':' immediately after each key.\n"
   ]
  },
  {
   "cell_type": "code",
   "execution_count": 12,
   "metadata": {
    "colab": {},
    "colab_type": "code",
    "id": "AmdApTbO5wBn"
   },
   "outputs": [
    {
     "name": "stdout",
     "output_type": "stream",
     "text": [
      "JavaScript  :  69.7 %\n",
      "HTML/CSS  :  63.1 %\n",
      "SQL  :  56.5 %\n",
      "Python  :  39.4 %\n",
      "Java  :  39.2 %\n",
      "Bash/Shell/PowerShell  :  37.9 %\n",
      "C#  :  31.9 %\n",
      "PHP  :  25.8 %\n",
      "TypeScript  :  23.5 %\n",
      "C++  :  20.4 %\n"
     ]
    }
   ],
   "source": [
    "# Answer:\n",
    "lang_pop = {'JavaScript': 69.7\n",
    "            ,'HTML/CSS': 63.1\n",
    "            ,'SQL': 56.5\n",
    "            ,'Python': 39.4\n",
    "            ,'Java': 39.2\n",
    "            ,'Bash/Shell/PowerShell': 37.9\n",
    "            ,'C#': 31.9\n",
    "            ,'PHP': 25.8\n",
    "            ,'TypeScript': 23.5\n",
    "            ,'C++': 20.4\n",
    "           }\n",
    "\n",
    "for key, value in lang_pop.items():\n",
    "    print(key, ' : ', value, '%')"
   ]
  },
  {
   "cell_type": "markdown",
   "metadata": {
    "colab_type": "text",
    "id": "TVKA42Fi5wB-"
   },
   "source": [
    "#### Question:\n",
    "\n",
    "Print out the languages from `lang_pop` in sorted order."
   ]
  },
  {
   "cell_type": "code",
   "execution_count": 13,
   "metadata": {
    "colab": {},
    "colab_type": "code",
    "id": "RurHvkUx5wCA"
   },
   "outputs": [
    {
     "name": "stdout",
     "output_type": "stream",
     "text": [
      "Bash/Shell/PowerShell  :  37.9 %\n",
      "C#  :  31.9 %\n",
      "C++  :  20.4 %\n",
      "HTML/CSS  :  63.1 %\n",
      "Java  :  39.2 %\n",
      "JavaScript  :  69.7 %\n",
      "PHP  :  25.8 %\n",
      "Python  :  39.4 %\n",
      "SQL  :  56.5 %\n",
      "TypeScript  :  23.5 %\n"
     ]
    }
   ],
   "source": [
    "# Answer:\n",
    "import collections\n",
    "lang_sort = collections.OrderedDict(sorted(lang_pop.items()))\n",
    "for key, value in lang_sort.items():\n",
    "    print(key, ' : ', value, '%')"
   ]
  },
  {
   "cell_type": "markdown",
   "metadata": {
    "colab_type": "text",
    "id": "Nig9M6bd5wCE"
   },
   "source": [
    "#### Question:\n",
    "\n",
    "Python has we know is very popular. Update the % of Python by 2x.\n",
    "\n",
    "Print out each key-value pair with a ':' immediately after each key."
   ]
  },
  {
   "cell_type": "code",
   "execution_count": 14,
   "metadata": {
    "colab": {},
    "colab_type": "code",
    "id": "Qeh-a8F95wCG"
   },
   "outputs": [
    {
     "name": "stdout",
     "output_type": "stream",
     "text": [
      "JavaScript  :  69.7 %\n",
      "HTML/CSS  :  63.1 %\n",
      "SQL  :  56.5 %\n",
      "Python  :  78.8 %\n",
      "Java  :  39.2 %\n",
      "Bash/Shell/PowerShell  :  37.9 %\n",
      "C#  :  31.9 %\n",
      "PHP  :  25.8 %\n",
      "TypeScript  :  23.5 %\n",
      "C++  :  20.4 %\n"
     ]
    }
   ],
   "source": [
    "# Answer:\n",
    "lang_pop['Python'] = lang_pop['Python'] * 2\n",
    "for key, value in lang_pop.items():\n",
    "    print(key, ' : ', value, '%')"
   ]
  },
  {
   "cell_type": "markdown",
   "metadata": {
    "colab_type": "text",
    "id": "-1WqdM0g5wCN"
   },
   "source": [
    "### Working with numbers"
   ]
  },
  {
   "cell_type": "markdown",
   "metadata": {
    "colab_type": "text",
    "id": "YTgbYmVI5wCQ"
   },
   "source": [
    "#### Question:\n",
    "\n",
    "Create a program that asks the user for a number and then prints out a list of all the divisors of that number. \n",
    "\n",
    "A divisor is a number that divides evenly into another number. For example, 4 is a divisor of 1. 3 is not a divisor of 5."
   ]
  },
  {
   "cell_type": "code",
   "execution_count": 15,
   "metadata": {
    "colab": {},
    "colab_type": "code",
    "id": "DaynFX6Z5wCT"
   },
   "outputs": [
    {
     "name": "stdout",
     "output_type": "stream",
     "text": [
      "Enter a number: 66\n",
      "1\n",
      "2\n",
      "3\n",
      "6\n",
      "11\n",
      "22\n",
      "33\n",
      "66\n"
     ]
    }
   ],
   "source": [
    "# Answer\n",
    "num = input('Enter a number: ')\n",
    "num = int(num)\n",
    "for i in range(1, num + 1):\n",
    "    if num % i == 0:\n",
    "        print(i)"
   ]
  },
  {
   "cell_type": "markdown",
   "metadata": {
    "colab_type": "text",
    "id": "TvMqWRzo5wCf"
   },
   "source": [
    "### Functions, Iteration, and Logic"
   ]
  },
  {
   "cell_type": "markdown",
   "metadata": {
    "colab_type": "text",
    "id": "RbH30DD-5wCm"
   },
   "source": [
    "#### Question:\n",
    "\n",
    "Rock Paper Scissors \n",
    "\n",
    "Make a two-player Rock-Paper-Scissors game. \n",
    "\n",
    "Ask each player player for their name (using `input`).\n",
    "\n",
    "Prompt each player for their name, and ask each player by name + `do you want to choose rock, paper or scissors?`\n",
    "\n",
    "Compare the selection from each player.  Print out a message of congratulations to the winner, or a message if there is a tie, or if their input was invalid, i.e., if both user made the same selection.\n",
    "\n",
    "Remember the rules:  \n",
    "- Rock beats scissors  \n",
    "- Scissors beats paper  \n",
    "- Paper beats rock\n"
   ]
  },
  {
   "cell_type": "code",
   "execution_count": 16,
   "metadata": {
    "colab": {},
    "colab_type": "code",
    "id": "s2wp7I3A5wCp"
   },
   "outputs": [
    {
     "name": "stdout",
     "output_type": "stream",
     "text": [
      "Who is player 1? 1\n",
      "1 do you want to choose rock, paper or scissors?paper\n",
      "Who is player 2? 2\n",
      "2 do you want to choose rock, paper or scissors?scissors\n",
      "2  won\n"
     ]
    }
   ],
   "source": [
    "# Answer:\n",
    "valid = ['rock', 'paper', 'scissors']\n",
    "name1 = input('Who is player 1? ')\n",
    "c1 = input(name1 + ' do you want to choose rock, paper or scissors?')\n",
    "name2 = input('Who is player 2? ')\n",
    "c2 = input(name2 + ' do you want to choose rock, paper or scissors?')\n",
    "if (c1 not in valid):\n",
    "    print('Invalid entry ', name1)\n",
    "elif (c2 not in valid):\n",
    "    print('Invalid entry ', name2)\n",
    "elif (c1 == c2):\n",
    "    print('tie')\n",
    "elif ((c1 == 'rock' and c2 == 'scissors') or\n",
    "     (c1 == 'scissors' and c2 == 'paper') or\n",
    "     (c1 == 'paper' and c2 == 'rock')):\n",
    "    print(name1, ' won')\n",
    "elif ((c2 == 'rock' and c1 == 'scissors') or\n",
    "        (c2 == 'scissors' and c1 == 'paper') or\n",
    "        (c2 == 'paper' and c1 == 'rock')):\n",
    "    print(name2, ' won')"
   ]
  },
  {
   "cell_type": "markdown",
   "metadata": {
    "colab_type": "text",
    "id": "NYqMK_bx5wCt"
   },
   "source": [
    "#### Question:\n",
    "\n",
    "Longest word - looping, logic, and functions.\n",
    "\n",
    "Create a function called `longest_word` that takes one argument, a list of words, and returns the word and length of the longest word in the list.\n",
    "\n",
    "For example, longest_word(['simple', 'is', 'better', 'than', 'complex']) should return ('complex', 7) because the longest word there is complex, at 7 characters.\n",
    "\n",
    "Your function should not modify the input list.\n"
   ]
  },
  {
   "cell_type": "code",
   "execution_count": 17,
   "metadata": {
    "colab": {},
    "colab_type": "code",
    "id": "zcuf3FA15wCw"
   },
   "outputs": [
    {
     "name": "stdout",
     "output_type": "stream",
     "text": [
      "simplefffffffffffffffffff 25\n",
      "simplefffffffffffffffffff 25\n",
      "simplefffffffffffffffffff 25\n",
      "complexxxxxxxxxxxxxxxxxxxxxxxxxxxxxxxxxxxxxxxxxx 48\n"
     ]
    },
    {
     "data": {
      "text/plain": [
       "['complexxxxxxxxxxxxxxxxxxxxxxxxxxxxxxxxxxxxxxxxxx', 48]"
      ]
     },
     "execution_count": 17,
     "metadata": {},
     "output_type": "execute_result"
    }
   ],
   "source": [
    "# Answer:\n",
    "def longest_word(wlist):\n",
    "    long = len(wlist[0])\n",
    "    longw = wlist[0]\n",
    "    for i in range(1, len(wlist)):\n",
    "        \n",
    "        if len(wlist[i]) > long:\n",
    "            long = len(wlist[i])\n",
    "            longw = wlist[i]\n",
    "        print(longw, long)\n",
    "\n",
    "    rval = [longw, long]\n",
    "    return(rval)\n",
    "\n",
    "words = ['simplefffffffffffffffffff', 'isddd', 'better', 'than', 'complexxxxxxxxxxxxxxxxxxxxxxxxxxxxxxxxxxxxxxxxxx']\n",
    "longest_word(words)"
   ]
  },
  {
   "cell_type": "markdown",
   "metadata": {
    "colab_type": "text",
    "id": "PtlGRnbh5wC1"
   },
   "source": [
    "### Custom objects "
   ]
  },
  {
   "cell_type": "markdown",
   "metadata": {
    "colab_type": "text",
    "id": "tfqH3UCE5wC3"
   },
   "source": [
    "#### Question:\n",
    "\n",
    "Create a `Person` class.\n",
    "\n",
    "Each person will have the attributes:\n",
    "- name(int)\n",
    "- gender(int)\n",
    "- age (int)\n",
    "\n",
    "Each attribute is provided to `__init__()`\n",
    "\n",
    "Provide a `__repr__()` method to generate a formated string for printing.\n",
    "\n",
    "Create a list with at least 3 people objects.\n",
    "\n",
    "Iterate through the list and print each object."
   ]
  },
  {
   "cell_type": "code",
   "execution_count": 27,
   "metadata": {
    "colab": {},
    "colab_type": "code",
    "id": "Yc0jFh445wC4"
   },
   "outputs": [
    {
     "name": "stdout",
     "output_type": "stream",
     "text": [
      "Person(name=('Steve',), gender=('M',), age=53)\n",
      "Person(name=('Janielle',), gender=('F',), age=47)\n",
      "Person(name=('Sidney',), gender=('M',), age=16)\n"
     ]
    }
   ],
   "source": [
    "# Answer:\n",
    "class Person:\n",
    "    def __init__(self, name, gender, age):\n",
    "        self.name = name,\n",
    "        self.gender = gender,\n",
    "        self.age = age\n",
    "        \n",
    "    def __repr__(self):\n",
    "        return 'Person(name=%s, gender=%s, age=%i)' % (self.name, self.gender, self.age)\n",
    "\n",
    "people = [Person('Steve', 'M', 53)\n",
    "         ,Person('Janielle', 'F', 47)\n",
    "         ,Person('Sidney', 'M', 16)]\n",
    "for p in people:\n",
    "    print(p)"
   ]
  },
  {
   "cell_type": "markdown",
   "metadata": {
    "colab_type": "text",
    "id": "v94YO9ss5wC8"
   },
   "source": [
    "### Importing modules"
   ]
  },
  {
   "cell_type": "markdown",
   "metadata": {
    "colab_type": "text",
    "id": "7Ro0niJw5wC9"
   },
   "source": [
    "#### Question:\n",
    "\n",
    "From the python `random` module import the `seed` and `random` functions. Set `seed()` to `1`, i.e., `seed(1)`.\n",
    "\n",
    "Use the `random` number to generate `10` numbers between `0-100`"
   ]
  },
  {
   "cell_type": "code",
   "execution_count": 50,
   "metadata": {
    "colab": {},
    "colab_type": "code",
    "id": "lkxxNKOF5wC-"
   },
   "outputs": [
    {
     "name": "stdout",
     "output_type": "stream",
     "text": [
      "17\n",
      "72\n",
      "97\n",
      "8\n",
      "32\n",
      "15\n",
      "63\n",
      "97\n",
      "57\n",
      "60\n"
     ]
    }
   ],
   "source": [
    "# Answer:\n",
    "import random\n",
    "random.seed(1)\n",
    "for i in range(10):\n",
    "    print(random.randrange(100))"
   ]
  },
  {
   "cell_type": "code",
   "execution_count": null,
   "metadata": {
    "colab": {},
    "colab_type": "code",
    "id": "ZKW3zFUc5wDF"
   },
   "outputs": [],
   "source": []
  }
 ],
 "metadata": {
  "colab": {
   "collapsed_sections": [],
   "name": "Day 5 Python 1 Fundamentals.ipynb",
   "provenance": []
  },
  "kernelspec": {
   "display_name": "Python 3",
   "language": "python",
   "name": "python3"
  },
  "language_info": {
   "codemirror_mode": {
    "name": "ipython",
    "version": 3
   },
   "file_extension": ".py",
   "mimetype": "text/x-python",
   "name": "python",
   "nbconvert_exporter": "python",
   "pygments_lexer": "ipython3",
   "version": "3.7.6"
  }
 },
 "nbformat": 4,
 "nbformat_minor": 1
}
