{
 "cells": [
  {
   "cell_type": "markdown",
   "metadata": {
    "colab_type": "text",
    "id": "tB7WmBX-E-Hi"
   },
   "source": [
    "# Inferential Statistics Assignment"
   ]
  },
  {
   "cell_type": "code",
   "execution_count": 1,
   "metadata": {
    "colab": {},
    "colab_type": "code",
    "executionInfo": {
     "elapsed": 918,
     "status": "ok",
     "timestamp": 1595527244029,
     "user": {
      "displayName": "Steve McNatt",
      "photoUrl": "https://lh3.googleusercontent.com/a-/AOh14Gh_xqDao3VTsC8rTyyomoAZzFcCZbR3MyZGQ1aMmQ=s64",
      "userId": "17122454985167578805"
     },
     "user_tz": 300
    },
    "id": "WzNb9xULE-Hk"
   },
   "outputs": [],
   "source": [
    "import numpy as np\n",
    "import pandas as pd\n",
    "\n",
    "import seaborn as sns\n",
    "import matplotlib.pyplot as plt\n",
    "\n",
    "%matplotlib inline"
   ]
  },
  {
   "cell_type": "code",
   "execution_count": 3,
   "metadata": {
    "colab": {},
    "colab_type": "code",
    "executionInfo": {
     "elapsed": 857,
     "status": "ok",
     "timestamp": 1595527244032,
     "user": {
      "displayName": "Steve McNatt",
      "photoUrl": "https://lh3.googleusercontent.com/a-/AOh14Gh_xqDao3VTsC8rTyyomoAZzFcCZbR3MyZGQ1aMmQ=s64",
      "userId": "17122454985167578805"
     },
     "user_tz": 300
    },
    "id": "GUFlYOZ7GXta"
   },
   "outputs": [],
   "source": [
    "data_url = 'https://docs.google.com/spreadsheets/d/1uWH8kic9eW53I7BqNpgDKCz2hWYQSbIrI73q9JR_sag/export?format=csv'"
   ]
  },
  {
   "cell_type": "markdown",
   "metadata": {
    "colab_type": "text",
    "id": "BebNLQKJE-Ho"
   },
   "source": [
    "### Read the customer churn data set into a Pandas data frame."
   ]
  },
  {
   "cell_type": "code",
   "execution_count": 4,
   "metadata": {
    "colab": {
     "base_uri": "https://localhost:8080/",
     "height": 252
    },
    "colab_type": "code",
    "executionInfo": {
     "elapsed": 2914,
     "status": "ok",
     "timestamp": 1595530633030,
     "user": {
      "displayName": "Steve McNatt",
      "photoUrl": "https://lh3.googleusercontent.com/a-/AOh14Gh_xqDao3VTsC8rTyyomoAZzFcCZbR3MyZGQ1aMmQ=s64",
      "userId": "17122454985167578805"
     },
     "user_tz": 300
    },
    "id": "SS5cvl_EE-Hp",
    "outputId": "05e6b5ca-1138-4a74-ab9a-106a3dc1e5eb"
   },
   "outputs": [
    {
     "name": "stdout",
     "output_type": "stream",
     "text": [
      "<bound method DataFrame.info of       CustomerID  Gender  SeniorCitizen  Partner  Dependents  tenure  \\\n",
      "0              0  Female              0        1           0       1   \n",
      "1              1    Male              0        0           0      34   \n",
      "2              2    Male              0        1           0       2   \n",
      "3              3    Male              0        0           0      45   \n",
      "4              4  Female              0        1           0       2   \n",
      "...          ...     ...            ...      ...         ...     ...   \n",
      "7027        7027    Male              0        1           1      24   \n",
      "7028        7028  Female              0        1           1      72   \n",
      "7029        7029  Female              0        1           1      11   \n",
      "7030        7030    Male              1        1           0       4   \n",
      "7031        7031    Male              0        1           0      66   \n",
      "\n",
      "      PhoneService InternetService        Contract  PaperlessBilling  \\\n",
      "0                0             DSL  Month-to-month                 1   \n",
      "1                1             DSL        One year                 0   \n",
      "2                1             DSL  Month-to-month                 1   \n",
      "3                0             DSL        One year                 0   \n",
      "4                1     Fiber optic  Month-to-month                 1   \n",
      "...            ...             ...             ...               ...   \n",
      "7027             1             DSL        One year                 1   \n",
      "7028             1     Fiber optic        One year                 1   \n",
      "7029             0             DSL  Month-to-month                 1   \n",
      "7030             1     Fiber optic  Month-to-month                 1   \n",
      "7031             1     Fiber optic        Two year                 1   \n",
      "\n",
      "                  PaymentMethod  MonthlyCharges  TotalCharges  Churn  \n",
      "0              Electronic check           29.85         29.85      0  \n",
      "1                  Mailed check           56.95       1889.50      0  \n",
      "2                  Mailed check           53.85        108.15      1  \n",
      "3     Bank transfer (automatic)           42.30       1840.75      0  \n",
      "4              Electronic check           70.70        151.65      1  \n",
      "...                         ...             ...           ...    ...  \n",
      "7027               Mailed check           84.80       1990.50      0  \n",
      "7028    Credit card (automatic)          103.20       7362.90      0  \n",
      "7029           Electronic check           29.60        346.45      0  \n",
      "7030               Mailed check           74.40        306.60      1  \n",
      "7031  Bank transfer (automatic)          105.65       6844.50      0  \n",
      "\n",
      "[7032 rows x 14 columns]>\n"
     ]
    }
   ],
   "source": [
    "churn = pd.read_csv(data_url)\n",
    "churn.head()\n",
    "print(churn.info)"
   ]
  },
  {
   "cell_type": "code",
   "execution_count": 4,
   "metadata": {
    "colab": {
     "base_uri": "https://localhost:8080/",
     "height": 284
    },
    "colab_type": "code",
    "executionInfo": {
     "elapsed": 409,
     "status": "ok",
     "timestamp": 1595528473533,
     "user": {
      "displayName": "Steve McNatt",
      "photoUrl": "https://lh3.googleusercontent.com/a-/AOh14Gh_xqDao3VTsC8rTyyomoAZzFcCZbR3MyZGQ1aMmQ=s64",
      "userId": "17122454985167578805"
     },
     "user_tz": 300
    },
    "id": "zAQaXT1t6E5P",
    "outputId": "163eab8a-58c7-4e81-be07-45d23a2d0bab"
   },
   "outputs": [
    {
     "data": {
      "text/html": [
       "<div>\n",
       "<style scoped>\n",
       "    .dataframe tbody tr th:only-of-type {\n",
       "        vertical-align: middle;\n",
       "    }\n",
       "\n",
       "    .dataframe tbody tr th {\n",
       "        vertical-align: top;\n",
       "    }\n",
       "\n",
       "    .dataframe thead th {\n",
       "        text-align: right;\n",
       "    }\n",
       "</style>\n",
       "<table border=\"1\" class=\"dataframe\">\n",
       "  <thead>\n",
       "    <tr style=\"text-align: right;\">\n",
       "      <th></th>\n",
       "      <th>CustomerID</th>\n",
       "      <th>SeniorCitizen</th>\n",
       "      <th>Partner</th>\n",
       "      <th>Dependents</th>\n",
       "      <th>tenure</th>\n",
       "      <th>PhoneService</th>\n",
       "      <th>PaperlessBilling</th>\n",
       "      <th>MonthlyCharges</th>\n",
       "      <th>TotalCharges</th>\n",
       "      <th>Churn</th>\n",
       "    </tr>\n",
       "  </thead>\n",
       "  <tbody>\n",
       "    <tr>\n",
       "      <th>count</th>\n",
       "      <td>7032.000000</td>\n",
       "      <td>7032.000000</td>\n",
       "      <td>7032.000000</td>\n",
       "      <td>7032.000000</td>\n",
       "      <td>7032.000000</td>\n",
       "      <td>7032.000000</td>\n",
       "      <td>7032.000000</td>\n",
       "      <td>7032.000000</td>\n",
       "      <td>7032.000000</td>\n",
       "      <td>7032.000000</td>\n",
       "    </tr>\n",
       "    <tr>\n",
       "      <th>mean</th>\n",
       "      <td>3515.500000</td>\n",
       "      <td>0.162400</td>\n",
       "      <td>0.592719</td>\n",
       "      <td>0.298493</td>\n",
       "      <td>32.421786</td>\n",
       "      <td>0.903299</td>\n",
       "      <td>0.592719</td>\n",
       "      <td>64.798208</td>\n",
       "      <td>2283.300441</td>\n",
       "      <td>0.265785</td>\n",
       "    </tr>\n",
       "    <tr>\n",
       "      <th>std</th>\n",
       "      <td>2030.107879</td>\n",
       "      <td>0.368844</td>\n",
       "      <td>0.491363</td>\n",
       "      <td>0.457629</td>\n",
       "      <td>24.545260</td>\n",
       "      <td>0.295571</td>\n",
       "      <td>0.491363</td>\n",
       "      <td>30.085974</td>\n",
       "      <td>2266.771362</td>\n",
       "      <td>0.441782</td>\n",
       "    </tr>\n",
       "    <tr>\n",
       "      <th>min</th>\n",
       "      <td>0.000000</td>\n",
       "      <td>0.000000</td>\n",
       "      <td>0.000000</td>\n",
       "      <td>0.000000</td>\n",
       "      <td>1.000000</td>\n",
       "      <td>0.000000</td>\n",
       "      <td>0.000000</td>\n",
       "      <td>18.250000</td>\n",
       "      <td>18.800000</td>\n",
       "      <td>0.000000</td>\n",
       "    </tr>\n",
       "    <tr>\n",
       "      <th>25%</th>\n",
       "      <td>1757.750000</td>\n",
       "      <td>0.000000</td>\n",
       "      <td>0.000000</td>\n",
       "      <td>0.000000</td>\n",
       "      <td>9.000000</td>\n",
       "      <td>1.000000</td>\n",
       "      <td>0.000000</td>\n",
       "      <td>35.587500</td>\n",
       "      <td>401.450000</td>\n",
       "      <td>0.000000</td>\n",
       "    </tr>\n",
       "    <tr>\n",
       "      <th>50%</th>\n",
       "      <td>3515.500000</td>\n",
       "      <td>0.000000</td>\n",
       "      <td>1.000000</td>\n",
       "      <td>0.000000</td>\n",
       "      <td>29.000000</td>\n",
       "      <td>1.000000</td>\n",
       "      <td>1.000000</td>\n",
       "      <td>70.350000</td>\n",
       "      <td>1397.475000</td>\n",
       "      <td>0.000000</td>\n",
       "    </tr>\n",
       "    <tr>\n",
       "      <th>75%</th>\n",
       "      <td>5273.250000</td>\n",
       "      <td>0.000000</td>\n",
       "      <td>1.000000</td>\n",
       "      <td>1.000000</td>\n",
       "      <td>55.000000</td>\n",
       "      <td>1.000000</td>\n",
       "      <td>1.000000</td>\n",
       "      <td>89.862500</td>\n",
       "      <td>3794.737500</td>\n",
       "      <td>1.000000</td>\n",
       "    </tr>\n",
       "    <tr>\n",
       "      <th>max</th>\n",
       "      <td>7031.000000</td>\n",
       "      <td>1.000000</td>\n",
       "      <td>1.000000</td>\n",
       "      <td>1.000000</td>\n",
       "      <td>72.000000</td>\n",
       "      <td>1.000000</td>\n",
       "      <td>1.000000</td>\n",
       "      <td>118.750000</td>\n",
       "      <td>8684.800000</td>\n",
       "      <td>1.000000</td>\n",
       "    </tr>\n",
       "  </tbody>\n",
       "</table>\n",
       "</div>"
      ],
      "text/plain": [
       "        CustomerID  SeniorCitizen      Partner   Dependents       tenure  \\\n",
       "count  7032.000000    7032.000000  7032.000000  7032.000000  7032.000000   \n",
       "mean   3515.500000       0.162400     0.592719     0.298493    32.421786   \n",
       "std    2030.107879       0.368844     0.491363     0.457629    24.545260   \n",
       "min       0.000000       0.000000     0.000000     0.000000     1.000000   \n",
       "25%    1757.750000       0.000000     0.000000     0.000000     9.000000   \n",
       "50%    3515.500000       0.000000     1.000000     0.000000    29.000000   \n",
       "75%    5273.250000       0.000000     1.000000     1.000000    55.000000   \n",
       "max    7031.000000       1.000000     1.000000     1.000000    72.000000   \n",
       "\n",
       "       PhoneService  PaperlessBilling  MonthlyCharges  TotalCharges  \\\n",
       "count   7032.000000       7032.000000     7032.000000   7032.000000   \n",
       "mean       0.903299          0.592719       64.798208   2283.300441   \n",
       "std        0.295571          0.491363       30.085974   2266.771362   \n",
       "min        0.000000          0.000000       18.250000     18.800000   \n",
       "25%        1.000000          0.000000       35.587500    401.450000   \n",
       "50%        1.000000          1.000000       70.350000   1397.475000   \n",
       "75%        1.000000          1.000000       89.862500   3794.737500   \n",
       "max        1.000000          1.000000      118.750000   8684.800000   \n",
       "\n",
       "             Churn  \n",
       "count  7032.000000  \n",
       "mean      0.265785  \n",
       "std       0.441782  \n",
       "min       0.000000  \n",
       "25%       0.000000  \n",
       "50%       0.000000  \n",
       "75%       1.000000  \n",
       "max       1.000000  "
      ]
     },
     "execution_count": 4,
     "metadata": {},
     "output_type": "execute_result"
    }
   ],
   "source": [
    "churn.describe()"
   ]
  },
  {
   "cell_type": "markdown",
   "metadata": {
    "colab_type": "text",
    "id": "Ez9lcwpJE-Hs"
   },
   "source": [
    "### Generate a histogram that shows the data distribution of the MonthlyCharges field in the data."
   ]
  },
  {
   "cell_type": "code",
   "execution_count": 5,
   "metadata": {
    "colab": {
     "base_uri": "https://localhost:8080/",
     "height": 296
    },
    "colab_type": "code",
    "executionInfo": {
     "elapsed": 675,
     "status": "ok",
     "timestamp": 1595527339206,
     "user": {
      "displayName": "Steve McNatt",
      "photoUrl": "https://lh3.googleusercontent.com/a-/AOh14Gh_xqDao3VTsC8rTyyomoAZzFcCZbR3MyZGQ1aMmQ=s64",
      "userId": "17122454985167578805"
     },
     "user_tz": 300
    },
    "id": "Y7zyEYj8E-Hs",
    "outputId": "4898bf1f-b1cb-4248-803c-265ba1f78648"
   },
   "outputs": [
    {
     "data": {
      "text/plain": [
       "<matplotlib.axes._subplots.AxesSubplot at 0x2198868b808>"
      ]
     },
     "execution_count": 5,
     "metadata": {},
     "output_type": "execute_result"
    },
    {
     "data": {
      "image/png": "[encoded data removed]",
      "text/plain": [
       "<Figure size 432x288 with 1 Axes>"
      ]
     },
     "metadata": {
      "needs_background": "light"
     },
     "output_type": "display_data"
    }
   ],
   "source": [
    "sns.distplot(churn['MonthlyCharges'])"
   ]
  },
  {
   "cell_type": "markdown",
   "metadata": {
    "colab_type": "text",
    "id": "H36sNQHVE-Hu"
   },
   "source": [
    "### Randomly sample with replacement 1,000 records from the data set and calculate the mean of the MonthlyCharges field.\n",
    "\n",
    "Run the cell a few times and see how the mean changes based on the records that are sampled."
   ]
  },
  {
   "cell_type": "code",
   "execution_count": 6,
   "metadata": {
    "colab": {
     "base_uri": "https://localhost:8080/",
     "height": 34
    },
    "colab_type": "code",
    "executionInfo": {
     "elapsed": 430,
     "status": "ok",
     "timestamp": 1595527727560,
     "user": {
      "displayName": "Steve McNatt",
      "photoUrl": "https://lh3.googleusercontent.com/a-/AOh14Gh_xqDao3VTsC8rTyyomoAZzFcCZbR3MyZGQ1aMmQ=s64",
      "userId": "17122454985167578805"
     },
     "user_tz": 300
    },
    "id": "D_-cS2rcE-Hv",
    "outputId": "6eff3437-1aaf-4891-b6f8-9eb034d5dc84"
   },
   "outputs": [
    {
     "data": {
      "text/plain": [
       "65.39775"
      ]
     },
     "execution_count": 6,
     "metadata": {},
     "output_type": "execute_result"
    }
   ],
   "source": [
    "rnd_sample = churn.sample(1000)\n",
    "rnd_sample['MonthlyCharges'].mean()"
   ]
  },
  {
   "cell_type": "markdown",
   "metadata": {
    "colab_type": "text",
    "id": "W_1XLrOZE-Hy"
   },
   "source": [
    "### Bootstrap a sampling distribution for MonthlyCharges field means and generate a histogram showing the distribution of values.\n",
    "\n",
    "- Generate one sampling distribution using 1,000 samples of size 1,000.\n",
    "- Generate another sampling distribution using 5,000 samples that are each the size of the original data set.\n",
    "- Note the differences between the two sampling distributions."
   ]
  },
  {
   "cell_type": "code",
   "execution_count": 7,
   "metadata": {
    "colab": {
     "base_uri": "https://localhost:8080/",
     "height": 265
    },
    "colab_type": "code",
    "executionInfo": {
     "elapsed": 1714,
     "status": "ok",
     "timestamp": 1595530890709,
     "user": {
      "displayName": "Steve McNatt",
      "photoUrl": "https://lh3.googleusercontent.com/a-/AOh14Gh_xqDao3VTsC8rTyyomoAZzFcCZbR3MyZGQ1aMmQ=s64",
      "userId": "17122454985167578805"
     },
     "user_tz": 300
    },
    "id": "UaUSpL9fE-Hz",
    "outputId": "c2ec4129-ebc9-4465-e5b7-f6254b0d2a8e"
   },
   "outputs": [
    {
     "ename": "NameError",
     "evalue": "name 'samples' is not defined",
     "output_type": "error",
     "traceback": [
      "\u001b[1;31m---------------------------------------------------------------------------\u001b[0m",
      "\u001b[1;31mNameError\u001b[0m                                 Traceback (most recent call last)",
      "\u001b[1;32m<ipython-input-7-65b98f40bd42>\u001b[0m in \u001b[0;36m<module>\u001b[1;34m\u001b[0m\n\u001b[0;32m      4\u001b[0m     \u001b[0msamples1\u001b[0m\u001b[1;33m.\u001b[0m\u001b[0mappend\u001b[0m\u001b[1;33m(\u001b[0m\u001b[0mrnd_sample\u001b[0m\u001b[1;33m[\u001b[0m\u001b[1;34m'MonthlyCharges'\u001b[0m\u001b[1;33m]\u001b[0m\u001b[1;33m.\u001b[0m\u001b[0mmean\u001b[0m\u001b[1;33m(\u001b[0m\u001b[1;33m)\u001b[0m\u001b[1;33m)\u001b[0m\u001b[1;33m\u001b[0m\u001b[1;33m\u001b[0m\u001b[0m\n\u001b[0;32m      5\u001b[0m \u001b[1;33m\u001b[0m\u001b[0m\n\u001b[1;32m----> 6\u001b[1;33m \u001b[0msns\u001b[0m\u001b[1;33m.\u001b[0m\u001b[0mdistplot\u001b[0m\u001b[1;33m(\u001b[0m\u001b[0msamples\u001b[0m\u001b[1;33m)\u001b[0m\u001b[1;33m\u001b[0m\u001b[1;33m\u001b[0m\u001b[0m\n\u001b[0m\u001b[0;32m      7\u001b[0m \u001b[0mplt\u001b[0m\u001b[1;33m.\u001b[0m\u001b[0mshow\u001b[0m\u001b[1;33m(\u001b[0m\u001b[1;33m)\u001b[0m\u001b[1;33m\u001b[0m\u001b[1;33m\u001b[0m\u001b[0m\n",
      "\u001b[1;31mNameError\u001b[0m: name 'samples' is not defined"
     ]
    }
   ],
   "source": [
    "samples1 = []\n",
    "for _ in range(1000):\n",
    "    rnd_sample = churn.sample(1000)\n",
    "    samples1.append(rnd_sample['MonthlyCharges'].mean())\n",
    "\n",
    "sns.distplot(samples)\n",
    "plt.show()"
   ]
  },
  {
   "cell_type": "code",
   "execution_count": null,
   "metadata": {
    "colab": {
     "base_uri": "https://localhost:8080/",
     "height": 369
    },
    "colab_type": "code",
    "executionInfo": {
     "elapsed": 5773,
     "status": "ok",
     "timestamp": 1595530919231,
     "user": {
      "displayName": "Steve McNatt",
      "photoUrl": "https://lh3.googleusercontent.com/a-/AOh14Gh_xqDao3VTsC8rTyyomoAZzFcCZbR3MyZGQ1aMmQ=s64",
      "userId": "17122454985167578805"
     },
     "user_tz": 300
    },
    "id": "fCZuum1IDR5P",
    "outputId": "dc234113-4853-4f4b-a61b-28f72cd4e5f2"
   },
   "outputs": [],
   "source": [
    "samples2 = []\n",
    "for _ in range(5000):\n",
    "    rnd_sample = churn.sample(7000)\n",
    "    samples2.append(full_sample['MonthlyCharges'].mean())\n",
    "\n",
    "print(samples2)\n",
    "sns.distplot(samples2)\n",
    "plt.show()"
   ]
  },
  {
   "cell_type": "markdown",
   "metadata": {
    "colab_type": "text",
    "id": "Q3rc9iRKE-H1"
   },
   "source": [
    "### Use Bayesian inference to construct a model that generates the posterior distribution showing the likely range of churn rates that may have resulted in the observed amount of churn we see in the data."
   ]
  },
  {
   "cell_type": "code",
   "execution_count": null,
   "metadata": {
    "colab": {},
    "colab_type": "code",
    "executionInfo": {
     "elapsed": 2139,
     "status": "aborted",
     "timestamp": 1595527245464,
     "user": {
      "displayName": "Steve McNatt",
      "photoUrl": "https://lh3.googleusercontent.com/a-/AOh14Gh_xqDao3VTsC8rTyyomoAZzFcCZbR3MyZGQ1aMmQ=s64",
      "userId": "17122454985167578805"
     },
     "user_tz": 300
    },
    "id": "zlbjOoCNE-H1"
   },
   "outputs": [],
   "source": []
  }
 ],
 "metadata": {
  "colab": {
   "collapsed_sections": [],
   "name": "Day 4 Lecture 2 Assignment.ipynb",
   "provenance": [
    {
     "file_id": "1fcgK8TeLm_BjczWw9UBzAI19cRTPrpWt",
     "timestamp": 1595526743165
    }
   ]
  },
  "kernelspec": {
   "display_name": "Python 3",
   "language": "python",
   "name": "python3"
  },
  "language_info": {
   "codemirror_mode": {
    "name": "ipython",
    "version": 3
   },
   "file_extension": ".py",
   "mimetype": "text/x-python",
   "name": "python",
   "nbconvert_exporter": "python",
   "pygments_lexer": "ipython3",
   "version": "3.7.6"
  }
 },
 "nbformat": 4,
 "nbformat_minor": 1
}
