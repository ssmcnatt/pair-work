{
  "nbformat": 4,
  "nbformat_minor": 0,
  "metadata": {
    "kernelspec": {
      "display_name": "Python 3",
      "language": "python",
      "name": "python3"
    },
    "language_info": {
      "codemirror_mode": {
        "name": "ipython",
        "version": 3
      },
      "file_extension": ".py",
      "mimetype": "text/x-python",
      "name": "python",
      "nbconvert_exporter": "python",
      "pygments_lexer": "ipython3",
      "version": "3.7.0"
    },
    "colab": {
      "name": "Day 81 Lecture 1 Assignment.ipynb",
      "provenance": [],
      "collapsed_sections": []
    }
  },
  "cells": [
    {
      "cell_type": "markdown",
      "metadata": {
        "id": "087S2B-zux_6"
      },
      "source": [
        "## Day 76 Lecture 1 Assignment\n",
        "\n",
        "In this assignment, we will learn about the Dask library. We will use a json file containing the novel War and Peace loaded below and analyze the text."
      ]
    },
    {
      "cell_type": "code",
      "metadata": {
        "id": "IYIQ_BxAux_7",
        "colab": {
          "base_uri": "https://localhost:8080/",
          "height": 34
        },
        "outputId": "0e42e94b-07ca-4033-d30c-31e66c872a83"
      },
      "source": [
        "import dask.bag as db\n",
        "import json\n",
        "\n",
        "tolstoy = db.read_text('/content/drive/My Drive/DSI Month 4/Week 15/Data/2600-0.txt')\n",
        "tolstoy"
      ],
      "execution_count": null,
      "outputs": [
        {
          "output_type": "execute_result",
          "data": {
            "text/plain": [
              "dask.bag<bag-from-delayed, npartitions=1>"
            ]
          },
          "metadata": {
            "tags": []
          },
          "execution_count": 2
        }
      ]
    },
    {
      "cell_type": "code",
      "metadata": {
        "id": "iaIoIkW25DKu",
        "colab": {
          "base_uri": "https://localhost:8080/",
          "height": 187
        },
        "outputId": "8abbe077-1131-417f-801f-7d78c2fd2ea9"
      },
      "source": [
        "tolstoy.take(10)"
      ],
      "execution_count": null,
      "outputs": [
        {
          "output_type": "execute_result",
          "data": {
            "text/plain": [
              "('\\ufeffBOOK ONE: 1805\\n',\n",
              " '\\n',\n",
              " '\\n',\n",
              " '\\n',\n",
              " '\\n',\n",
              " '\\n',\n",
              " 'CHAPTER I\\n',\n",
              " '\\n',\n",
              " '“Well, Prince, so Genoa and Lucca are now just family estates of the\\n',\n",
              " 'Buonapartes. But I warn you, if you don’t tell me that this means war,\\n')"
            ]
          },
          "metadata": {
            "tags": []
          },
          "execution_count": 3
        }
      ]
    },
    {
      "cell_type": "markdown",
      "metadata": {
        "id": "WBxjwKSnux_-"
      },
      "source": [
        "Above, we have loaded the novel War and Peace by Tolstoy into a Dask bag. Print the first 10 rows in the novel using the Dask bag."
      ]
    },
    {
      "cell_type": "code",
      "metadata": {
        "id": "L28YX6uuux__"
      },
      "source": [
        "#Answer below:\n",
        "\n"
      ],
      "execution_count": null,
      "outputs": []
    },
    {
      "cell_type": "markdown",
      "metadata": {
        "id": "uN65kINLuyAB"
      },
      "source": [
        "You may notice that there are many blank rows (rows containing only `\\n`) Filter these rows and print the first 10 non blank rows in the novel."
      ]
    },
    {
      "cell_type": "code",
      "metadata": {
        "id": "jGlMSK5suyAC"
      },
      "source": [
        "#Answer below:\n",
        "\n"
      ],
      "execution_count": null,
      "outputs": []
    },
    {
      "cell_type": "markdown",
      "metadata": {
        "id": "kjIeJ8ZFuyAD"
      },
      "source": [
        "We would like to count the frequency of all words in the novel. The first step is to remove the `\\n` from the end of each string. Do this using the map function. Inside the map function write a lambda that will replace the string `\\n` with `''`."
      ]
    },
    {
      "cell_type": "code",
      "metadata": {
        "id": "bGaXglIsuyAE"
      },
      "source": [
        "#Answer below:\n",
        "\n"
      ],
      "execution_count": null,
      "outputs": []
    },
    {
      "cell_type": "markdown",
      "metadata": {
        "id": "JIA08wDYuyAF"
      },
      "source": [
        "Next, split each row on the space (use a lambda function inside a map). Then apply the flatten function to create a list of all words in the novel."
      ]
    },
    {
      "cell_type": "code",
      "metadata": {
        "id": "cqjprCyYuyAG"
      },
      "source": [
        "# Answer below:\n",
        "\n"
      ],
      "execution_count": null,
      "outputs": []
    },
    {
      "cell_type": "markdown",
      "metadata": {
        "id": "iK5V5L12uyAI"
      },
      "source": [
        "Using the frequencies function, return the top 10 words in the novel and their frequency"
      ]
    },
    {
      "cell_type": "code",
      "metadata": {
        "id": "PdEjFqKSuyAI"
      },
      "source": [
        "# Answer below:\n",
        "\n"
      ],
      "execution_count": null,
      "outputs": []
    },
    {
      "cell_type": "code",
      "metadata": {
        "id": "SORSao6muyAK"
      },
      "source": [
        ""
      ],
      "execution_count": null,
      "outputs": []
    },
    {
      "cell_type": "code",
      "metadata": {
        "id": "zKNw9y7ouyAL"
      },
      "source": [
        ""
      ],
      "execution_count": null,
      "outputs": []
    }
  ]
}