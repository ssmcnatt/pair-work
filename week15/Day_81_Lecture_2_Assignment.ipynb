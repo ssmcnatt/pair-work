{
  "nbformat": 4,
  "nbformat_minor": 0,
  "metadata": {
    "kernelspec": {
      "display_name": "Python 3",
      "language": "python",
      "name": "python3"
    },
    "language_info": {
      "codemirror_mode": {
        "name": "ipython",
        "version": 3
      },
      "file_extension": ".py",
      "mimetype": "text/x-python",
      "name": "python",
      "nbconvert_exporter": "python",
      "pygments_lexer": "ipython3",
      "version": "3.7.0"
    },
    "colab": {
      "name": "Day 81 Lecture 2 Assignment.ipynb",
      "provenance": [],
      "collapsed_sections": []
    }
  },
  "cells": [
    {
      "cell_type": "markdown",
      "metadata": {
        "id": "fItOkGzK3YPp"
      },
      "source": [
        "## Day 76 Lecture 2 Assignment\n",
        "\n",
        "In this assignment, we will learn about Dask dataframes. We will use the census dataset loaded below and perform some exploratory data analysis."
      ]
    },
    {
      "cell_type": "code",
      "metadata": {
        "id": "tgsOiV2f3YPq"
      },
      "source": [
        "import dask.dataframe as dd\n",
        "import numpy as np"
      ],
      "execution_count": null,
      "outputs": []
    },
    {
      "cell_type": "code",
      "metadata": {
        "id": "l9K5TOwf3YPs"
      },
      "source": [
        "census = dd.read_csv('https://tf-assets-prod.s3.amazonaws.com/tf-curric/data-science/Data%20Sets%20Big%20Data/acs2015_census_tract_data.csv')"
      ],
      "execution_count": null,
      "outputs": []
    },
    {
      "cell_type": "code",
      "metadata": {
        "id": "6n4L9icX3YPu"
      },
      "source": [
        "census.head()"
      ],
      "execution_count": null,
      "outputs": []
    },
    {
      "cell_type": "markdown",
      "metadata": {
        "id": "s3PLTlvK3YPw"
      },
      "source": [
        "The dataset described above contains the aggregated data for each county in the United States. For example, the number in the Carpool column describes the percent of people in the county who carpool to work.\n",
        "\n",
        "Print all the column names in the dataset and describe the data in each column"
      ]
    },
    {
      "cell_type": "code",
      "metadata": {
        "id": "zP7hPQqB3YPw"
      },
      "source": [
        "#Answer below:\n"
      ],
      "execution_count": null,
      "outputs": []
    },
    {
      "cell_type": "markdown",
      "metadata": {
        "id": "LRgf7FwZ3YPy"
      },
      "source": [
        "How many counties have a unemployement rate above 10%?"
      ]
    },
    {
      "cell_type": "code",
      "metadata": {
        "id": "2DkNHwvE3YPz"
      },
      "source": [
        "#Answer below:\n",
        "\n"
      ],
      "execution_count": null,
      "outputs": []
    },
    {
      "cell_type": "markdown",
      "metadata": {
        "id": "ZoU-kYJB3YP1"
      },
      "source": [
        "Print the number of counties in each state."
      ]
    },
    {
      "cell_type": "code",
      "metadata": {
        "id": "BKY1hlZy3YP2"
      },
      "source": [
        "# Answer below:\n",
        "\n"
      ],
      "execution_count": null,
      "outputs": []
    },
    {
      "cell_type": "markdown",
      "metadata": {
        "id": "2qvYmnMq3YP3"
      },
      "source": [
        "Add a high child poverty boolean column. This column will be 1 if the rate of child poverty is over %20 and 0 otherwise."
      ]
    },
    {
      "cell_type": "code",
      "metadata": {
        "id": "-7k6Bt0h3YP4"
      },
      "source": [
        "# Answer below:\n",
        "\n"
      ],
      "execution_count": null,
      "outputs": []
    },
    {
      "cell_type": "markdown",
      "metadata": {
        "id": "-qX7zgZp3YP5"
      },
      "source": [
        "What are the top 10 most populated counties?"
      ]
    },
    {
      "cell_type": "code",
      "metadata": {
        "id": "cbS3zUDD3YP6"
      },
      "source": [
        "#answer below:\n",
        "\n"
      ],
      "execution_count": null,
      "outputs": []
    },
    {
      "cell_type": "markdown",
      "metadata": {
        "id": "a9InFOA33YP7"
      },
      "source": [
        "What is the current number of partitions? "
      ]
    },
    {
      "cell_type": "code",
      "metadata": {
        "id": "QgyS7E-m3YP8"
      },
      "source": [
        "#Answer below:\n",
        "\n"
      ],
      "execution_count": null,
      "outputs": []
    },
    {
      "cell_type": "code",
      "metadata": {
        "id": "8UQAUnDc3YP9"
      },
      "source": [
        ""
      ],
      "execution_count": null,
      "outputs": []
    }
  ]
}