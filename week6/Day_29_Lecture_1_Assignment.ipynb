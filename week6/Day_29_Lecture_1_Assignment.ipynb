{
  "nbformat": 4,
  "nbformat_minor": 0,
  "metadata": {
    "kernelspec": {
      "display_name": "Python 3",
      "language": "python",
      "name": "python3"
    },
    "language_info": {
      "codemirror_mode": {
        "name": "ipython",
        "version": 3
      },
      "file_extension": ".py",
      "mimetype": "text/x-python",
      "name": "python",
      "nbconvert_exporter": "python",
      "pygments_lexer": "ipython3",
      "version": "3.7.0"
    },
    "colab": {
      "name": "Copy of Day 29 Lecture 1 Assignment.ipynb",
      "provenance": [],
      "collapsed_sections": []
    }
  },
  "cells": [
    {
      "cell_type": "markdown",
      "metadata": {
        "id": "VqUtIOgdcSjK",
        "colab_type": "text"
      },
      "source": [
        "## Day 29 Lecture 1 Assignment\n",
        "\n",
        "In this assignment, we will learn about decision trees. We will use the Chicago salary dataset loaded below."
      ]
    },
    {
      "cell_type": "code",
      "metadata": {
        "id": "JOsKrr-kcSjL",
        "colab_type": "code",
        "colab": {
          "base_uri": "https://localhost:8080/",
          "height": 54
        },
        "outputId": "b70e397a-1dca-4811-db5b-75d591992ebb"
      },
      "source": [
        "%matplotlib inline\n",
        "\n",
        "import matplotlib.pyplot as plt\n",
        "import numpy as np\n",
        "import pandas as pd\n",
        "import seaborn as sns\n",
        "\n",
        "from sklearn.model_selection import train_test_split\n",
        "from sklearn.tree import DecisionTreeRegressor, plot_tree"
      ],
      "execution_count": null,
      "outputs": [
        {
          "output_type": "stream",
          "text": [
            "/usr/local/lib/python3.6/dist-packages/statsmodels/tools/_testing.py:19: FutureWarning: pandas.util.testing is deprecated. Use the functions in the public API at pandas.testing instead.\n",
            "  import pandas.util.testing as tm\n"
          ],
          "name": "stderr"
        }
      ]
    },
    {
      "cell_type": "code",
      "metadata": {
        "id": "2vSkCX1rcSjN",
        "colab_type": "code",
        "colab": {}
      },
      "source": [
        "chicago = pd.read_csv('https://tf-assets-prod.s3.amazonaws.com/tf-curric/data-science/Current_Employee_Names__Salaries__and_Position_Titles.csv')"
      ],
      "execution_count": null,
      "outputs": []
    },
    {
      "cell_type": "code",
      "metadata": {
        "id": "PoyrvgWqcSjP",
        "colab_type": "code",
        "colab": {
          "base_uri": "https://localhost:8080/",
          "height": 290
        },
        "outputId": "292c2276-b8b7-4abe-9c1c-ab88e641cf2c"
      },
      "source": [
        "chicago.info()"
      ],
      "execution_count": null,
      "outputs": [
        {
          "output_type": "stream",
          "text": [
            "<class 'pandas.core.frame.DataFrame'>\n",
            "RangeIndex: 32658 entries, 0 to 32657\n",
            "Data columns (total 8 columns):\n",
            " #   Column             Non-Null Count  Dtype  \n",
            "---  ------             --------------  -----  \n",
            " 0   Name               32658 non-null  object \n",
            " 1   Job Titles         32658 non-null  object \n",
            " 2   Department         32658 non-null  object \n",
            " 3   Full or Part-Time  32658 non-null  object \n",
            " 4   Salary or Hourly   32658 non-null  object \n",
            " 5   Typical Hours      7883 non-null   float64\n",
            " 6   Annual Salary      24775 non-null  object \n",
            " 7   Hourly Rate        7883 non-null   object \n",
            "dtypes: float64(1), object(7)\n",
            "memory usage: 2.0+ MB\n"
          ],
          "name": "stdout"
        }
      ]
    },
    {
      "cell_type": "markdown",
      "metadata": {
        "id": "Yvk4IgCocSjQ",
        "colab_type": "text"
      },
      "source": [
        "To simplify this problem, we will limit our model to only salary employees. Create a new dataset that does not contain any hourly employees."
      ]
    },
    {
      "cell_type": "code",
      "metadata": {
        "id": "X8mndXF2cSjR",
        "colab_type": "code",
        "colab": {}
      },
      "source": [
        "salary = chicago[chicago['Salary or Hourly'] == 'Salary']"
      ],
      "execution_count": null,
      "outputs": []
    },
    {
      "cell_type": "markdown",
      "metadata": {
        "id": "IjEAhiyfcSjT",
        "colab_type": "text"
      },
      "source": [
        "Next, we will look at the count of all values for both job titles and department to ensure that we don't use features that are too sparse in our model."
      ]
    },
    {
      "cell_type": "code",
      "metadata": {
        "id": "MVV4JZrAlDIB",
        "colab_type": "code",
        "colab": {}
      },
      "source": [
        "job_counts = salary['Job Titles'].value_counts()"
      ],
      "execution_count": null,
      "outputs": []
    },
    {
      "cell_type": "code",
      "metadata": {
        "id": "Ctcw1nJJl8GP",
        "colab_type": "code",
        "colab": {}
      },
      "source": [
        "job_index = job_counts[job_counts > 100].index"
      ],
      "execution_count": null,
      "outputs": []
    },
    {
      "cell_type": "code",
      "metadata": {
        "id": "JJs5NySYkM7W",
        "colab_type": "code",
        "colab": {}
      },
      "source": [
        "chicago = salary[salary['Job Titles'].isin(job_index)]"
      ],
      "execution_count": null,
      "outputs": []
    },
    {
      "cell_type": "code",
      "metadata": {
        "id": "wcMtV3rSm4VA",
        "colab_type": "code",
        "colab": {
          "base_uri": "https://localhost:8080/",
          "height": 563
        },
        "outputId": "e540b4bd-7f59-4442-b6d9-f081ef9305cd"
      },
      "source": [
        "chicago['Job Titles'].value_counts()"
      ],
      "execution_count": null,
      "outputs": [
        {
          "output_type": "execute_result",
          "data": {
            "text/plain": [
              "POLICE OFFICER                                   9393\n",
              "FIREFIGHTER-EMT                                  1424\n",
              "SERGEANT                                         1118\n",
              "POLICE OFFICER (ASSIGNED AS DETECTIVE)            845\n",
              "FIREFIGHTER                                       564\n",
              "LIEUTENANT-EMT                                    398\n",
              "LIEUTENANT                                        356\n",
              "FIREFIGHTER-EMT (RECRUIT)                         319\n",
              "PARAMEDIC I/C                                     291\n",
              "FIREFIGHTER/PARAMEDIC                             278\n",
              "PARAMEDIC                                         252\n",
              "AVIATION SECURITY OFFICER                         251\n",
              "POLICE COMMUNICATIONS OPERATOR I                  245\n",
              "POLICE COMMUNICATIONS OPERATOR II                 227\n",
              "DETENTION AIDE                                    226\n",
              "FIRE ENGINEER-EMT                                 226\n",
              "ASST CORPORATION COUNSEL                          136\n",
              "SENIOR DATA ENTRY OPERATOR                        135\n",
              "CAPTAIN-EMT                                       132\n",
              "POLICE ADMINISTRATIVE CLERK                       131\n",
              "ADMINISTRATIVE ASST II                            131\n",
              "STAFF ASST                                        128\n",
              "POLICE OFFICER / FLD TRNG OFFICER                 126\n",
              "LIBRARIAN I                                       118\n",
              "FIRE ENGINEER                                     116\n",
              "ADMINISTRATIVE ASST III                           109\n",
              "PARKING ENFORCEMENT AIDE                          109\n",
              "FIREFIGHTER (PER ARBITRATORS AWARD)-PARAMEDIC     108\n",
              "STAFF ASST TO THE ALDERMAN                        107\n",
              "Name: Job Titles, dtype: int64"
            ]
          },
          "metadata": {
            "tags": []
          },
          "execution_count": 8
        }
      ]
    },
    {
      "cell_type": "code",
      "metadata": {
        "id": "qgQtg2M4nZt7",
        "colab_type": "code",
        "colab": {
          "base_uri": "https://localhost:8080/",
          "height": 563
        },
        "outputId": "1e3ee41b-3761-4c82-8a66-b0c590534f2d"
      },
      "source": [
        "chicago['Department'].value_counts()"
      ],
      "execution_count": null,
      "outputs": [
        {
          "output_type": "execute_result",
          "data": {
            "text/plain": [
              "POLICE                   12173\n",
              "FIRE                      4264\n",
              "OEMC                       476\n",
              "AVIATION                   299\n",
              "LAW                        144\n",
              "PUBLIC LIBRARY             140\n",
              "FINANCE                    134\n",
              "CITY COUNCIL               107\n",
              "HEALTH                      38\n",
              "TRANSPORTN                  36\n",
              "BUILDINGS                   29\n",
              "FAMILY & SUPPORT            26\n",
              "ADMIN HEARNG                24\n",
              "BUSINESS AFFAIRS            23\n",
              "WATER MGMNT                 21\n",
              "COMMUNITY DEVELOPMENT       16\n",
              "GENERAL SERVICES            13\n",
              "STREETS & SAN               13\n",
              "CITY CLERK                   8\n",
              "PROCUREMENT                  5\n",
              "IPRA                         2\n",
              "HUMAN RELATIONS              1\n",
              "LICENSE APPL COMM            1\n",
              "INSPECTOR GEN                1\n",
              "DISABILITIES                 1\n",
              "ANIMAL CONTRL                1\n",
              "DoIT                         1\n",
              "BOARD OF ETHICS              1\n",
              "TREASURER                    1\n",
              "Name: Department, dtype: int64"
            ]
          },
          "metadata": {
            "tags": []
          },
          "execution_count": 9
        }
      ]
    },
    {
      "cell_type": "code",
      "metadata": {
        "id": "yf1MuNKPniXi",
        "colab_type": "code",
        "colab": {}
      },
      "source": [
        "dep_counts = chicago['Department'].value_counts()\n",
        "dep_index = dep_counts[dep_counts > 5].index\n",
        "chicago = chicago[chicago['Department'].isin(dep_index)]"
      ],
      "execution_count": null,
      "outputs": []
    },
    {
      "cell_type": "markdown",
      "metadata": {
        "id": "KH4kKrHVcSjX",
        "colab_type": "text"
      },
      "source": [
        "Remove all irrelevant columns (Name, Job Titles, Salary or Hourly, Typical Hours, Hourly Rate)"
      ]
    },
    {
      "cell_type": "code",
      "metadata": {
        "id": "h-MaRcptcSjX",
        "colab_type": "code",
        "colab": {}
      },
      "source": [
        "chicago = chicago.drop(columns=['Name', 'Job Titles', 'Salary or Hourly', 'Typical Hours', 'Hourly Rate'])\n",
        "\n"
      ],
      "execution_count": null,
      "outputs": []
    },
    {
      "cell_type": "code",
      "metadata": {
        "id": "Ns-7AwMIpeor",
        "colab_type": "code",
        "colab": {}
      },
      "source": [
        "chicago['Annual Salary'] = chicago['Annual Salary'].str.replace('$', '')\n",
        "chicago['Annual Salary'] = pd.to_numeric(chicago['Annual Salary'])"
      ],
      "execution_count": null,
      "outputs": []
    },
    {
      "cell_type": "code",
      "metadata": {
        "id": "jULGa2lHp5TU",
        "colab_type": "code",
        "colab": {
          "base_uri": "https://localhost:8080/",
          "height": 199
        },
        "outputId": "5c9ee8fd-e76f-4e5d-d82e-3229b20246e0"
      },
      "source": [
        "chicago.info()"
      ],
      "execution_count": null,
      "outputs": [
        {
          "output_type": "stream",
          "text": [
            "<class 'pandas.core.frame.DataFrame'>\n",
            "Int64Index: 17984 entries, 0 to 32656\n",
            "Data columns (total 3 columns):\n",
            " #   Column             Non-Null Count  Dtype  \n",
            "---  ------             --------------  -----  \n",
            " 0   Department         17984 non-null  object \n",
            " 1   Full or Part-Time  17984 non-null  object \n",
            " 2   Annual Salary      17984 non-null  float64\n",
            "dtypes: float64(1), object(2)\n",
            "memory usage: 562.0+ KB\n"
          ],
          "name": "stdout"
        }
      ]
    },
    {
      "cell_type": "markdown",
      "metadata": {
        "id": "S8wwWbE5cSjV",
        "colab_type": "text"
      },
      "source": [
        "Choose the between department and job title and use the variable with the smallest number of values to for one hot encoding. Additionally, create dummy variables for full ot part-time."
      ]
    },
    {
      "cell_type": "code",
      "metadata": {
        "id": "1Y017CXqcSjV",
        "colab_type": "code",
        "colab": {}
      },
      "source": [
        "chicago = pd.get_dummies(chicago)"
      ],
      "execution_count": null,
      "outputs": []
    },
    {
      "cell_type": "code",
      "metadata": {
        "id": "o4cRttOcojuR",
        "colab_type": "code",
        "colab": {
          "base_uri": "https://localhost:8080/",
          "height": 270
        },
        "outputId": "a0991dc3-4112-4942-ffcf-4ec312b90888"
      },
      "source": [
        "chicago.head()"
      ],
      "execution_count": null,
      "outputs": [
        {
          "output_type": "execute_result",
          "data": {
            "text/html": [
              "<div>\n",
              "<style scoped>\n",
              "    .dataframe tbody tr th:only-of-type {\n",
              "        vertical-align: middle;\n",
              "    }\n",
              "\n",
              "    .dataframe tbody tr th {\n",
              "        vertical-align: top;\n",
              "    }\n",
              "\n",
              "    .dataframe thead th {\n",
              "        text-align: right;\n",
              "    }\n",
              "</style>\n",
              "<table border=\"1\" class=\"dataframe\">\n",
              "  <thead>\n",
              "    <tr style=\"text-align: right;\">\n",
              "      <th></th>\n",
              "      <th>Annual Salary</th>\n",
              "      <th>Department_ADMIN HEARNG</th>\n",
              "      <th>Department_AVIATION</th>\n",
              "      <th>Department_BUILDINGS</th>\n",
              "      <th>Department_BUSINESS AFFAIRS</th>\n",
              "      <th>Department_CITY CLERK</th>\n",
              "      <th>Department_CITY COUNCIL</th>\n",
              "      <th>Department_COMMUNITY DEVELOPMENT</th>\n",
              "      <th>Department_FAMILY &amp; SUPPORT</th>\n",
              "      <th>Department_FINANCE</th>\n",
              "      <th>Department_FIRE</th>\n",
              "      <th>Department_GENERAL SERVICES</th>\n",
              "      <th>Department_HEALTH</th>\n",
              "      <th>Department_LAW</th>\n",
              "      <th>Department_OEMC</th>\n",
              "      <th>Department_POLICE</th>\n",
              "      <th>Department_PUBLIC LIBRARY</th>\n",
              "      <th>Department_STREETS &amp; SAN</th>\n",
              "      <th>Department_TRANSPORTN</th>\n",
              "      <th>Department_WATER MGMNT</th>\n",
              "      <th>Full or Part-Time_F</th>\n",
              "      <th>Full or Part-Time_P</th>\n",
              "    </tr>\n",
              "  </thead>\n",
              "  <tbody>\n",
              "    <tr>\n",
              "      <th>0</th>\n",
              "      <td>107790.0</td>\n",
              "      <td>0</td>\n",
              "      <td>0</td>\n",
              "      <td>0</td>\n",
              "      <td>0</td>\n",
              "      <td>0</td>\n",
              "      <td>0</td>\n",
              "      <td>0</td>\n",
              "      <td>0</td>\n",
              "      <td>0</td>\n",
              "      <td>1</td>\n",
              "      <td>0</td>\n",
              "      <td>0</td>\n",
              "      <td>0</td>\n",
              "      <td>0</td>\n",
              "      <td>0</td>\n",
              "      <td>0</td>\n",
              "      <td>0</td>\n",
              "      <td>0</td>\n",
              "      <td>0</td>\n",
              "      <td>1</td>\n",
              "      <td>0</td>\n",
              "    </tr>\n",
              "    <tr>\n",
              "      <th>1</th>\n",
              "      <td>104628.0</td>\n",
              "      <td>0</td>\n",
              "      <td>0</td>\n",
              "      <td>0</td>\n",
              "      <td>0</td>\n",
              "      <td>0</td>\n",
              "      <td>0</td>\n",
              "      <td>0</td>\n",
              "      <td>0</td>\n",
              "      <td>0</td>\n",
              "      <td>0</td>\n",
              "      <td>0</td>\n",
              "      <td>0</td>\n",
              "      <td>0</td>\n",
              "      <td>0</td>\n",
              "      <td>1</td>\n",
              "      <td>0</td>\n",
              "      <td>0</td>\n",
              "      <td>0</td>\n",
              "      <td>0</td>\n",
              "      <td>1</td>\n",
              "      <td>0</td>\n",
              "    </tr>\n",
              "    <tr>\n",
              "      <th>2</th>\n",
              "      <td>114324.0</td>\n",
              "      <td>0</td>\n",
              "      <td>0</td>\n",
              "      <td>0</td>\n",
              "      <td>0</td>\n",
              "      <td>0</td>\n",
              "      <td>0</td>\n",
              "      <td>0</td>\n",
              "      <td>0</td>\n",
              "      <td>0</td>\n",
              "      <td>1</td>\n",
              "      <td>0</td>\n",
              "      <td>0</td>\n",
              "      <td>0</td>\n",
              "      <td>0</td>\n",
              "      <td>0</td>\n",
              "      <td>0</td>\n",
              "      <td>0</td>\n",
              "      <td>0</td>\n",
              "      <td>0</td>\n",
              "      <td>1</td>\n",
              "      <td>0</td>\n",
              "    </tr>\n",
              "    <tr>\n",
              "      <th>3</th>\n",
              "      <td>76932.0</td>\n",
              "      <td>0</td>\n",
              "      <td>0</td>\n",
              "      <td>0</td>\n",
              "      <td>0</td>\n",
              "      <td>0</td>\n",
              "      <td>0</td>\n",
              "      <td>0</td>\n",
              "      <td>0</td>\n",
              "      <td>0</td>\n",
              "      <td>0</td>\n",
              "      <td>0</td>\n",
              "      <td>0</td>\n",
              "      <td>1</td>\n",
              "      <td>0</td>\n",
              "      <td>0</td>\n",
              "      <td>0</td>\n",
              "      <td>0</td>\n",
              "      <td>0</td>\n",
              "      <td>0</td>\n",
              "      <td>1</td>\n",
              "      <td>0</td>\n",
              "    </tr>\n",
              "    <tr>\n",
              "      <th>4</th>\n",
              "      <td>111474.0</td>\n",
              "      <td>0</td>\n",
              "      <td>0</td>\n",
              "      <td>0</td>\n",
              "      <td>0</td>\n",
              "      <td>0</td>\n",
              "      <td>0</td>\n",
              "      <td>0</td>\n",
              "      <td>0</td>\n",
              "      <td>0</td>\n",
              "      <td>0</td>\n",
              "      <td>0</td>\n",
              "      <td>0</td>\n",
              "      <td>0</td>\n",
              "      <td>0</td>\n",
              "      <td>1</td>\n",
              "      <td>0</td>\n",
              "      <td>0</td>\n",
              "      <td>0</td>\n",
              "      <td>0</td>\n",
              "      <td>1</td>\n",
              "      <td>0</td>\n",
              "    </tr>\n",
              "  </tbody>\n",
              "</table>\n",
              "</div>"
            ],
            "text/plain": [
              "   Annual Salary  ...  Full or Part-Time_P\n",
              "0       107790.0  ...                    0\n",
              "1       104628.0  ...                    0\n",
              "2       114324.0  ...                    0\n",
              "3        76932.0  ...                    0\n",
              "4       111474.0  ...                    0\n",
              "\n",
              "[5 rows x 22 columns]"
            ]
          },
          "metadata": {
            "tags": []
          },
          "execution_count": 15
        }
      ]
    },
    {
      "cell_type": "code",
      "metadata": {
        "id": "T1y72CLvofvY",
        "colab_type": "code",
        "colab": {}
      },
      "source": [
        "chicago = chicago.drop(columns= ['Department_POLICE', 'Full or Part-Time_F'])"
      ],
      "execution_count": null,
      "outputs": []
    },
    {
      "cell_type": "markdown",
      "metadata": {
        "id": "MttxKtdscSjZ",
        "colab_type": "text"
      },
      "source": [
        "Check that none of the remaining columns are of object type and convert them to numeric if they are of object type."
      ]
    },
    {
      "cell_type": "code",
      "metadata": {
        "id": "W34P6H5KcSjZ",
        "colab_type": "code",
        "colab": {
          "base_uri": "https://localhost:8080/",
          "height": 399
        },
        "outputId": "03d22a51-dd09-476b-eb98-7cf247115f1a"
      },
      "source": [
        "chicago.dtypes"
      ],
      "execution_count": null,
      "outputs": [
        {
          "output_type": "execute_result",
          "data": {
            "text/plain": [
              "Annual Salary                       float64\n",
              "Department_ADMIN HEARNG               uint8\n",
              "Department_AVIATION                   uint8\n",
              "Department_BUILDINGS                  uint8\n",
              "Department_BUSINESS AFFAIRS           uint8\n",
              "Department_CITY CLERK                 uint8\n",
              "Department_CITY COUNCIL               uint8\n",
              "Department_COMMUNITY DEVELOPMENT      uint8\n",
              "Department_FAMILY & SUPPORT           uint8\n",
              "Department_FINANCE                    uint8\n",
              "Department_FIRE                       uint8\n",
              "Department_GENERAL SERVICES           uint8\n",
              "Department_HEALTH                     uint8\n",
              "Department_LAW                        uint8\n",
              "Department_OEMC                       uint8\n",
              "Department_PUBLIC LIBRARY             uint8\n",
              "Department_STREETS & SAN              uint8\n",
              "Department_TRANSPORTN                 uint8\n",
              "Department_WATER MGMNT                uint8\n",
              "Full or Part-Time_P                   uint8\n",
              "dtype: object"
            ]
          },
          "metadata": {
            "tags": []
          },
          "execution_count": 17
        }
      ]
    },
    {
      "cell_type": "markdown",
      "metadata": {
        "id": "OrKDy_59cSjb",
        "colab_type": "text"
      },
      "source": [
        "Split the data into a test and train sample. Use annual salary as the dependent variable. 20% of the data should be assigned to the test sample."
      ]
    },
    {
      "cell_type": "code",
      "metadata": {
        "id": "_s85YxVZcSjb",
        "colab_type": "code",
        "colab": {}
      },
      "source": [
        "X = chicago.drop(columns=['Annual Salary'])\n",
        "\n",
        "y = chicago['Annual Salary']"
      ],
      "execution_count": null,
      "outputs": []
    },
    {
      "cell_type": "code",
      "metadata": {
        "id": "aFSWhNXRqEBR",
        "colab_type": "code",
        "colab": {}
      },
      "source": [
        "X_train, X_test, y_train, y_test = train_test_split(X, y, test_size = 0.2, random_state = 42)"
      ],
      "execution_count": null,
      "outputs": []
    },
    {
      "cell_type": "markdown",
      "metadata": {
        "id": "D_paBe77cSjd",
        "colab_type": "text"
      },
      "source": [
        "Generate a regession decision tree using `DecisionTreeRegressor` in sklearn. Fit the model on the training set and calculate the score for both train and test."
      ]
    },
    {
      "cell_type": "code",
      "metadata": {
        "id": "OkLxsJCwcSjd",
        "colab_type": "code",
        "colab": {
          "base_uri": "https://localhost:8080/",
          "height": 126
        },
        "outputId": "7041bea9-27fa-4a74-cb16-8f8e065f7be6"
      },
      "source": [
        "model = DecisionTreeRegressor()\n",
        "model.fit(X_train, y_train)"
      ],
      "execution_count": null,
      "outputs": [
        {
          "output_type": "execute_result",
          "data": {
            "text/plain": [
              "DecisionTreeRegressor(ccp_alpha=0.0, criterion='mse', max_depth=None,\n",
              "                      max_features=None, max_leaf_nodes=None,\n",
              "                      min_impurity_decrease=0.0, min_impurity_split=None,\n",
              "                      min_samples_leaf=1, min_samples_split=2,\n",
              "                      min_weight_fraction_leaf=0.0, presort='deprecated',\n",
              "                      random_state=None, splitter='best')"
            ]
          },
          "metadata": {
            "tags": []
          },
          "execution_count": 29
        }
      ]
    },
    {
      "cell_type": "code",
      "metadata": {
        "id": "APiJlRhIcSjf",
        "colab_type": "code",
        "colab": {
          "base_uri": "https://localhost:8080/",
          "height": 35
        },
        "outputId": "59d3c7ee-30b6-4d25-df01-f89eab6b6b8d"
      },
      "source": [
        "model.score(X_train, y_train)"
      ],
      "execution_count": null,
      "outputs": [
        {
          "output_type": "execute_result",
          "data": {
            "text/plain": [
              "0.18841512522726878"
            ]
          },
          "metadata": {
            "tags": []
          },
          "execution_count": 30
        }
      ]
    },
    {
      "cell_type": "code",
      "metadata": {
        "id": "UIQ-sD1WqWvT",
        "colab_type": "code",
        "colab": {
          "base_uri": "https://localhost:8080/",
          "height": 35
        },
        "outputId": "20b654b0-4a99-4630-954c-dcdb6e7866a5"
      },
      "source": [
        "model.score(X_test, y_test)"
      ],
      "execution_count": null,
      "outputs": [
        {
          "output_type": "execute_result",
          "data": {
            "text/plain": [
              "0.21136043788978542"
            ]
          },
          "metadata": {
            "tags": []
          },
          "execution_count": 31
        }
      ]
    },
    {
      "cell_type": "code",
      "metadata": {
        "id": "sZa8rDyUqbY7",
        "colab_type": "code",
        "colab": {}
      },
      "source": [
        ""
      ],
      "execution_count": null,
      "outputs": []
    }
  ]
}